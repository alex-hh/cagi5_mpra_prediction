{
 "cells": [
  {
   "cell_type": "markdown",
   "metadata": {},
   "source": [
    "We store the current best model in this notebook"
   ]
  },
  {
   "cell_type": "code",
   "execution_count": 1,
   "metadata": {},
   "outputs": [],
   "source": [
    "import pandas as pd\n",
    "import numpy as np\n",
    "import matplotlib.pyplot as plt\n",
    "from sklearn.metrics import accuracy_score, roc_auc_score, average_precision_score, \\\n",
    "    precision_recall_curve, auc\n",
    "from sklearn.preprocessing.label import LabelBinarizer\n",
    "from models import DeepSeaSNP, Conservation, SNPContext, MultiFeatures, EnhancerOneHot, \\\n",
    "    SubstitutionOneHot, DNase, Classifier, Regression, Stacked\n",
    "from cagi5_utils import get_breakpoint_df\n",
    "from crossval import ChunkCV, PerElementOperator, CVOperator, df_cv_split\n",
    "from utils import make_plots"
   ]
  },
  {
   "cell_type": "markdown",
   "metadata": {},
   "source": [
    "## Load data\n",
    "\n",
    "Read the training data with added conservation information."
   ]
  },
  {
   "cell_type": "code",
   "execution_count": 2,
   "metadata": {},
   "outputs": [
    {
     "data": {
      "text/html": [
       "<div>\n",
       "<style scoped>\n",
       "    .dataframe tbody tr th:only-of-type {\n",
       "        vertical-align: middle;\n",
       "    }\n",
       "\n",
       "    .dataframe tbody tr th {\n",
       "        vertical-align: top;\n",
       "    }\n",
       "\n",
       "    .dataframe thead th {\n",
       "        text-align: right;\n",
       "    }\n",
       "</style>\n",
       "<table border=\"1\" class=\"dataframe\">\n",
       "  <thead>\n",
       "    <tr style=\"text-align: right;\">\n",
       "      <th></th>\n",
       "      <th>#Chrom</th>\n",
       "      <th>Pos</th>\n",
       "      <th>Ref</th>\n",
       "      <th>Alt</th>\n",
       "      <th>Value</th>\n",
       "      <th>Confidence</th>\n",
       "      <th>class</th>\n",
       "      <th>regulatory_element</th>\n",
       "      <th>phastCon</th>\n",
       "      <th>phyloP</th>\n",
       "      <th>GerpN</th>\n",
       "      <th>GerpRS</th>\n",
       "    </tr>\n",
       "  </thead>\n",
       "  <tbody>\n",
       "    <tr>\n",
       "      <th>0</th>\n",
       "      <td>X</td>\n",
       "      <td>138612669</td>\n",
       "      <td>T</td>\n",
       "      <td>A</td>\n",
       "      <td>-0.17</td>\n",
       "      <td>0.07</td>\n",
       "      <td>0</td>\n",
       "      <td>release_F9</td>\n",
       "      <td>0.006</td>\n",
       "      <td>0.47</td>\n",
       "      <td>3.93</td>\n",
       "      <td>1.490</td>\n",
       "    </tr>\n",
       "    <tr>\n",
       "      <th>1</th>\n",
       "      <td>X</td>\n",
       "      <td>138612669</td>\n",
       "      <td>T</td>\n",
       "      <td>C</td>\n",
       "      <td>-0.26</td>\n",
       "      <td>0.24</td>\n",
       "      <td>-1</td>\n",
       "      <td>release_F9</td>\n",
       "      <td>0.006</td>\n",
       "      <td>0.47</td>\n",
       "      <td>3.93</td>\n",
       "      <td>1.490</td>\n",
       "    </tr>\n",
       "    <tr>\n",
       "      <th>2</th>\n",
       "      <td>X</td>\n",
       "      <td>138612669</td>\n",
       "      <td>T</td>\n",
       "      <td>G</td>\n",
       "      <td>0.34</td>\n",
       "      <td>0.05</td>\n",
       "      <td>0</td>\n",
       "      <td>release_F9</td>\n",
       "      <td>0.006</td>\n",
       "      <td>0.47</td>\n",
       "      <td>3.93</td>\n",
       "      <td>1.490</td>\n",
       "    </tr>\n",
       "    <tr>\n",
       "      <th>3</th>\n",
       "      <td>X</td>\n",
       "      <td>138612670</td>\n",
       "      <td>A</td>\n",
       "      <td>C</td>\n",
       "      <td>0.00</td>\n",
       "      <td>0.00</td>\n",
       "      <td>0</td>\n",
       "      <td>release_F9</td>\n",
       "      <td>0.008</td>\n",
       "      <td>0.47</td>\n",
       "      <td>3.93</td>\n",
       "      <td>0.337</td>\n",
       "    </tr>\n",
       "    <tr>\n",
       "      <th>4</th>\n",
       "      <td>X</td>\n",
       "      <td>138612670</td>\n",
       "      <td>A</td>\n",
       "      <td>G</td>\n",
       "      <td>0.22</td>\n",
       "      <td>0.20</td>\n",
       "      <td>1</td>\n",
       "      <td>release_F9</td>\n",
       "      <td>0.008</td>\n",
       "      <td>0.47</td>\n",
       "      <td>3.93</td>\n",
       "      <td>0.337</td>\n",
       "    </tr>\n",
       "  </tbody>\n",
       "</table>\n",
       "</div>"
      ],
      "text/plain": [
       "  #Chrom        Pos Ref Alt  Value  Confidence  class regulatory_element  \\\n",
       "0      X  138612669   T   A  -0.17        0.07      0         release_F9   \n",
       "1      X  138612669   T   C  -0.26        0.24     -1         release_F9   \n",
       "2      X  138612669   T   G   0.34        0.05      0         release_F9   \n",
       "3      X  138612670   A   C   0.00        0.00      0         release_F9   \n",
       "4      X  138612670   A   G   0.22        0.20      1         release_F9   \n",
       "\n",
       "   phastCon  phyloP  GerpN  GerpRS  \n",
       "0     0.006    0.47   3.93   1.490  \n",
       "1     0.006    0.47   3.93   1.490  \n",
       "2     0.006    0.47   3.93   1.490  \n",
       "3     0.008    0.47   3.93   0.337  \n",
       "4     0.008    0.47   3.93   0.337  "
      ]
     },
     "execution_count": 2,
     "metadata": {},
     "output_type": "execute_result"
    }
   ],
   "source": [
    "df = pd.read_csv('data/cagi5_df.csv')\n",
    "df.head()"
   ]
  },
  {
   "cell_type": "markdown",
   "metadata": {},
   "source": [
    "Split the training data into folds respecting the breakpoints."
   ]
  },
  {
   "cell_type": "code",
   "execution_count": 3,
   "metadata": {},
   "outputs": [
    {
     "data": {
      "text/plain": [
       "{'release_F9': [[3], [1], [0], [2], [4]],\n",
       " 'release_GP1BB': [[4, 2], [3], [1], [0], [5]],\n",
       " 'release_HBB': [[2], [1], [0], [], []],\n",
       " 'release_HBG1': [[1], [2], [0], [3], []],\n",
       " 'release_HNF4A': [[1], [2], [0], [3], []],\n",
       " 'release_IRF4': [[2, 1], [6, 7], [5, 0], [3], [4]],\n",
       " 'release_IRF6': [[6, 1], [8, 5], [7, 4], [0, 3], [2]],\n",
       " 'release_LDLR': [[1], [0], [3], [4], [2]],\n",
       " 'release_MSMB': [[5, 1], [3, 0], [4, 2], [7, 8], [6]],\n",
       " 'release_MYCrs6983267': [[8, 7], [4, 1], [5, 6], [0, 2], [3]],\n",
       " 'release_PKLR': [[3, 7], [4, 5], [6, 1], [2], [0]],\n",
       " 'release_SORT1': [[8, 5], [1, 4], [0, 3], [7, 2], [6]],\n",
       " 'release_TERT-GBM': [[1], [3], [0], [4], [2]],\n",
       " 'release_TERT-HEK293T': [[2], [3], [0], [4], [1]],\n",
       " 'release_ZFAND3': [[5, 3, 8], [0, 4], [1, 6], [2, 7], [10, 9]]}"
      ]
     },
     "execution_count": 3,
     "metadata": {},
     "output_type": "execute_result"
    }
   ],
   "source": [
    "breakpoint_df = pd.read_csv('data/cagi5_bkpt.csv')\n",
    "nfolds = 5\n",
    "fold_dict = df_cv_split(breakpoint_df, nfolds)\n",
    "fold_dict"
   ]
  },
  {
   "cell_type": "markdown",
   "metadata": {},
   "source": [
    "## Create features"
   ]
  },
  {
   "cell_type": "code",
   "execution_count": 6,
   "metadata": {},
   "outputs": [],
   "source": [
    "deepseadiffs = DeepSeaSNP(feattypes=['diff'])\n",
    "dnase = DNase()\n",
    "subst = SubstitutionOneHot()\n",
    "enhancer1hot = EnhancerOneHot()\n",
    "snpcontext2 = SNPContext(context_size=2)\n",
    "snpcontext4 = SNPContext(context_size=4)\n",
    "conservation = Conservation()\n",
    "stacked = Stacked('deep-dnase-cons')"
   ]
  },
  {
   "cell_type": "markdown",
   "metadata": {},
   "source": [
    "### Multiple features"
   ]
  },
  {
   "cell_type": "code",
   "execution_count": 7,
   "metadata": {
    "scrolled": true
   },
   "outputs": [
    {
     "name": "stdout",
     "output_type": "stream",
     "text": [
      "Getting predictions for fold 0\n",
      "Getting predictions for fold 1\n",
      "Getting predictions for fold 2\n",
      "Getting predictions for fold 3\n",
      "Getting predictions for fold 4\n",
      "0.6916170407695832 0.427107956518521\n"
     ]
    },
    {
     "data": {
      "image/png": "[encoded data removed]",
      "text/plain": [
       "<Figure size 1296x432 with 2 Axes>"
      ]
     },
     "metadata": {},
     "output_type": "display_data"
    }
   ],
   "source": [
    "multi = MultiFeatures([deepseadiffs, dnase, conservation, stacked])\n",
    "cv_chunk = ChunkCV(df,\n",
    "                   operator=PerElementOperator(CVOperator(\n",
    "                       Regression,\n",
    "                       model_kwargs={'features': multi, 'model_name': 'xgb'})),\n",
    "                   fold_dict=fold_dict)\n",
    "cv_regress = cv_chunk.get_cv_preds()\n",
    "(fpr, tpr, thresholds, auroc), (precision, recall, thresholds, auprc) = make_plots(cv_regress)\n",
    "print(auroc, auprc)"
   ]
  },
  {
   "cell_type": "code",
   "execution_count": null,
   "metadata": {},
   "outputs": [],
   "source": []
  }
 ],
 "metadata": {
  "kernelspec": {
   "display_name": "Python 3",
   "language": "python",
   "name": "python3"
  },
  "language_info": {
   "codemirror_mode": {
    "name": "ipython",
    "version": 3
   },
   "file_extension": ".py",
   "mimetype": "text/x-python",
   "name": "python",
   "nbconvert_exporter": "python",
   "pygments_lexer": "ipython3",
   "version": "3.5.2"
  }
 },
 "nbformat": 4,
 "nbformat_minor": 2
}
