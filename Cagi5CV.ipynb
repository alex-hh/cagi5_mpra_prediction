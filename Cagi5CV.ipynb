{
 "cells": [
  {
   "cell_type": "code",
   "execution_count": 1,
   "metadata": {},
   "outputs": [],
   "source": [
    "import pandas as pd\n",
    "import numpy as np\n",
    "import matplotlib.pyplot as plt\n",
    "from sklearn.metrics import accuracy_score, roc_auc_score, average_precision_score, \\\n",
    "    precision_recall_curve, auc\n",
    "from sklearn.preprocessing.label import LabelBinarizer\n",
    "from models import Classifier, Regression\n",
    "from models import DeepSeaSNP, Conservation, SNPContext, MultiFeatures, EnhancerOneHot, \\\n",
    "    SubstitutionOneHot, DNase\n",
    "from cagi5_utils import get_breakpoint_df\n",
    "from crossval import ChunkCV, CVOperator, df_cv_split\n",
    "from utils import make_plots"
   ]
  },
  {
   "cell_type": "markdown",
   "metadata": {},
   "source": [
    "## Load data\n",
    "\n",
    "Read the training data with added conservation information."
   ]
  },
  {
   "cell_type": "code",
   "execution_count": 2,
   "metadata": {},
   "outputs": [
    {
     "data": {
      "text/html": [
       "<div>\n",
       "<style scoped>\n",
       "    .dataframe tbody tr th:only-of-type {\n",
       "        vertical-align: middle;\n",
       "    }\n",
       "\n",
       "    .dataframe tbody tr th {\n",
       "        vertical-align: top;\n",
       "    }\n",
       "\n",
       "    .dataframe thead th {\n",
       "        text-align: right;\n",
       "    }\n",
       "</style>\n",
       "<table border=\"1\" class=\"dataframe\">\n",
       "  <thead>\n",
       "    <tr style=\"text-align: right;\">\n",
       "      <th></th>\n",
       "      <th>#Chrom</th>\n",
       "      <th>Pos</th>\n",
       "      <th>Ref</th>\n",
       "      <th>Alt</th>\n",
       "      <th>Value</th>\n",
       "      <th>Confidence</th>\n",
       "      <th>class</th>\n",
       "      <th>regulatory_element</th>\n",
       "      <th>phastCon</th>\n",
       "      <th>phyloP</th>\n",
       "      <th>GerpN</th>\n",
       "      <th>GerpRS</th>\n",
       "    </tr>\n",
       "  </thead>\n",
       "  <tbody>\n",
       "    <tr>\n",
       "      <th>0</th>\n",
       "      <td>X</td>\n",
       "      <td>138612669</td>\n",
       "      <td>T</td>\n",
       "      <td>A</td>\n",
       "      <td>-0.17</td>\n",
       "      <td>0.07</td>\n",
       "      <td>0</td>\n",
       "      <td>release_F9</td>\n",
       "      <td>0.006</td>\n",
       "      <td>0.47</td>\n",
       "      <td>3.93</td>\n",
       "      <td>1.490</td>\n",
       "    </tr>\n",
       "    <tr>\n",
       "      <th>1</th>\n",
       "      <td>X</td>\n",
       "      <td>138612669</td>\n",
       "      <td>T</td>\n",
       "      <td>C</td>\n",
       "      <td>-0.26</td>\n",
       "      <td>0.24</td>\n",
       "      <td>-1</td>\n",
       "      <td>release_F9</td>\n",
       "      <td>0.006</td>\n",
       "      <td>0.47</td>\n",
       "      <td>3.93</td>\n",
       "      <td>1.490</td>\n",
       "    </tr>\n",
       "    <tr>\n",
       "      <th>2</th>\n",
       "      <td>X</td>\n",
       "      <td>138612669</td>\n",
       "      <td>T</td>\n",
       "      <td>G</td>\n",
       "      <td>0.34</td>\n",
       "      <td>0.05</td>\n",
       "      <td>0</td>\n",
       "      <td>release_F9</td>\n",
       "      <td>0.006</td>\n",
       "      <td>0.47</td>\n",
       "      <td>3.93</td>\n",
       "      <td>1.490</td>\n",
       "    </tr>\n",
       "    <tr>\n",
       "      <th>3</th>\n",
       "      <td>X</td>\n",
       "      <td>138612670</td>\n",
       "      <td>A</td>\n",
       "      <td>C</td>\n",
       "      <td>0.00</td>\n",
       "      <td>0.00</td>\n",
       "      <td>0</td>\n",
       "      <td>release_F9</td>\n",
       "      <td>0.008</td>\n",
       "      <td>0.47</td>\n",
       "      <td>3.93</td>\n",
       "      <td>0.337</td>\n",
       "    </tr>\n",
       "    <tr>\n",
       "      <th>4</th>\n",
       "      <td>X</td>\n",
       "      <td>138612670</td>\n",
       "      <td>A</td>\n",
       "      <td>G</td>\n",
       "      <td>0.22</td>\n",
       "      <td>0.20</td>\n",
       "      <td>1</td>\n",
       "      <td>release_F9</td>\n",
       "      <td>0.008</td>\n",
       "      <td>0.47</td>\n",
       "      <td>3.93</td>\n",
       "      <td>0.337</td>\n",
       "    </tr>\n",
       "  </tbody>\n",
       "</table>\n",
       "</div>"
      ],
      "text/plain": [
       "  #Chrom        Pos Ref Alt  Value  Confidence  class regulatory_element  \\\n",
       "0      X  138612669   T   A  -0.17        0.07      0         release_F9   \n",
       "1      X  138612669   T   C  -0.26        0.24     -1         release_F9   \n",
       "2      X  138612669   T   G   0.34        0.05      0         release_F9   \n",
       "3      X  138612670   A   C   0.00        0.00      0         release_F9   \n",
       "4      X  138612670   A   G   0.22        0.20      1         release_F9   \n",
       "\n",
       "   phastCon  phyloP  GerpN  GerpRS  \n",
       "0     0.006    0.47   3.93   1.490  \n",
       "1     0.006    0.47   3.93   1.490  \n",
       "2     0.006    0.47   3.93   1.490  \n",
       "3     0.008    0.47   3.93   0.337  \n",
       "4     0.008    0.47   3.93   0.337  "
      ]
     },
     "execution_count": 2,
     "metadata": {},
     "output_type": "execute_result"
    }
   ],
   "source": [
    "df = pd.read_csv('data/cagi5_df.csv')\n",
    "df.head()"
   ]
  },
  {
   "cell_type": "markdown",
   "metadata": {},
   "source": [
    "TODO:\n",
    "* setup some way of fixing the folds over which cv is done\n",
    "* combine features from multiple layers with keras models\n",
    "* try the gifford ensembl model"
   ]
  },
  {
   "cell_type": "markdown",
   "metadata": {},
   "source": [
    "## Breakpoints\n",
    "\n",
    "Calculate the breakpoints inside each regulatory element."
   ]
  },
  {
   "cell_type": "code",
   "execution_count": 3,
   "metadata": {},
   "outputs": [
    {
     "data": {
      "text/html": [
       "<div>\n",
       "<style scoped>\n",
       "    .dataframe tbody tr th:only-of-type {\n",
       "        vertical-align: middle;\n",
       "    }\n",
       "\n",
       "    .dataframe tbody tr th {\n",
       "        vertical-align: top;\n",
       "    }\n",
       "\n",
       "    .dataframe thead th {\n",
       "        text-align: right;\n",
       "    }\n",
       "</style>\n",
       "<table border=\"1\" class=\"dataframe\">\n",
       "  <thead>\n",
       "    <tr style=\"text-align: right;\">\n",
       "      <th></th>\n",
       "      <th>#Chrom</th>\n",
       "      <th>Pos</th>\n",
       "      <th>Ref</th>\n",
       "      <th>Alt</th>\n",
       "      <th>Value</th>\n",
       "      <th>Confidence</th>\n",
       "      <th>class</th>\n",
       "      <th>regulatory_element</th>\n",
       "      <th>phastCon</th>\n",
       "      <th>phyloP</th>\n",
       "      <th>GerpN</th>\n",
       "      <th>GerpRS</th>\n",
       "      <th>is_break</th>\n",
       "      <th>chunk_length</th>\n",
       "      <th>is_start</th>\n",
       "      <th>chunk_id</th>\n",
       "    </tr>\n",
       "  </thead>\n",
       "  <tbody>\n",
       "    <tr>\n",
       "      <th>0</th>\n",
       "      <td>X</td>\n",
       "      <td>138612669</td>\n",
       "      <td>T</td>\n",
       "      <td>A</td>\n",
       "      <td>-0.17</td>\n",
       "      <td>0.07</td>\n",
       "      <td>0</td>\n",
       "      <td>release_F9</td>\n",
       "      <td>0.006</td>\n",
       "      <td>0.470</td>\n",
       "      <td>3.93</td>\n",
       "      <td>1.4900</td>\n",
       "      <td>start</td>\n",
       "      <td>NaN</td>\n",
       "      <td>True</td>\n",
       "      <td>0.0</td>\n",
       "    </tr>\n",
       "    <tr>\n",
       "      <th>47</th>\n",
       "      <td>X</td>\n",
       "      <td>138612684</td>\n",
       "      <td>G</td>\n",
       "      <td>T</td>\n",
       "      <td>-0.02</td>\n",
       "      <td>0.00</td>\n",
       "      <td>0</td>\n",
       "      <td>release_F9</td>\n",
       "      <td>0.048</td>\n",
       "      <td>-0.233</td>\n",
       "      <td>3.45</td>\n",
       "      <td>-2.0100</td>\n",
       "      <td>end</td>\n",
       "      <td>16.0</td>\n",
       "      <td>False</td>\n",
       "      <td>0.0</td>\n",
       "    </tr>\n",
       "    <tr>\n",
       "      <th>48</th>\n",
       "      <td>X</td>\n",
       "      <td>138612701</td>\n",
       "      <td>T</td>\n",
       "      <td>A</td>\n",
       "      <td>-0.36</td>\n",
       "      <td>0.37</td>\n",
       "      <td>-1</td>\n",
       "      <td>release_F9</td>\n",
       "      <td>0.009</td>\n",
       "      <td>0.470</td>\n",
       "      <td>3.27</td>\n",
       "      <td>1.9200</td>\n",
       "      <td>start</td>\n",
       "      <td>NaN</td>\n",
       "      <td>True</td>\n",
       "      <td>1.0</td>\n",
       "    </tr>\n",
       "    <tr>\n",
       "      <th>95</th>\n",
       "      <td>X</td>\n",
       "      <td>138612716</td>\n",
       "      <td>G</td>\n",
       "      <td>T</td>\n",
       "      <td>-0.15</td>\n",
       "      <td>0.04</td>\n",
       "      <td>0</td>\n",
       "      <td>release_F9</td>\n",
       "      <td>0.055</td>\n",
       "      <td>0.581</td>\n",
       "      <td>3.32</td>\n",
       "      <td>0.4310</td>\n",
       "      <td>end</td>\n",
       "      <td>16.0</td>\n",
       "      <td>False</td>\n",
       "      <td>1.0</td>\n",
       "    </tr>\n",
       "    <tr>\n",
       "      <th>96</th>\n",
       "      <td>X</td>\n",
       "      <td>138612765</td>\n",
       "      <td>C</td>\n",
       "      <td>A</td>\n",
       "      <td>0.07</td>\n",
       "      <td>0.01</td>\n",
       "      <td>0</td>\n",
       "      <td>release_F9</td>\n",
       "      <td>0.420</td>\n",
       "      <td>-0.304</td>\n",
       "      <td>4.22</td>\n",
       "      <td>0.2990</td>\n",
       "      <td>start</td>\n",
       "      <td>NaN</td>\n",
       "      <td>True</td>\n",
       "      <td>2.0</td>\n",
       "    </tr>\n",
       "    <tr>\n",
       "      <th>143</th>\n",
       "      <td>X</td>\n",
       "      <td>138612780</td>\n",
       "      <td>T</td>\n",
       "      <td>G</td>\n",
       "      <td>0.18</td>\n",
       "      <td>0.02</td>\n",
       "      <td>0</td>\n",
       "      <td>release_F9</td>\n",
       "      <td>0.525</td>\n",
       "      <td>0.470</td>\n",
       "      <td>4.69</td>\n",
       "      <td>4.6900</td>\n",
       "      <td>end</td>\n",
       "      <td>16.0</td>\n",
       "      <td>False</td>\n",
       "      <td>2.0</td>\n",
       "    </tr>\n",
       "    <tr>\n",
       "      <th>144</th>\n",
       "      <td>X</td>\n",
       "      <td>138612877</td>\n",
       "      <td>G</td>\n",
       "      <td>A</td>\n",
       "      <td>-0.09</td>\n",
       "      <td>0.05</td>\n",
       "      <td>0</td>\n",
       "      <td>release_F9</td>\n",
       "      <td>0.864</td>\n",
       "      <td>0.581</td>\n",
       "      <td>5.08</td>\n",
       "      <td>5.0800</td>\n",
       "      <td>start</td>\n",
       "      <td>NaN</td>\n",
       "      <td>True</td>\n",
       "      <td>3.0</td>\n",
       "    </tr>\n",
       "    <tr>\n",
       "      <th>190</th>\n",
       "      <td>X</td>\n",
       "      <td>138612892</td>\n",
       "      <td>C</td>\n",
       "      <td>T</td>\n",
       "      <td>0.12</td>\n",
       "      <td>0.01</td>\n",
       "      <td>0</td>\n",
       "      <td>release_F9</td>\n",
       "      <td>0.508</td>\n",
       "      <td>0.581</td>\n",
       "      <td>5.08</td>\n",
       "      <td>1.7900</td>\n",
       "      <td>end</td>\n",
       "      <td>16.0</td>\n",
       "      <td>False</td>\n",
       "      <td>3.0</td>\n",
       "    </tr>\n",
       "    <tr>\n",
       "      <th>191</th>\n",
       "      <td>X</td>\n",
       "      <td>138612909</td>\n",
       "      <td>C</td>\n",
       "      <td>A</td>\n",
       "      <td>0.05</td>\n",
       "      <td>0.02</td>\n",
       "      <td>0</td>\n",
       "      <td>release_F9</td>\n",
       "      <td>0.453</td>\n",
       "      <td>0.581</td>\n",
       "      <td>5.08</td>\n",
       "      <td>0.0736</td>\n",
       "      <td>start</td>\n",
       "      <td>NaN</td>\n",
       "      <td>True</td>\n",
       "      <td>4.0</td>\n",
       "    </tr>\n",
       "    <tr>\n",
       "      <th>235</th>\n",
       "      <td>X</td>\n",
       "      <td>138612924</td>\n",
       "      <td>A</td>\n",
       "      <td>G</td>\n",
       "      <td>-0.01</td>\n",
       "      <td>0.00</td>\n",
       "      <td>0</td>\n",
       "      <td>release_F9</td>\n",
       "      <td>0.614</td>\n",
       "      <td>0.470</td>\n",
       "      <td>4.55</td>\n",
       "      <td>0.6710</td>\n",
       "      <td>end</td>\n",
       "      <td>16.0</td>\n",
       "      <td>False</td>\n",
       "      <td>4.0</td>\n",
       "    </tr>\n",
       "    <tr>\n",
       "      <th>236</th>\n",
       "      <td>22</td>\n",
       "      <td>19710804</td>\n",
       "      <td>T</td>\n",
       "      <td>A</td>\n",
       "      <td>0.01</td>\n",
       "      <td>0.00</td>\n",
       "      <td>0</td>\n",
       "      <td>release_GP1BB</td>\n",
       "      <td>0.894</td>\n",
       "      <td>0.455</td>\n",
       "      <td>4.40</td>\n",
       "      <td>0.7140</td>\n",
       "      <td>start</td>\n",
       "      <td>NaN</td>\n",
       "      <td>True</td>\n",
       "      <td>0.0</td>\n",
       "    </tr>\n",
       "    <tr>\n",
       "      <th>283</th>\n",
       "      <td>22</td>\n",
       "      <td>19710819</td>\n",
       "      <td>A</td>\n",
       "      <td>T</td>\n",
       "      <td>-0.15</td>\n",
       "      <td>0.11</td>\n",
       "      <td>-1</td>\n",
       "      <td>release_GP1BB</td>\n",
       "      <td>0.992</td>\n",
       "      <td>0.455</td>\n",
       "      <td>4.40</td>\n",
       "      <td>1.0500</td>\n",
       "      <td>end</td>\n",
       "      <td>16.0</td>\n",
       "      <td>False</td>\n",
       "      <td>0.0</td>\n",
       "    </tr>\n",
       "    <tr>\n",
       "      <th>284</th>\n",
       "      <td>22</td>\n",
       "      <td>19710868</td>\n",
       "      <td>T</td>\n",
       "      <td>A</td>\n",
       "      <td>0.01</td>\n",
       "      <td>0.00</td>\n",
       "      <td>0</td>\n",
       "      <td>release_GP1BB</td>\n",
       "      <td>0.882</td>\n",
       "      <td>-0.373</td>\n",
       "      <td>4.09</td>\n",
       "      <td>-4.8300</td>\n",
       "      <td>start</td>\n",
       "      <td>NaN</td>\n",
       "      <td>True</td>\n",
       "      <td>1.0</td>\n",
       "    </tr>\n",
       "    <tr>\n",
       "      <th>331</th>\n",
       "      <td>22</td>\n",
       "      <td>19710883</td>\n",
       "      <td>G</td>\n",
       "      <td>T</td>\n",
       "      <td>0.13</td>\n",
       "      <td>0.02</td>\n",
       "      <td>0</td>\n",
       "      <td>release_GP1BB</td>\n",
       "      <td>0.876</td>\n",
       "      <td>0.557</td>\n",
       "      <td>4.09</td>\n",
       "      <td>4.0900</td>\n",
       "      <td>end</td>\n",
       "      <td>16.0</td>\n",
       "      <td>False</td>\n",
       "      <td>1.0</td>\n",
       "    </tr>\n",
       "    <tr>\n",
       "      <th>332</th>\n",
       "      <td>22</td>\n",
       "      <td>19710932</td>\n",
       "      <td>T</td>\n",
       "      <td>A</td>\n",
       "      <td>-0.87</td>\n",
       "      <td>1.00</td>\n",
       "      <td>-1</td>\n",
       "      <td>release_GP1BB</td>\n",
       "      <td>0.039</td>\n",
       "      <td>0.455</td>\n",
       "      <td>3.95</td>\n",
       "      <td>2.9100</td>\n",
       "      <td>start</td>\n",
       "      <td>NaN</td>\n",
       "      <td>True</td>\n",
       "      <td>2.0</td>\n",
       "    </tr>\n",
       "  </tbody>\n",
       "</table>\n",
       "</div>"
      ],
      "text/plain": [
       "    #Chrom        Pos Ref Alt  Value  Confidence  class regulatory_element  \\\n",
       "0        X  138612669   T   A  -0.17        0.07      0         release_F9   \n",
       "47       X  138612684   G   T  -0.02        0.00      0         release_F9   \n",
       "48       X  138612701   T   A  -0.36        0.37     -1         release_F9   \n",
       "95       X  138612716   G   T  -0.15        0.04      0         release_F9   \n",
       "96       X  138612765   C   A   0.07        0.01      0         release_F9   \n",
       "143      X  138612780   T   G   0.18        0.02      0         release_F9   \n",
       "144      X  138612877   G   A  -0.09        0.05      0         release_F9   \n",
       "190      X  138612892   C   T   0.12        0.01      0         release_F9   \n",
       "191      X  138612909   C   A   0.05        0.02      0         release_F9   \n",
       "235      X  138612924   A   G  -0.01        0.00      0         release_F9   \n",
       "236     22   19710804   T   A   0.01        0.00      0      release_GP1BB   \n",
       "283     22   19710819   A   T  -0.15        0.11     -1      release_GP1BB   \n",
       "284     22   19710868   T   A   0.01        0.00      0      release_GP1BB   \n",
       "331     22   19710883   G   T   0.13        0.02      0      release_GP1BB   \n",
       "332     22   19710932   T   A  -0.87        1.00     -1      release_GP1BB   \n",
       "\n",
       "     phastCon  phyloP  GerpN  GerpRS is_break  chunk_length  is_start  \\\n",
       "0       0.006   0.470   3.93  1.4900    start           NaN      True   \n",
       "47      0.048  -0.233   3.45 -2.0100      end          16.0     False   \n",
       "48      0.009   0.470   3.27  1.9200    start           NaN      True   \n",
       "95      0.055   0.581   3.32  0.4310      end          16.0     False   \n",
       "96      0.420  -0.304   4.22  0.2990    start           NaN      True   \n",
       "143     0.525   0.470   4.69  4.6900      end          16.0     False   \n",
       "144     0.864   0.581   5.08  5.0800    start           NaN      True   \n",
       "190     0.508   0.581   5.08  1.7900      end          16.0     False   \n",
       "191     0.453   0.581   5.08  0.0736    start           NaN      True   \n",
       "235     0.614   0.470   4.55  0.6710      end          16.0     False   \n",
       "236     0.894   0.455   4.40  0.7140    start           NaN      True   \n",
       "283     0.992   0.455   4.40  1.0500      end          16.0     False   \n",
       "284     0.882  -0.373   4.09 -4.8300    start           NaN      True   \n",
       "331     0.876   0.557   4.09  4.0900      end          16.0     False   \n",
       "332     0.039   0.455   3.95  2.9100    start           NaN      True   \n",
       "\n",
       "     chunk_id  \n",
       "0         0.0  \n",
       "47        0.0  \n",
       "48        1.0  \n",
       "95        1.0  \n",
       "96        2.0  \n",
       "143       2.0  \n",
       "144       3.0  \n",
       "190       3.0  \n",
       "191       4.0  \n",
       "235       4.0  \n",
       "236       0.0  \n",
       "283       0.0  \n",
       "284       1.0  \n",
       "331       1.0  \n",
       "332       2.0  "
      ]
     },
     "execution_count": 3,
     "metadata": {},
     "output_type": "execute_result"
    }
   ],
   "source": [
    "breakpoint_df = get_breakpoint_df(df)\n",
    "# Save breakpoints to CSV\n",
    "breakpoint_df.to_csv('data/cagi5_bkpt.csv')\n",
    "# Look at breakpoints\n",
    "breakpoint_df[breakpoint_df['is_break']!='no'].head(15)"
   ]
  },
  {
   "cell_type": "markdown",
   "metadata": {},
   "source": [
    "## Cross-validation folds\n",
    "\n",
    "Split the training data into folds respecting the breakpoints."
   ]
  },
  {
   "cell_type": "code",
   "execution_count": 4,
   "metadata": {},
   "outputs": [
    {
     "data": {
      "text/plain": [
       "{'release_F9': [[4], [0], [1], [2], [3]],\n",
       " 'release_GP1BB': [[2, 4], [5], [0], [3], [1]],\n",
       " 'release_HBB': [[1], [2], [0], [], []],\n",
       " 'release_HBG1': [[2], [1], [3], [0], []],\n",
       " 'release_HNF4A': [[0], [2], [1], [3], []],\n",
       " 'release_IRF4': [[1, 3], [6, 4], [5, 0], [2], [7]],\n",
       " 'release_IRF6': [[6, 3], [8, 5], [0, 7], [4, 1], [2]],\n",
       " 'release_LDLR': [[2], [1], [4], [0], [3]],\n",
       " 'release_MSMB': [[5, 3], [0, 8], [6, 4], [7, 1], [2]],\n",
       " 'release_MYCrs6983267': [[8, 4], [3, 0], [7, 2], [1, 5], [6]],\n",
       " 'release_PKLR': [[2, 3], [6, 5], [1, 7], [4], [0]],\n",
       " 'release_SORT1': [[1, 6], [2, 7], [3, 0], [5, 8], [4]],\n",
       " 'release_TERT-GBM': [[2], [1], [4], [0], [3]],\n",
       " 'release_TERT-HEK293T': [[0], [2], [4], [3], [1]],\n",
       " 'release_ZFAND3': [[8, 4, 9], [10, 3], [2, 0], [7, 1], [5, 6]]}"
      ]
     },
     "execution_count": 4,
     "metadata": {},
     "output_type": "execute_result"
    }
   ],
   "source": [
    "nfolds = 5\n",
    "fold_dict = df_cv_split(breakpoint_df, nfolds)\n",
    "fold_dict"
   ]
  },
  {
   "cell_type": "markdown",
   "metadata": {},
   "source": [
    "## Create features"
   ]
  },
  {
   "cell_type": "code",
   "execution_count": 5,
   "metadata": {},
   "outputs": [],
   "source": [
    "deepseadiffs = DeepSeaSNP(feattypes=['diff'])\n",
    "dnase = DNase()\n",
    "enhancer1hot = EnhancerOneHot()\n",
    "snpcontext2 = SNPContext(context_size=2)\n",
    "snpcontext4 = SNPContext(context_size=4)\n",
    "conservation = Conservation()\n",
    "deepE1h = MultiFeatures([deepseadiffs, enhancer1hot])"
   ]
  },
  {
   "cell_type": "markdown",
   "metadata": {},
   "source": [
    "## Logistic regression\n",
    "\n",
    "Fit a logistic regression classifier to DeepSeaSNP features."
   ]
  },
  {
   "cell_type": "code",
   "execution_count": 6,
   "metadata": {},
   "outputs": [
    {
     "name": "stdout",
     "output_type": "stream",
     "text": [
      "Getting predictions for fold 0\n",
      "Getting predictions for fold 1\n",
      "Getting predictions for fold 2\n",
      "Getting predictions for fold 3\n",
      "Getting predictions for fold 4\n"
     ]
    }
   ],
   "source": [
    "cv_chunk = ChunkCV(df,\n",
    "                   operator=CVOperator(\n",
    "                       Classifier,\n",
    "                       model_kwargs={'features': deepseadiffs, 'model_name': 'lr'}),\n",
    "                   fold_dict=fold_dict)\n",
    "cvdf_chunk = cv_chunk.get_cv_preds()"
   ]
  },
  {
   "cell_type": "code",
   "execution_count": 7,
   "metadata": {},
   "outputs": [
    {
     "name": "stdout",
     "output_type": "stream",
     "text": [
      "[-1  0  1]\n",
      "[0.61808676 0.54935105 0.61831113]\n"
     ]
    },
    {
     "data": {
      "image/png": "[encoded data removed]",
      "text/plain": [
       "<Figure size 1296x432 with 2 Axes>"
      ]
     },
     "metadata": {},
     "output_type": "display_data"
    }
   ],
   "source": [
    "binarizer = LabelBinarizer()\n",
    "ybin = binarizer.fit_transform(cvdf_chunk['class'])\n",
    "print(binarizer.classes_)\n",
    "print(roc_auc_score(ybin, binarizer.transform(cvdf_chunk['PredClass']), average=None))\n",
    "_ = make_plots(cvdf_chunk, 'PredClass')"
   ]
  },
  {
   "cell_type": "markdown",
   "metadata": {},
   "source": [
    "## XGBoost\n",
    "\n",
    "Cross-validate using XGBoost using a model fit to all regulatory regions but given the one-hot enhancer encodings."
   ]
  },
  {
   "cell_type": "code",
   "execution_count": 8,
   "metadata": {},
   "outputs": [
    {
     "name": "stdout",
     "output_type": "stream",
     "text": [
      "Getting predictions for fold 0\n"
     ]
    },
    {
     "ename": "XGBoostError",
     "evalue": "need to call fit beforehand",
     "output_type": "error",
     "traceback": [
      "\u001b[0;31m---------------------------------------------------------------------------\u001b[0m",
      "\u001b[0;31mXGBoostError\u001b[0m                              Traceback (most recent call last)",
      "\u001b[0;32m<ipython-input-8-99d14e5e54eb>\u001b[0m in \u001b[0;36m<module>\u001b[0;34m()\u001b[0m\n\u001b[1;32m      6\u001b[0m                        model_kwargs={'features': features, 'model_name': 'xgb'}),\n\u001b[1;32m      7\u001b[0m                    fold_dict=fold_dict)\n\u001b[0;32m----> 8\u001b[0;31m \u001b[0mcv_regress\u001b[0m \u001b[0;34m=\u001b[0m \u001b[0mcv_chunk\u001b[0m\u001b[0;34m.\u001b[0m\u001b[0mget_cv_preds\u001b[0m\u001b[0;34m(\u001b[0m\u001b[0;34m)\u001b[0m\u001b[0;34m\u001b[0m\u001b[0m\n\u001b[0m\u001b[1;32m      9\u001b[0m \u001b[0mcv_regress\u001b[0m\u001b[0;34m.\u001b[0m\u001b[0msample\u001b[0m\u001b[0;34m(\u001b[0m\u001b[0;36m6\u001b[0m\u001b[0;34m)\u001b[0m\u001b[0;34m\u001b[0m\u001b[0m\n",
      "\u001b[0;32m~/Dev/cagimpra/crossval.py\u001b[0m in \u001b[0;36mget_cv_preds\u001b[0;34m(self)\u001b[0m\n\u001b[1;32m    111\u001b[0m     \u001b[0;32mfor\u001b[0m \u001b[0mf\u001b[0m \u001b[0;32min\u001b[0m \u001b[0mrange\u001b[0m\u001b[0;34m(\u001b[0m\u001b[0mself\u001b[0m\u001b[0;34m.\u001b[0m\u001b[0mnf\u001b[0m\u001b[0;34m)\u001b[0m\u001b[0;34m:\u001b[0m\u001b[0;34m\u001b[0m\u001b[0m\n\u001b[1;32m    112\u001b[0m       \u001b[0mprint\u001b[0m\u001b[0;34m(\u001b[0m\u001b[0;34m'Getting predictions for fold {}'\u001b[0m\u001b[0;34m.\u001b[0m\u001b[0mformat\u001b[0m\u001b[0;34m(\u001b[0m\u001b[0mf\u001b[0m\u001b[0;34m)\u001b[0m\u001b[0;34m)\u001b[0m\u001b[0;34m\u001b[0m\u001b[0m\n\u001b[0;32m--> 113\u001b[0;31m       \u001b[0mself\u001b[0m\u001b[0;34m.\u001b[0m\u001b[0mget_fold_preds\u001b[0m\u001b[0;34m(\u001b[0m\u001b[0mf\u001b[0m\u001b[0;34m)\u001b[0m\u001b[0;34m\u001b[0m\u001b[0m\n\u001b[0m\u001b[1;32m    114\u001b[0m     \u001b[0;32mreturn\u001b[0m \u001b[0mself\u001b[0m\u001b[0;34m.\u001b[0m\u001b[0mbreakpoint_df\u001b[0m\u001b[0;34m\u001b[0m\u001b[0m\n\u001b[1;32m    115\u001b[0m \u001b[0;34m\u001b[0m\u001b[0m\n",
      "\u001b[0;32m~/Dev/cagimpra/crossval.py\u001b[0m in \u001b[0;36mget_fold_preds\u001b[0;34m(self, f)\u001b[0m\n\u001b[1;32m    119\u001b[0m     \u001b[0mtrain_df\u001b[0m \u001b[0;34m=\u001b[0m \u001b[0mtrainvaldf\u001b[0m\u001b[0;34m[\u001b[0m\u001b[0mtrainvaldf\u001b[0m\u001b[0;34m[\u001b[0m\u001b[0;34m'is_train'\u001b[0m\u001b[0;34m]\u001b[0m\u001b[0;34m]\u001b[0m\u001b[0;34m\u001b[0m\u001b[0m\n\u001b[1;32m    120\u001b[0m     \u001b[0mval_df\u001b[0m \u001b[0;34m=\u001b[0m \u001b[0mtrainvaldf\u001b[0m\u001b[0;34m[\u001b[0m\u001b[0;34m~\u001b[0m\u001b[0mtrainvaldf\u001b[0m\u001b[0;34m[\u001b[0m\u001b[0;34m'is_train'\u001b[0m\u001b[0;34m]\u001b[0m\u001b[0;34m]\u001b[0m\u001b[0;34m\u001b[0m\u001b[0m\n\u001b[0;32m--> 121\u001b[0;31m     \u001b[0mpreds\u001b[0m \u001b[0;34m=\u001b[0m \u001b[0mself\u001b[0m\u001b[0;34m.\u001b[0m\u001b[0moperator\u001b[0m\u001b[0;34m.\u001b[0m\u001b[0mget_preds\u001b[0m\u001b[0;34m(\u001b[0m\u001b[0mtrain_df\u001b[0m\u001b[0;34m,\u001b[0m \u001b[0mval_df\u001b[0m\u001b[0;34m)\u001b[0m\u001b[0;34m\u001b[0m\u001b[0m\n\u001b[0m\u001b[1;32m    122\u001b[0m     \u001b[0;32mfor\u001b[0m \u001b[0mcol\u001b[0m \u001b[0;32min\u001b[0m \u001b[0mpreds\u001b[0m\u001b[0;34m.\u001b[0m\u001b[0mcolumns\u001b[0m\u001b[0;34m.\u001b[0m\u001b[0mvalues\u001b[0m\u001b[0;34m:\u001b[0m\u001b[0;34m\u001b[0m\u001b[0m\n\u001b[1;32m    123\u001b[0m       \u001b[0mself\u001b[0m\u001b[0;34m.\u001b[0m\u001b[0mbreakpoint_df\u001b[0m\u001b[0;34m.\u001b[0m\u001b[0mloc\u001b[0m\u001b[0;34m[\u001b[0m\u001b[0;34m~\u001b[0m\u001b[0mself\u001b[0m\u001b[0;34m.\u001b[0m\u001b[0mbreakpoint_df\u001b[0m\u001b[0;34m[\u001b[0m\u001b[0;34m'is_train'\u001b[0m\u001b[0;34m]\u001b[0m\u001b[0;34m,\u001b[0m \u001b[0mcol\u001b[0m\u001b[0;34m]\u001b[0m \u001b[0;34m=\u001b[0m \u001b[0mpreds\u001b[0m\u001b[0;34m[\u001b[0m\u001b[0mcol\u001b[0m\u001b[0;34m]\u001b[0m\u001b[0;34m\u001b[0m\u001b[0m\n",
      "\u001b[0;32m~/Dev/cagimpra/crossval.py\u001b[0m in \u001b[0;36mget_preds\u001b[0;34m(self, train_df, val_df, elem, stacked_features)\u001b[0m\n\u001b[1;32m     29\u001b[0m     \u001b[0my_val\u001b[0m \u001b[0;34m=\u001b[0m \u001b[0mval_df\u001b[0m\u001b[0;34m[\u001b[0m\u001b[0;34m'class'\u001b[0m\u001b[0;34m]\u001b[0m\u001b[0;34m\u001b[0m\u001b[0m\n\u001b[1;32m     30\u001b[0m \u001b[0;34m\u001b[0m\u001b[0m\n\u001b[0;32m---> 31\u001b[0;31m     \u001b[0mpreds\u001b[0m \u001b[0;34m=\u001b[0m \u001b[0mself\u001b[0m\u001b[0;34m.\u001b[0m\u001b[0mmodel\u001b[0m\u001b[0;34m.\u001b[0m\u001b[0mpredict\u001b[0m\u001b[0;34m(\u001b[0m\u001b[0mX_val\u001b[0m\u001b[0;34m,\u001b[0m \u001b[0mindex\u001b[0m\u001b[0;34m=\u001b[0m\u001b[0mval_df\u001b[0m\u001b[0;34m.\u001b[0m\u001b[0mindex\u001b[0m\u001b[0;34m)\u001b[0m\u001b[0;34m\u001b[0m\u001b[0m\n\u001b[0m\u001b[1;32m     32\u001b[0m     \u001b[0mpreds\u001b[0m\u001b[0;34m.\u001b[0m\u001b[0mindex\u001b[0m \u001b[0;34m=\u001b[0m \u001b[0mval_df\u001b[0m\u001b[0;34m.\u001b[0m\u001b[0mindex\u001b[0m\u001b[0;34m\u001b[0m\u001b[0m\n\u001b[1;32m     33\u001b[0m     \u001b[0;32mreturn\u001b[0m \u001b[0mpreds\u001b[0m\u001b[0;34m\u001b[0m\u001b[0m\n",
      "\u001b[0;32m~/Dev/cagimpra/models.py\u001b[0m in \u001b[0;36mpredict\u001b[0;34m(self, X, index)\u001b[0m\n\u001b[1;32m    101\u001b[0m     return pd.DataFrame(\n\u001b[1;32m    102\u001b[0m       data={\n\u001b[0;32m--> 103\u001b[0;31m         \u001b[0;34m'PredValue'\u001b[0m\u001b[0;34m:\u001b[0m \u001b[0mself\u001b[0m\u001b[0;34m.\u001b[0m\u001b[0mmodel_value\u001b[0m\u001b[0;34m.\u001b[0m\u001b[0mpredict\u001b[0m\u001b[0;34m(\u001b[0m\u001b[0mX\u001b[0m\u001b[0;34m)\u001b[0m\u001b[0;34m,\u001b[0m\u001b[0;34m\u001b[0m\u001b[0m\n\u001b[0m\u001b[1;32m    104\u001b[0m         \u001b[0;34m'PredConfidence'\u001b[0m\u001b[0;34m:\u001b[0m \u001b[0mself\u001b[0m\u001b[0;34m.\u001b[0m\u001b[0mmodel_conf\u001b[0m\u001b[0;34m.\u001b[0m\u001b[0mpredict\u001b[0m\u001b[0;34m(\u001b[0m\u001b[0mX\u001b[0m\u001b[0;34m)\u001b[0m\u001b[0;34m\u001b[0m\u001b[0m\n\u001b[1;32m    105\u001b[0m       },\n",
      "\u001b[0;32m~/Dev/cagimpra/venv3/lib/python3.5/site-packages/xgboost/sklearn.py\u001b[0m in \u001b[0;36mpredict\u001b[0;34m(self, data, output_margin, ntree_limit)\u001b[0m\n\u001b[1;32m    308\u001b[0m         \u001b[0;31m# pylint: disable=missing-docstring,invalid-name\u001b[0m\u001b[0;34m\u001b[0m\u001b[0;34m\u001b[0m\u001b[0m\n\u001b[1;32m    309\u001b[0m         \u001b[0mtest_dmatrix\u001b[0m \u001b[0;34m=\u001b[0m \u001b[0mDMatrix\u001b[0m\u001b[0;34m(\u001b[0m\u001b[0mdata\u001b[0m\u001b[0;34m,\u001b[0m \u001b[0mmissing\u001b[0m\u001b[0;34m=\u001b[0m\u001b[0mself\u001b[0m\u001b[0;34m.\u001b[0m\u001b[0mmissing\u001b[0m\u001b[0;34m,\u001b[0m \u001b[0mnthread\u001b[0m\u001b[0;34m=\u001b[0m\u001b[0mself\u001b[0m\u001b[0;34m.\u001b[0m\u001b[0mn_jobs\u001b[0m\u001b[0;34m)\u001b[0m\u001b[0;34m\u001b[0m\u001b[0m\n\u001b[0;32m--> 310\u001b[0;31m         return self.get_booster().predict(test_dmatrix,\n\u001b[0m\u001b[1;32m    311\u001b[0m                                           \u001b[0moutput_margin\u001b[0m\u001b[0;34m=\u001b[0m\u001b[0moutput_margin\u001b[0m\u001b[0;34m,\u001b[0m\u001b[0;34m\u001b[0m\u001b[0m\n\u001b[1;32m    312\u001b[0m                                           ntree_limit=ntree_limit)\n",
      "\u001b[0;32m~/Dev/cagimpra/venv3/lib/python3.5/site-packages/xgboost/sklearn.py\u001b[0m in \u001b[0;36mget_booster\u001b[0;34m(self)\u001b[0m\n\u001b[1;32m    177\u001b[0m         \"\"\"\n\u001b[1;32m    178\u001b[0m         \u001b[0;32mif\u001b[0m \u001b[0mself\u001b[0m\u001b[0;34m.\u001b[0m\u001b[0m_Booster\u001b[0m \u001b[0;32mis\u001b[0m \u001b[0;32mNone\u001b[0m\u001b[0;34m:\u001b[0m\u001b[0;34m\u001b[0m\u001b[0m\n\u001b[0;32m--> 179\u001b[0;31m             \u001b[0;32mraise\u001b[0m \u001b[0mXGBoostError\u001b[0m\u001b[0;34m(\u001b[0m\u001b[0;34m'need to call fit beforehand'\u001b[0m\u001b[0;34m)\u001b[0m\u001b[0;34m\u001b[0m\u001b[0m\n\u001b[0m\u001b[1;32m    180\u001b[0m         \u001b[0;32mreturn\u001b[0m \u001b[0mself\u001b[0m\u001b[0;34m.\u001b[0m\u001b[0m_Booster\u001b[0m\u001b[0;34m\u001b[0m\u001b[0m\n\u001b[1;32m    181\u001b[0m \u001b[0;34m\u001b[0m\u001b[0m\n",
      "\u001b[0;31mXGBoostError\u001b[0m: need to call fit beforehand"
     ]
    }
   ],
   "source": [
    "# features = MultiFeatures([deepseadiffs, enhancer1hot, snpcontext4, conservation])\n",
    "features = deepE1h\n",
    "cv_chunk = ChunkCV(df,\n",
    "                   operator=CVOperator(\n",
    "                       Regression,\n",
    "                       model_kwargs={'features': features, 'model_name': 'xgb'}),\n",
    "                   fold_dict=fold_dict)\n",
    "cv_regress = cv_chunk.get_cv_preds()\n",
    "cv_regress.sample(6)"
   ]
  },
  {
   "cell_type": "code",
   "execution_count": null,
   "metadata": {},
   "outputs": [],
   "source": [
    "cv_regress['Confidence'].abs() > 0.1\n",
    "_ = make_plots(cv_regress)\n",
    "print(roc_auc_score(cv_regress['class'].abs(), cv_regress['PredValue'].abs()))"
   ]
  },
  {
   "cell_type": "markdown",
   "metadata": {},
   "source": [
    "Cross-validate using models fit independently to each regulatory element"
   ]
  },
  {
   "cell_type": "code",
   "execution_count": 9,
   "metadata": {},
   "outputs": [
    {
     "data": {
      "text/plain": [
       "<module 'models' from '/home/john/Dev/cagimpra/models.py'>"
      ]
     },
     "execution_count": 9,
     "metadata": {},
     "output_type": "execute_result"
    }
   ],
   "source": [
    "# features = MultiFeatures([deepseadiffs, enhancer1hot, snpcontext4, conservation])\n",
    "import crossval, models, importlib\n",
    "importlib.reload(crossval)\n",
    "importlib.reload(models)"
   ]
  },
  {
   "cell_type": "code",
   "execution_count": 10,
   "metadata": {},
   "outputs": [
    {
     "name": "stdout",
     "output_type": "stream",
     "text": [
      "Getting predictions for fold 0\n"
     ]
    },
    {
     "ename": "XGBoostError",
     "evalue": "need to call fit beforehand",
     "output_type": "error",
     "traceback": [
      "\u001b[0;31m---------------------------------------------------------------------------\u001b[0m",
      "\u001b[0;31mXGBoostError\u001b[0m                              Traceback (most recent call last)",
      "\u001b[0;32m<ipython-input-10-e1bd43fd61c9>\u001b[0m in \u001b[0;36m<module>\u001b[0;34m()\u001b[0m\n\u001b[1;32m      9\u001b[0m                        model_kwargs={'features': features, 'model_name': 'xgb'})),\n\u001b[1;32m     10\u001b[0m                    fold_dict=fold_dict)\n\u001b[0;32m---> 11\u001b[0;31m \u001b[0mcv_regress\u001b[0m \u001b[0;34m=\u001b[0m \u001b[0mcv_chunk\u001b[0m\u001b[0;34m.\u001b[0m\u001b[0mget_cv_preds\u001b[0m\u001b[0;34m(\u001b[0m\u001b[0;34m)\u001b[0m\u001b[0;34m\u001b[0m\u001b[0m\n\u001b[0m",
      "\u001b[0;32m~/Dev/cagimpra/crossval.py\u001b[0m in \u001b[0;36mget_cv_preds\u001b[0;34m(self)\u001b[0m\n\u001b[1;32m    111\u001b[0m     \u001b[0;32mfor\u001b[0m \u001b[0mf\u001b[0m \u001b[0;32min\u001b[0m \u001b[0mrange\u001b[0m\u001b[0;34m(\u001b[0m\u001b[0mself\u001b[0m\u001b[0;34m.\u001b[0m\u001b[0mnf\u001b[0m\u001b[0;34m)\u001b[0m\u001b[0;34m:\u001b[0m\u001b[0;34m\u001b[0m\u001b[0m\n\u001b[1;32m    112\u001b[0m       \u001b[0mprint\u001b[0m\u001b[0;34m(\u001b[0m\u001b[0;34m'Getting predictions for fold {}'\u001b[0m\u001b[0;34m.\u001b[0m\u001b[0mformat\u001b[0m\u001b[0;34m(\u001b[0m\u001b[0mf\u001b[0m\u001b[0;34m)\u001b[0m\u001b[0;34m)\u001b[0m\u001b[0;34m\u001b[0m\u001b[0m\n\u001b[0;32m--> 113\u001b[0;31m       \u001b[0mself\u001b[0m\u001b[0;34m.\u001b[0m\u001b[0mget_fold_preds\u001b[0m\u001b[0;34m(\u001b[0m\u001b[0mf\u001b[0m\u001b[0;34m)\u001b[0m\u001b[0;34m\u001b[0m\u001b[0m\n\u001b[0m\u001b[1;32m    114\u001b[0m     \u001b[0;32mreturn\u001b[0m \u001b[0mself\u001b[0m\u001b[0;34m.\u001b[0m\u001b[0mbreakpoint_df\u001b[0m\u001b[0;34m\u001b[0m\u001b[0m\n\u001b[1;32m    115\u001b[0m \u001b[0;34m\u001b[0m\u001b[0m\n",
      "\u001b[0;32m~/Dev/cagimpra/crossval.py\u001b[0m in \u001b[0;36mget_fold_preds\u001b[0;34m(self, f)\u001b[0m\n\u001b[1;32m    119\u001b[0m     \u001b[0mtrain_df\u001b[0m \u001b[0;34m=\u001b[0m \u001b[0mtrainvaldf\u001b[0m\u001b[0;34m[\u001b[0m\u001b[0mtrainvaldf\u001b[0m\u001b[0;34m[\u001b[0m\u001b[0;34m'is_train'\u001b[0m\u001b[0;34m]\u001b[0m\u001b[0;34m]\u001b[0m\u001b[0;34m\u001b[0m\u001b[0m\n\u001b[1;32m    120\u001b[0m     \u001b[0mval_df\u001b[0m \u001b[0;34m=\u001b[0m \u001b[0mtrainvaldf\u001b[0m\u001b[0;34m[\u001b[0m\u001b[0;34m~\u001b[0m\u001b[0mtrainvaldf\u001b[0m\u001b[0;34m[\u001b[0m\u001b[0;34m'is_train'\u001b[0m\u001b[0;34m]\u001b[0m\u001b[0;34m]\u001b[0m\u001b[0;34m\u001b[0m\u001b[0m\n\u001b[0;32m--> 121\u001b[0;31m     \u001b[0mpreds\u001b[0m \u001b[0;34m=\u001b[0m \u001b[0mself\u001b[0m\u001b[0;34m.\u001b[0m\u001b[0moperator\u001b[0m\u001b[0;34m.\u001b[0m\u001b[0mget_preds\u001b[0m\u001b[0;34m(\u001b[0m\u001b[0mtrain_df\u001b[0m\u001b[0;34m,\u001b[0m \u001b[0mval_df\u001b[0m\u001b[0;34m)\u001b[0m\u001b[0;34m\u001b[0m\u001b[0m\n\u001b[0m\u001b[1;32m    122\u001b[0m     \u001b[0;32mfor\u001b[0m \u001b[0mcol\u001b[0m \u001b[0;32min\u001b[0m \u001b[0mpreds\u001b[0m\u001b[0;34m.\u001b[0m\u001b[0mcolumns\u001b[0m\u001b[0;34m.\u001b[0m\u001b[0mvalues\u001b[0m\u001b[0;34m:\u001b[0m\u001b[0;34m\u001b[0m\u001b[0m\n\u001b[1;32m    123\u001b[0m       \u001b[0mself\u001b[0m\u001b[0;34m.\u001b[0m\u001b[0mbreakpoint_df\u001b[0m\u001b[0;34m.\u001b[0m\u001b[0mloc\u001b[0m\u001b[0;34m[\u001b[0m\u001b[0;34m~\u001b[0m\u001b[0mself\u001b[0m\u001b[0;34m.\u001b[0m\u001b[0mbreakpoint_df\u001b[0m\u001b[0;34m[\u001b[0m\u001b[0;34m'is_train'\u001b[0m\u001b[0;34m]\u001b[0m\u001b[0;34m,\u001b[0m \u001b[0mcol\u001b[0m\u001b[0;34m]\u001b[0m \u001b[0;34m=\u001b[0m \u001b[0mpreds\u001b[0m\u001b[0;34m[\u001b[0m\u001b[0mcol\u001b[0m\u001b[0;34m]\u001b[0m\u001b[0;34m\u001b[0m\u001b[0m\n",
      "\u001b[0;32m~/Dev/cagimpra/crossval.py\u001b[0m in \u001b[0;36mget_preds\u001b[0;34m(self, train_df, val_df)\u001b[0m\n\u001b[1;32m     69\u001b[0m \u001b[0;34m\u001b[0m\u001b[0m\n\u001b[1;32m     70\u001b[0m   \u001b[0;32mdef\u001b[0m \u001b[0mget_preds\u001b[0m\u001b[0;34m(\u001b[0m\u001b[0mself\u001b[0m\u001b[0;34m,\u001b[0m \u001b[0mtrain_df\u001b[0m\u001b[0;34m,\u001b[0m \u001b[0mval_df\u001b[0m\u001b[0;34m)\u001b[0m\u001b[0;34m:\u001b[0m\u001b[0;34m\u001b[0m\u001b[0m\n\u001b[0;32m---> 71\u001b[0;31m     \u001b[0mstacked_features\u001b[0m \u001b[0;34m=\u001b[0m \u001b[0mself\u001b[0m\u001b[0;34m.\u001b[0m\u001b[0mchild\u001b[0m\u001b[0;34m.\u001b[0m\u001b[0mget_preds\u001b[0m\u001b[0;34m(\u001b[0m\u001b[0mtrain_df\u001b[0m\u001b[0;34m,\u001b[0m \u001b[0mval_df\u001b[0m\u001b[0;34m)\u001b[0m\u001b[0;34m.\u001b[0m\u001b[0mgroupby\u001b[0m\u001b[0;34m(\u001b[0m\u001b[0;34m'regulatory_element'\u001b[0m\u001b[0;34m)\u001b[0m\u001b[0;34m\u001b[0m\u001b[0m\n\u001b[0m\u001b[1;32m     72\u001b[0m     \u001b[0mtrain_grpd\u001b[0m \u001b[0;34m=\u001b[0m \u001b[0mtrain_df\u001b[0m\u001b[0;34m.\u001b[0m\u001b[0mgroupby\u001b[0m\u001b[0;34m(\u001b[0m\u001b[0;34m'regulatory_element'\u001b[0m\u001b[0;34m)\u001b[0m\u001b[0;34m\u001b[0m\u001b[0m\n\u001b[1;32m     73\u001b[0m     \u001b[0mval_grpd\u001b[0m \u001b[0;34m=\u001b[0m \u001b[0mval_df\u001b[0m\u001b[0;34m.\u001b[0m\u001b[0mgroupby\u001b[0m\u001b[0;34m(\u001b[0m\u001b[0;34m'regulatory_element'\u001b[0m\u001b[0;34m)\u001b[0m\u001b[0;34m\u001b[0m\u001b[0m\n",
      "\u001b[0;32m~/Dev/cagimpra/crossval.py\u001b[0m in \u001b[0;36mget_preds\u001b[0;34m(self, train_df, val_df, elem, stacked_features)\u001b[0m\n\u001b[1;32m     29\u001b[0m     \u001b[0my_val\u001b[0m \u001b[0;34m=\u001b[0m \u001b[0mval_df\u001b[0m\u001b[0;34m[\u001b[0m\u001b[0;34m'class'\u001b[0m\u001b[0;34m]\u001b[0m\u001b[0;34m\u001b[0m\u001b[0m\n\u001b[1;32m     30\u001b[0m \u001b[0;34m\u001b[0m\u001b[0m\n\u001b[0;32m---> 31\u001b[0;31m     \u001b[0mpreds\u001b[0m \u001b[0;34m=\u001b[0m \u001b[0mself\u001b[0m\u001b[0;34m.\u001b[0m\u001b[0mmodel\u001b[0m\u001b[0;34m.\u001b[0m\u001b[0mpredict\u001b[0m\u001b[0;34m(\u001b[0m\u001b[0mX_val\u001b[0m\u001b[0;34m,\u001b[0m \u001b[0mindex\u001b[0m\u001b[0;34m=\u001b[0m\u001b[0mval_df\u001b[0m\u001b[0;34m.\u001b[0m\u001b[0mindex\u001b[0m\u001b[0;34m)\u001b[0m\u001b[0;34m\u001b[0m\u001b[0m\n\u001b[0m\u001b[1;32m     32\u001b[0m     \u001b[0mpreds\u001b[0m\u001b[0;34m.\u001b[0m\u001b[0mindex\u001b[0m \u001b[0;34m=\u001b[0m \u001b[0mval_df\u001b[0m\u001b[0;34m.\u001b[0m\u001b[0mindex\u001b[0m\u001b[0;34m\u001b[0m\u001b[0m\n\u001b[1;32m     33\u001b[0m     \u001b[0;32mreturn\u001b[0m \u001b[0mpreds\u001b[0m\u001b[0;34m\u001b[0m\u001b[0m\n",
      "\u001b[0;32m~/Dev/cagimpra/models.py\u001b[0m in \u001b[0;36mpredict\u001b[0;34m(self, X, index)\u001b[0m\n\u001b[1;32m    101\u001b[0m     return pd.DataFrame(\n\u001b[1;32m    102\u001b[0m       data={\n\u001b[0;32m--> 103\u001b[0;31m         \u001b[0;34m'PredValue'\u001b[0m\u001b[0;34m:\u001b[0m \u001b[0mself\u001b[0m\u001b[0;34m.\u001b[0m\u001b[0mmodel_value\u001b[0m\u001b[0;34m.\u001b[0m\u001b[0mpredict\u001b[0m\u001b[0;34m(\u001b[0m\u001b[0mX\u001b[0m\u001b[0;34m)\u001b[0m\u001b[0;34m,\u001b[0m\u001b[0;34m\u001b[0m\u001b[0m\n\u001b[0m\u001b[1;32m    104\u001b[0m         \u001b[0;34m'PredConfidence'\u001b[0m\u001b[0;34m:\u001b[0m \u001b[0mself\u001b[0m\u001b[0;34m.\u001b[0m\u001b[0mmodel_conf\u001b[0m\u001b[0;34m.\u001b[0m\u001b[0mpredict\u001b[0m\u001b[0;34m(\u001b[0m\u001b[0mX\u001b[0m\u001b[0;34m)\u001b[0m\u001b[0;34m\u001b[0m\u001b[0m\n\u001b[1;32m    105\u001b[0m       },\n",
      "\u001b[0;32m~/Dev/cagimpra/venv3/lib/python3.5/site-packages/xgboost/sklearn.py\u001b[0m in \u001b[0;36mpredict\u001b[0;34m(self, data, output_margin, ntree_limit)\u001b[0m\n\u001b[1;32m    308\u001b[0m         \u001b[0;31m# pylint: disable=missing-docstring,invalid-name\u001b[0m\u001b[0;34m\u001b[0m\u001b[0;34m\u001b[0m\u001b[0m\n\u001b[1;32m    309\u001b[0m         \u001b[0mtest_dmatrix\u001b[0m \u001b[0;34m=\u001b[0m \u001b[0mDMatrix\u001b[0m\u001b[0;34m(\u001b[0m\u001b[0mdata\u001b[0m\u001b[0;34m,\u001b[0m \u001b[0mmissing\u001b[0m\u001b[0;34m=\u001b[0m\u001b[0mself\u001b[0m\u001b[0;34m.\u001b[0m\u001b[0mmissing\u001b[0m\u001b[0;34m,\u001b[0m \u001b[0mnthread\u001b[0m\u001b[0;34m=\u001b[0m\u001b[0mself\u001b[0m\u001b[0;34m.\u001b[0m\u001b[0mn_jobs\u001b[0m\u001b[0;34m)\u001b[0m\u001b[0;34m\u001b[0m\u001b[0m\n\u001b[0;32m--> 310\u001b[0;31m         return self.get_booster().predict(test_dmatrix,\n\u001b[0m\u001b[1;32m    311\u001b[0m                                           \u001b[0moutput_margin\u001b[0m\u001b[0;34m=\u001b[0m\u001b[0moutput_margin\u001b[0m\u001b[0;34m,\u001b[0m\u001b[0;34m\u001b[0m\u001b[0m\n\u001b[1;32m    312\u001b[0m                                           ntree_limit=ntree_limit)\n",
      "\u001b[0;32m~/Dev/cagimpra/venv3/lib/python3.5/site-packages/xgboost/sklearn.py\u001b[0m in \u001b[0;36mget_booster\u001b[0;34m(self)\u001b[0m\n\u001b[1;32m    177\u001b[0m         \"\"\"\n\u001b[1;32m    178\u001b[0m         \u001b[0;32mif\u001b[0m \u001b[0mself\u001b[0m\u001b[0;34m.\u001b[0m\u001b[0m_Booster\u001b[0m \u001b[0;32mis\u001b[0m \u001b[0;32mNone\u001b[0m\u001b[0;34m:\u001b[0m\u001b[0;34m\u001b[0m\u001b[0m\n\u001b[0;32m--> 179\u001b[0;31m             \u001b[0;32mraise\u001b[0m \u001b[0mXGBoostError\u001b[0m\u001b[0;34m(\u001b[0m\u001b[0;34m'need to call fit beforehand'\u001b[0m\u001b[0;34m)\u001b[0m\u001b[0;34m\u001b[0m\u001b[0m\n\u001b[0m\u001b[1;32m    180\u001b[0m         \u001b[0;32mreturn\u001b[0m \u001b[0mself\u001b[0m\u001b[0;34m.\u001b[0m\u001b[0m_Booster\u001b[0m\u001b[0;34m\u001b[0m\u001b[0m\n\u001b[1;32m    181\u001b[0m \u001b[0;34m\u001b[0m\u001b[0m\n",
      "\u001b[0;31mXGBoostError\u001b[0m: need to call fit beforehand"
     ]
    }
   ],
   "source": [
    "from crossval import ChunkCV, PerElementOperator, StackedOperator, CVOperator, df_cv_split\n",
    "from models import MultiFeatures\n",
    "subst = SubstitutionOneHot()\n",
    "features = MultiFeatures([deepseadiffs, conservation])\n",
    "# features = dnase\n",
    "cv_chunk = ChunkCV(df,\n",
    "                   operator=StackedOperator(CVOperator(\n",
    "                       Regression,\n",
    "                       model_kwargs={'features': features, 'model_name': 'xgb'})),\n",
    "                   fold_dict=fold_dict)\n",
    "cv_regress = cv_chunk.get_cv_preds()"
   ]
  },
  {
   "cell_type": "code",
   "execution_count": null,
   "metadata": {},
   "outputs": [],
   "source": [
    "cv_regress.to_csv('data/regress.csv')\n",
    "make_plots(cv_regress)\n",
    "cv_regress.sample(6)"
   ]
  },
  {
   "cell_type": "code",
   "execution_count": null,
   "metadata": {},
   "outputs": [],
   "source": [
    "cv_chunk = ChunkCV(df,\n",
    "                   operator=CVOperator(\n",
    "                       Classifier,\n",
    "                       model_kwargs={'features': deepseadiffs, 'model_name': 'xgb'}),\n",
    "                   fold_dict=fold_dict)\n",
    "cvdf_chunk = cv_chunk.get_cv_preds()\n",
    "cvdf_chunk.sample(6)"
   ]
  },
  {
   "cell_type": "code",
   "execution_count": null,
   "metadata": {},
   "outputs": [],
   "source": [
    "print(roc_auc_score(ybin, binarizer.transform(cvdf_chunk['PredClass']), average=None))\n",
    "_ = make_plots(cvdf_chunk, 'PredClass')"
   ]
  },
  {
   "cell_type": "markdown",
   "metadata": {},
   "source": [
    "## Enhancer one-hot\n",
    "\n",
    "One hot encode the identity of the enhancer."
   ]
  },
  {
   "cell_type": "code",
   "execution_count": null,
   "metadata": {},
   "outputs": [],
   "source": [
    "cv_chunk = ChunkCV(df,\n",
    "                   Classifier,\n",
    "                   model_kwargs={'features': enhancer1hot, 'model_name': 'lr'},\n",
    "                   fold_dict=fold_dict)\n",
    "cvdf_chunk = cv_chunk.get_cv_preds()"
   ]
  },
  {
   "cell_type": "code",
   "execution_count": null,
   "metadata": {},
   "outputs": [],
   "source": [
    "print(roc_auc_score(ybin, binarizer.transform(cvdf_chunk['PredClass']), average=None))\n",
    "_ = make_plots(cvdf_chunk, 'PredClass')"
   ]
  },
  {
   "cell_type": "code",
   "execution_count": null,
   "metadata": {},
   "outputs": [],
   "source": [
    "cv_chunk = ChunkCV(df,\n",
    "                   Classifier,\n",
    "                   model_kwargs={'features': deepE1h, 'model_name': 'xgb'},\n",
    "                   fold_dict=fold_dict)\n",
    "cvdf_chunk = cv_chunk.get_cv_preds()"
   ]
  },
  {
   "cell_type": "code",
   "execution_count": null,
   "metadata": {},
   "outputs": [],
   "source": [
    "print(roc_auc_score(ybin, binarizer.transform(cvdf_chunk['PredClass']), average=None))\n",
    "_ = make_plots(cvdf_chunk, 'PredClass')"
   ]
  },
  {
   "cell_type": "code",
   "execution_count": null,
   "metadata": {},
   "outputs": [],
   "source": [
    "cv_chunk = ChunkCV(df,\n",
    "                   Classifier,\n",
    "                   model_kwargs={'features': snpcontext2, 'model_name': 'xgb'},\n",
    "                   fold_dict=fold_dict)\n",
    "cvdf_chunk = cv_chunk.get_cv_preds()"
   ]
  },
  {
   "cell_type": "code",
   "execution_count": null,
   "metadata": {},
   "outputs": [],
   "source": [
    "print(roc_auc_score(ybin, binarizer.transform(cvdf_chunk['PredClass']), average=None))\n",
    "_ = make_plots(cvdf_chunk, 'PredClass')"
   ]
  },
  {
   "cell_type": "code",
   "execution_count": null,
   "metadata": {},
   "outputs": [],
   "source": [
    "cv_chunk = ChunkCV(df,\n",
    "                   Classifier,\n",
    "                   model_kwargs={'features': snpcontext4, 'model_name': 'xgb'},\n",
    "                   fold_dict=fold_dict)\n",
    "cvdf_chunk = cv_chunk.get_cv_preds()"
   ]
  },
  {
   "cell_type": "code",
   "execution_count": null,
   "metadata": {},
   "outputs": [],
   "source": [
    "print(roc_auc_score(ybin, binarizer.transform(cvdf_chunk['PredClass']), average=None))\n",
    "_ = make_plots(cvdf_chunk, 'PredClass')"
   ]
  },
  {
   "cell_type": "code",
   "execution_count": null,
   "metadata": {},
   "outputs": [],
   "source": [
    "cv_chunk = ChunkCV(df,\n",
    "                   Classifier,\n",
    "                   model_kwargs={'features': conservation, 'model_name': 'xgb'},\n",
    "                   fold_dict=fold_dict)\n",
    "cvdf_chunk = cv_chunk.get_cv_preds()"
   ]
  },
  {
   "cell_type": "code",
   "execution_count": null,
   "metadata": {},
   "outputs": [],
   "source": [
    "print(roc_auc_score(ybin, binarizer.transform(cvdf_chunk['PredClass']), average=None))\n",
    "_ = make_plots(cvdf_chunk, 'PredClass')"
   ]
  },
  {
   "cell_type": "code",
   "execution_count": null,
   "metadata": {},
   "outputs": [],
   "source": [
    "features = MultiFeatures([conservation, snpcontext2, deepseadiffs])\n",
    "cv_chunk = ChunkCV(df,\n",
    "                   Classifier,\n",
    "                   model_kwargs={'features': features, 'model_name': 'xgb'},\n",
    "                   fold_dict=fold_dict)\n",
    "cvdf_chunk = cv_chunk.get_cv_preds()"
   ]
  },
  {
   "cell_type": "code",
   "execution_count": null,
   "metadata": {
    "scrolled": true
   },
   "outputs": [],
   "source": [
    "print(roc_auc_score(ybin, binarizer.transform(cvdf_chunk['PredClass']), average=None))\n",
    "_ = make_plots(cvdf_chunk, 'PredClass')"
   ]
  },
  {
   "cell_type": "code",
   "execution_count": null,
   "metadata": {},
   "outputs": [],
   "source": [
    "features = MultiFeatures([conservation, deepseadiffs])\n",
    "cv_chunk = ChunkCV(df,\n",
    "                   Classifier,\n",
    "                   model_kwargs={'features': features, 'model_name': 'xgb'},\n",
    "                   fold_dict=fold_dict)\n",
    "cvdf_chunk = cv_chunk.get_cv_preds()"
   ]
  },
  {
   "cell_type": "code",
   "execution_count": null,
   "metadata": {},
   "outputs": [],
   "source": [
    "print(roc_auc_score(ybin, binarizer.transform(cvdf_chunk['PredClass']), average=None))\n",
    "_ = make_plots(cvdf_chunk, 'PredClass')"
   ]
  },
  {
   "cell_type": "code",
   "execution_count": null,
   "metadata": {},
   "outputs": [],
   "source": [
    "features = MultiFeatures([snpcontext2, deepseadiffs])\n",
    "cv_chunk = ChunkCV(df,\n",
    "                   Classifier,\n",
    "                   model_kwargs={'features': features, 'model_name': 'xgb'},\n",
    "                   fold_dict=fold_dict)\n",
    "cvdf_chunk = cv_chunk.get_cv_preds()"
   ]
  },
  {
   "cell_type": "code",
   "execution_count": null,
   "metadata": {},
   "outputs": [],
   "source": [
    "print(roc_auc_score(ybin, binarizer.transform(cvdf_chunk['PredClass']), average=None))\n",
    "_ = make_plots(cvdf_chunk, 'PredClass')"
   ]
  },
  {
   "cell_type": "code",
   "execution_count": null,
   "metadata": {},
   "outputs": [],
   "source": [
    "cvdf_chunk[['class', 'Value', 'Confidence']].as_matrix()"
   ]
  },
  {
   "cell_type": "code",
   "execution_count": null,
   "metadata": {},
   "outputs": [],
   "source": []
  }
 ],
 "metadata": {
  "kernelspec": {
   "display_name": "Python 3",
   "language": "python",
   "name": "python3"
  },
  "language_info": {
   "codemirror_mode": {
    "name": "ipython",
    "version": 3
   },
   "file_extension": ".py",
   "mimetype": "text/x-python",
   "name": "python",
   "nbconvert_exporter": "python",
   "pygments_lexer": "ipython3",
   "version": "3.5.2"
  }
 },
 "nbformat": 4,
 "nbformat_minor": 2
}
