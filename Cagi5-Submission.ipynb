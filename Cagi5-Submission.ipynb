{
 "cells": [
  {
   "cell_type": "markdown",
   "metadata": {},
   "source": [
    "A notebook to create the submission(s)."
   ]
  },
  {
   "cell_type": "code",
   "execution_count": 1,
   "metadata": {},
   "outputs": [],
   "source": [
    "import pandas as pd\n",
    "import numpy as np\n",
    "import matplotlib.pyplot as plt\n",
    "from models import DeepSeaSNP, Conservation, SNPContext, MultiFeatures, EnhancerOneHot, \\\n",
    "    SubstitutionOneHot, DNase, Regression, Stacked"
   ]
  },
  {
   "cell_type": "markdown",
   "metadata": {},
   "source": [
    "## Load data\n",
    "\n",
    "Read the training data with added conservation information."
   ]
  },
  {
   "cell_type": "code",
   "execution_count": 2,
   "metadata": {},
   "outputs": [
    {
     "data": {
      "text/html": [
       "<div>\n",
       "<style scoped>\n",
       "    .dataframe tbody tr th:only-of-type {\n",
       "        vertical-align: middle;\n",
       "    }\n",
       "\n",
       "    .dataframe tbody tr th {\n",
       "        vertical-align: top;\n",
       "    }\n",
       "\n",
       "    .dataframe thead th {\n",
       "        text-align: right;\n",
       "    }\n",
       "</style>\n",
       "<table border=\"1\" class=\"dataframe\">\n",
       "  <thead>\n",
       "    <tr style=\"text-align: right;\">\n",
       "      <th></th>\n",
       "      <th>#Chrom</th>\n",
       "      <th>Pos</th>\n",
       "      <th>Ref</th>\n",
       "      <th>Alt</th>\n",
       "      <th>Value</th>\n",
       "      <th>Confidence</th>\n",
       "      <th>class</th>\n",
       "      <th>regulatory_element</th>\n",
       "      <th>phastCon</th>\n",
       "      <th>phyloP</th>\n",
       "      <th>GerpN</th>\n",
       "      <th>GerpRS</th>\n",
       "    </tr>\n",
       "  </thead>\n",
       "  <tbody>\n",
       "    <tr>\n",
       "      <th>0</th>\n",
       "      <td>X</td>\n",
       "      <td>138612669</td>\n",
       "      <td>T</td>\n",
       "      <td>A</td>\n",
       "      <td>-0.17</td>\n",
       "      <td>0.07</td>\n",
       "      <td>0</td>\n",
       "      <td>release_F9</td>\n",
       "      <td>0.006</td>\n",
       "      <td>0.47</td>\n",
       "      <td>3.93</td>\n",
       "      <td>1.490</td>\n",
       "    </tr>\n",
       "    <tr>\n",
       "      <th>1</th>\n",
       "      <td>X</td>\n",
       "      <td>138612669</td>\n",
       "      <td>T</td>\n",
       "      <td>C</td>\n",
       "      <td>-0.26</td>\n",
       "      <td>0.24</td>\n",
       "      <td>-1</td>\n",
       "      <td>release_F9</td>\n",
       "      <td>0.006</td>\n",
       "      <td>0.47</td>\n",
       "      <td>3.93</td>\n",
       "      <td>1.490</td>\n",
       "    </tr>\n",
       "    <tr>\n",
       "      <th>2</th>\n",
       "      <td>X</td>\n",
       "      <td>138612669</td>\n",
       "      <td>T</td>\n",
       "      <td>G</td>\n",
       "      <td>0.34</td>\n",
       "      <td>0.05</td>\n",
       "      <td>0</td>\n",
       "      <td>release_F9</td>\n",
       "      <td>0.006</td>\n",
       "      <td>0.47</td>\n",
       "      <td>3.93</td>\n",
       "      <td>1.490</td>\n",
       "    </tr>\n",
       "    <tr>\n",
       "      <th>3</th>\n",
       "      <td>X</td>\n",
       "      <td>138612670</td>\n",
       "      <td>A</td>\n",
       "      <td>C</td>\n",
       "      <td>0.00</td>\n",
       "      <td>0.00</td>\n",
       "      <td>0</td>\n",
       "      <td>release_F9</td>\n",
       "      <td>0.008</td>\n",
       "      <td>0.47</td>\n",
       "      <td>3.93</td>\n",
       "      <td>0.337</td>\n",
       "    </tr>\n",
       "    <tr>\n",
       "      <th>4</th>\n",
       "      <td>X</td>\n",
       "      <td>138612670</td>\n",
       "      <td>A</td>\n",
       "      <td>G</td>\n",
       "      <td>0.22</td>\n",
       "      <td>0.20</td>\n",
       "      <td>1</td>\n",
       "      <td>release_F9</td>\n",
       "      <td>0.008</td>\n",
       "      <td>0.47</td>\n",
       "      <td>3.93</td>\n",
       "      <td>0.337</td>\n",
       "    </tr>\n",
       "  </tbody>\n",
       "</table>\n",
       "</div>"
      ],
      "text/plain": [
       "  #Chrom        Pos Ref Alt  Value  Confidence  class regulatory_element  \\\n",
       "0      X  138612669   T   A  -0.17        0.07      0         release_F9   \n",
       "1      X  138612669   T   C  -0.26        0.24     -1         release_F9   \n",
       "2      X  138612669   T   G   0.34        0.05      0         release_F9   \n",
       "3      X  138612670   A   C   0.00        0.00      0         release_F9   \n",
       "4      X  138612670   A   G   0.22        0.20      1         release_F9   \n",
       "\n",
       "   phastCon  phyloP  GerpN  GerpRS  \n",
       "0     0.006    0.47   3.93   1.490  \n",
       "1     0.006    0.47   3.93   1.490  \n",
       "2     0.006    0.47   3.93   1.490  \n",
       "3     0.008    0.47   3.93   0.337  \n",
       "4     0.008    0.47   3.93   0.337  "
      ]
     },
     "execution_count": 2,
     "metadata": {},
     "output_type": "execute_result"
    }
   ],
   "source": [
    "training = pd.read_csv('data/cagi5_df.csv')\n",
    "training.head()"
   ]
  },
  {
   "cell_type": "markdown",
   "metadata": {},
   "source": [
    "Read the submission template"
   ]
  },
  {
   "cell_type": "code",
   "execution_count": 3,
   "metadata": {},
   "outputs": [
    {
     "data": {
      "text/html": [
       "<div>\n",
       "<style scoped>\n",
       "    .dataframe tbody tr th:only-of-type {\n",
       "        vertical-align: middle;\n",
       "    }\n",
       "\n",
       "    .dataframe tbody tr th {\n",
       "        vertical-align: top;\n",
       "    }\n",
       "\n",
       "    .dataframe thead th {\n",
       "        text-align: right;\n",
       "    }\n",
       "</style>\n",
       "<table border=\"1\" class=\"dataframe\">\n",
       "  <thead>\n",
       "    <tr style=\"text-align: right;\">\n",
       "      <th></th>\n",
       "      <th>Chrom</th>\n",
       "      <th>Pos</th>\n",
       "      <th>Ref</th>\n",
       "      <th>Alt</th>\n",
       "      <th>Promoter_Enhancer</th>\n",
       "      <th>Direction</th>\n",
       "      <th>P_Direction</th>\n",
       "      <th>Confidence</th>\n",
       "      <th>SE</th>\n",
       "      <th>Comments</th>\n",
       "      <th>phastCon</th>\n",
       "      <th>phyloP</th>\n",
       "      <th>GerpN</th>\n",
       "      <th>GerpRS</th>\n",
       "    </tr>\n",
       "  </thead>\n",
       "  <tbody>\n",
       "    <tr>\n",
       "      <th>2509</th>\n",
       "      <td>1</td>\n",
       "      <td>155271586</td>\n",
       "      <td>C</td>\n",
       "      <td>A</td>\n",
       "      <td>PKLR</td>\n",
       "      <td>NaN</td>\n",
       "      <td>NaN</td>\n",
       "      <td>NaN</td>\n",
       "      <td>NaN</td>\n",
       "      <td>NaN</td>\n",
       "      <td>0.001</td>\n",
       "      <td>0.559</td>\n",
       "      <td>1.30</td>\n",
       "      <td>1.30</td>\n",
       "    </tr>\n",
       "    <tr>\n",
       "      <th>3228</th>\n",
       "      <td>1</td>\n",
       "      <td>209989283</td>\n",
       "      <td>G</td>\n",
       "      <td>A</td>\n",
       "      <td>IRF6</td>\n",
       "      <td>NaN</td>\n",
       "      <td>NaN</td>\n",
       "      <td>NaN</td>\n",
       "      <td>NaN</td>\n",
       "      <td>NaN</td>\n",
       "      <td>0.375</td>\n",
       "      <td>0.651</td>\n",
       "      <td>4.33</td>\n",
       "      <td>1.29</td>\n",
       "    </tr>\n",
       "    <tr>\n",
       "      <th>9877</th>\n",
       "      <td>11</td>\n",
       "      <td>5248346</td>\n",
       "      <td>T</td>\n",
       "      <td>C</td>\n",
       "      <td>HBB</td>\n",
       "      <td>NaN</td>\n",
       "      <td>NaN</td>\n",
       "      <td>NaN</td>\n",
       "      <td>NaN</td>\n",
       "      <td>NaN</td>\n",
       "      <td>0.817</td>\n",
       "      <td>0.525</td>\n",
       "      <td>4.03</td>\n",
       "      <td>-1.77</td>\n",
       "    </tr>\n",
       "    <tr>\n",
       "      <th>10809</th>\n",
       "      <td>19</td>\n",
       "      <td>11199956</td>\n",
       "      <td>C</td>\n",
       "      <td>A</td>\n",
       "      <td>LDLR</td>\n",
       "      <td>NaN</td>\n",
       "      <td>NaN</td>\n",
       "      <td>NaN</td>\n",
       "      <td>NaN</td>\n",
       "      <td>NaN</td>\n",
       "      <td>0.003</td>\n",
       "      <td>-1.541</td>\n",
       "      <td>3.28</td>\n",
       "      <td>-6.51</td>\n",
       "    </tr>\n",
       "    <tr>\n",
       "      <th>4603</th>\n",
       "      <td>5</td>\n",
       "      <td>1295204</td>\n",
       "      <td>G</td>\n",
       "      <td>A</td>\n",
       "      <td>TERT-HEK293T</td>\n",
       "      <td>NaN</td>\n",
       "      <td>NaN</td>\n",
       "      <td>NaN</td>\n",
       "      <td>NaN</td>\n",
       "      <td>NaN</td>\n",
       "      <td>0.001</td>\n",
       "      <td>0.298</td>\n",
       "      <td>3.75</td>\n",
       "      <td>2.85</td>\n",
       "    </tr>\n",
       "    <tr>\n",
       "      <th>1441</th>\n",
       "      <td>1</td>\n",
       "      <td>155271213</td>\n",
       "      <td>G</td>\n",
       "      <td>A</td>\n",
       "      <td>PKLR</td>\n",
       "      <td>NaN</td>\n",
       "      <td>NaN</td>\n",
       "      <td>NaN</td>\n",
       "      <td>NaN</td>\n",
       "      <td>NaN</td>\n",
       "      <td>0.011</td>\n",
       "      <td>0.457</td>\n",
       "      <td>3.67</td>\n",
       "      <td>1.71</td>\n",
       "    </tr>\n",
       "  </tbody>\n",
       "</table>\n",
       "</div>"
      ],
      "text/plain": [
       "      Chrom        Pos Ref Alt Promoter_Enhancer  Direction  P_Direction  \\\n",
       "2509      1  155271586   C   A              PKLR        NaN          NaN   \n",
       "3228      1  209989283   G   A              IRF6        NaN          NaN   \n",
       "9877     11    5248346   T   C               HBB        NaN          NaN   \n",
       "10809    19   11199956   C   A              LDLR        NaN          NaN   \n",
       "4603      5    1295204   G   A      TERT-HEK293T        NaN          NaN   \n",
       "1441      1  155271213   G   A              PKLR        NaN          NaN   \n",
       "\n",
       "       Confidence  SE  Comments  phastCon  phyloP  GerpN  GerpRS  \n",
       "2509          NaN NaN       NaN     0.001   0.559   1.30    1.30  \n",
       "3228          NaN NaN       NaN     0.375   0.651   4.33    1.29  \n",
       "9877          NaN NaN       NaN     0.817   0.525   4.03   -1.77  \n",
       "10809         NaN NaN       NaN     0.003  -1.541   3.28   -6.51  \n",
       "4603          NaN NaN       NaN     0.001   0.298   3.75    2.85  \n",
       "1441          NaN NaN       NaN     0.011   0.457   3.67    1.71  "
      ]
     },
     "execution_count": 3,
     "metadata": {},
     "output_type": "execute_result"
    }
   ],
   "source": [
    "submission = pd.read_csv(\n",
    "    'data/submission-with-cons.tsv',\n",
    "    sep='\\t',\n",
    "    na_values='*')\n",
    "submission.sample(6)"
   ]
  },
  {
   "cell_type": "markdown",
   "metadata": {},
   "source": [
    "Identify all the submission regions to check they match those in the training data."
   ]
  },
  {
   "cell_type": "code",
   "execution_count": 4,
   "metadata": {},
   "outputs": [
    {
     "name": "stdout",
     "output_type": "stream",
     "text": [
      "['F9' 'GP1BB' 'HBB' 'HBG1' 'HNF4A' 'IRF4' 'IRF6' 'LDLR' 'MSMB' 'MYC'\n",
      " 'PKLR' 'SORT1' 'TERT-GBM' 'TERT-HEK293T' 'ZFAND3']\n",
      "['F9' 'GP1BB' 'HBB' 'HBG1' 'HNF4A' 'IRF4' 'IRF6' 'LDLR' 'MSMB'\n",
      " 'MYCrs6983267' 'PKLR' 'SORT1' 'TERT-GBM' 'TERT-HEK293T' 'ZFAND3']\n"
     ]
    }
   ],
   "source": [
    "sub_regions = submission['Promoter_Enhancer'].unique()\n",
    "sub_regions.sort()\n",
    "print(sub_regions)\n",
    "train_regions = training['regulatory_element'].str.slice(start=8).unique()\n",
    "train_regions.sort()\n",
    "print(train_regions)"
   ]
  },
  {
   "cell_type": "markdown",
   "metadata": {},
   "source": [
    "TODO: Make sure that MYC region names match between training and submission data frames."
   ]
  },
  {
   "cell_type": "markdown",
   "metadata": {},
   "source": [
    "### Use tuned hyperparameters"
   ]
  },
  {
   "cell_type": "markdown",
   "metadata": {},
   "source": [
    "These are taken from a kaggle kernel notebook"
   ]
  },
  {
   "cell_type": "code",
   "execution_count": 5,
   "metadata": {},
   "outputs": [],
   "source": [
    "tuned_params={\n",
    "    'max_depth': 2, #[3,4,5,6,7,8,9], # 5 is good but takes too long in kaggle env\n",
    "    'subsample': 0.6, #[0.4,0.5,0.6,0.7,0.8,0.9,1.0],\n",
    "    'colsample_bytree': 0.5, #[0.5,0.6,0.7,0.8],\n",
    "    'n_estimators': 1000, #[1000,2000,3000]\n",
    "    'reg_alpha': 0.03 #[0.01, 0.02, 0.03, 0.04]\n",
    "}"
   ]
  },
  {
   "cell_type": "markdown",
   "metadata": {},
   "source": [
    "These are tuned by Bayesian optimisation (in another notebook)"
   ]
  },
  {
   "cell_type": "code",
   "execution_count": 6,
   "metadata": {},
   "outputs": [],
   "source": [
    "tuned_params = {\n",
    "    'colsample_bytree': 0.7524052235178577,\n",
    "    'learning_rate': 0.39783003619093765,\n",
    "    'max_depth': 7,\n",
    "    'min_child_weight': 4.0467095559059505,\n",
    "    'reg_alpha': 0.030682622499703896,\n",
    "    'reg_lambda': 0.40505823486422077,\n",
    "    'subsample': 1.0\n",
    "}"
   ]
  },
  {
   "cell_type": "markdown",
   "metadata": {},
   "source": [
    "### Choose features"
   ]
  },
  {
   "cell_type": "code",
   "execution_count": 7,
   "metadata": {},
   "outputs": [],
   "source": [
    "def make_features(test):\n",
    "    if test:\n",
    "        ds500_dq = DeepSeaSNP(filename_fmt='ds500-dq-embed64-500-d20-3-5-11-test_{}_preds_v1.npy')\n",
    "    else:\n",
    "        ds500_dq = DeepSeaSNP(filename_fmt='ds500-dq-embed64-500-d20-3-5-11_{}_preds_v1.npy')\n",
    "    dnase = DNase(test=test)\n",
    "    conservation = Conservation()\n",
    "    # subst = SubstitutionOneHot(test=test)\n",
    "    # enhancer1hot = EnhancerOneHot(test=test)\n",
    "    # snpcontext2 = SNPContext(context_size=2, test=test)\n",
    "    # snpcontext4 = SNPContext(context_size=4, test=test)\n",
    "    # stacked = Stacked('deep-dnase-cons', test=test)\n",
    "    return MultiFeatures([ds500_dq, dnase, conservation])\n",
    "train_features = make_features(False)\n",
    "test_features = make_features(True)"
   ]
  },
  {
   "cell_type": "markdown",
   "metadata": {},
   "source": [
    "## Fit model"
   ]
  },
  {
   "cell_type": "code",
   "execution_count": 8,
   "metadata": {},
   "outputs": [],
   "source": [
    "model = Regression(train_features)\n",
    "X_train = model.get_features(training)\n",
    "y_train = model.get_response(training)\n",
    "model.fit(X_train, y_train)"
   ]
  },
  {
   "cell_type": "markdown",
   "metadata": {},
   "source": [
    "## Make predictions"
   ]
  },
  {
   "cell_type": "code",
   "execution_count": 9,
   "metadata": {},
   "outputs": [
    {
     "data": {
      "text/html": [
       "<div>\n",
       "<style scoped>\n",
       "    .dataframe tbody tr th:only-of-type {\n",
       "        vertical-align: middle;\n",
       "    }\n",
       "\n",
       "    .dataframe tbody tr th {\n",
       "        vertical-align: top;\n",
       "    }\n",
       "\n",
       "    .dataframe thead th {\n",
       "        text-align: right;\n",
       "    }\n",
       "</style>\n",
       "<table border=\"1\" class=\"dataframe\">\n",
       "  <thead>\n",
       "    <tr style=\"text-align: right;\">\n",
       "      <th></th>\n",
       "      <th>PredConfidence</th>\n",
       "      <th>PredValue</th>\n",
       "    </tr>\n",
       "  </thead>\n",
       "  <tbody>\n",
       "    <tr>\n",
       "      <th>5293</th>\n",
       "      <td>0.043814</td>\n",
       "      <td>-0.028780</td>\n",
       "    </tr>\n",
       "    <tr>\n",
       "      <th>10045</th>\n",
       "      <td>0.049119</td>\n",
       "      <td>-0.044613</td>\n",
       "    </tr>\n",
       "    <tr>\n",
       "      <th>12867</th>\n",
       "      <td>0.088972</td>\n",
       "      <td>-0.037796</td>\n",
       "    </tr>\n",
       "    <tr>\n",
       "      <th>4715</th>\n",
       "      <td>0.088426</td>\n",
       "      <td>-0.225350</td>\n",
       "    </tr>\n",
       "    <tr>\n",
       "      <th>6704</th>\n",
       "      <td>0.094526</td>\n",
       "      <td>0.006526</td>\n",
       "    </tr>\n",
       "    <tr>\n",
       "      <th>7289</th>\n",
       "      <td>0.049306</td>\n",
       "      <td>0.030744</td>\n",
       "    </tr>\n",
       "  </tbody>\n",
       "</table>\n",
       "</div>"
      ],
      "text/plain": [
       "       PredConfidence  PredValue\n",
       "5293         0.043814  -0.028780\n",
       "10045        0.049119  -0.044613\n",
       "12867        0.088972  -0.037796\n",
       "4715         0.088426  -0.225350\n",
       "6704         0.094526   0.006526\n",
       "7289         0.049306   0.030744"
      ]
     },
     "execution_count": 9,
     "metadata": {},
     "output_type": "execute_result"
    }
   ],
   "source": [
    "X_test = test_features.get_features(submission)\n",
    "predictions = model.predict(X_test, submission.index)\n",
    "predictions.sample(6)"
   ]
  },
  {
   "cell_type": "markdown",
   "metadata": {},
   "source": [
    "Call which variants are present from the regression predictions"
   ]
  },
  {
   "cell_type": "code",
   "execution_count": 10,
   "metadata": {},
   "outputs": [
    {
     "data": {
      "text/html": [
       "<div>\n",
       "<style scoped>\n",
       "    .dataframe tbody tr th:only-of-type {\n",
       "        vertical-align: middle;\n",
       "    }\n",
       "\n",
       "    .dataframe tbody tr th {\n",
       "        vertical-align: top;\n",
       "    }\n",
       "\n",
       "    .dataframe thead th {\n",
       "        text-align: right;\n",
       "    }\n",
       "</style>\n",
       "<table border=\"1\" class=\"dataframe\">\n",
       "  <thead>\n",
       "    <tr style=\"text-align: right;\">\n",
       "      <th></th>\n",
       "      <th>PredConfidence</th>\n",
       "      <th>PredValue</th>\n",
       "      <th>Direction</th>\n",
       "      <th>ValueRank</th>\n",
       "      <th>P_Direction</th>\n",
       "      <th>Confidence</th>\n",
       "      <th>SE</th>\n",
       "    </tr>\n",
       "  </thead>\n",
       "  <tbody>\n",
       "    <tr>\n",
       "      <th>11909</th>\n",
       "      <td>0.079114</td>\n",
       "      <td>-0.096544</td>\n",
       "      <td>0</td>\n",
       "      <td>10009.0</td>\n",
       "      <td>0.347240</td>\n",
       "      <td>0.079114</td>\n",
       "      <td>0.1</td>\n",
       "    </tr>\n",
       "    <tr>\n",
       "      <th>13068</th>\n",
       "      <td>0.055041</td>\n",
       "      <td>-0.014782</td>\n",
       "      <td>0</td>\n",
       "      <td>3035.0</td>\n",
       "      <td>0.802111</td>\n",
       "      <td>0.055041</td>\n",
       "      <td>0.1</td>\n",
       "    </tr>\n",
       "    <tr>\n",
       "      <th>9772</th>\n",
       "      <td>0.064704</td>\n",
       "      <td>-0.017902</td>\n",
       "      <td>0</td>\n",
       "      <td>3602.0</td>\n",
       "      <td>0.765129</td>\n",
       "      <td>0.064704</td>\n",
       "      <td>0.1</td>\n",
       "    </tr>\n",
       "    <tr>\n",
       "      <th>8235</th>\n",
       "      <td>0.039800</td>\n",
       "      <td>-0.025668</td>\n",
       "      <td>0</td>\n",
       "      <td>4834.0</td>\n",
       "      <td>0.684773</td>\n",
       "      <td>0.039800</td>\n",
       "      <td>0.1</td>\n",
       "    </tr>\n",
       "    <tr>\n",
       "      <th>7630</th>\n",
       "      <td>0.029150</td>\n",
       "      <td>0.004771</td>\n",
       "      <td>0</td>\n",
       "      <td>1022.0</td>\n",
       "      <td>0.933406</td>\n",
       "      <td>0.029150</td>\n",
       "      <td>0.1</td>\n",
       "    </tr>\n",
       "    <tr>\n",
       "      <th>7082</th>\n",
       "      <td>0.099652</td>\n",
       "      <td>-0.035070</td>\n",
       "      <td>0</td>\n",
       "      <td>6099.0</td>\n",
       "      <td>0.602265</td>\n",
       "      <td>0.099652</td>\n",
       "      <td>0.1</td>\n",
       "    </tr>\n",
       "  </tbody>\n",
       "</table>\n",
       "</div>"
      ],
      "text/plain": [
       "       PredConfidence  PredValue  Direction  ValueRank  P_Direction  \\\n",
       "11909        0.079114  -0.096544          0    10009.0     0.347240   \n",
       "13068        0.055041  -0.014782          0     3035.0     0.802111   \n",
       "9772         0.064704  -0.017902          0     3602.0     0.765129   \n",
       "8235         0.039800  -0.025668          0     4834.0     0.684773   \n",
       "7630         0.029150   0.004771          0     1022.0     0.933406   \n",
       "7082         0.099652  -0.035070          0     6099.0     0.602265   \n",
       "\n",
       "       Confidence   SE  \n",
       "11909    0.079114  0.1  \n",
       "13068    0.055041  0.1  \n",
       "9772     0.064704  0.1  \n",
       "8235     0.039800  0.1  \n",
       "7630     0.029150  0.1  \n",
       "7082     0.099652  0.1  "
      ]
     },
     "execution_count": 10,
     "metadata": {},
     "output_type": "execute_result"
    }
   ],
   "source": [
    "# import models, importlib\n",
    "# importlib.reload(models)\n",
    "# from models import call_variants_from_regression\n",
    "predictions = model.make_submission(predictions)\n",
    "predictions.sample(6)"
   ]
  },
  {
   "cell_type": "markdown",
   "metadata": {},
   "source": [
    "Plot the predicted values against the probability that they are correct coloured by called direction."
   ]
  },
  {
   "cell_type": "code",
   "execution_count": 11,
   "metadata": {},
   "outputs": [
    {
     "data": {
      "image/png": "[encoded data removed]",
      "text/plain": [
       "<Figure size 432x288 with 1 Axes>"
      ]
     },
     "metadata": {},
     "output_type": "display_data"
    }
   ],
   "source": [
    "fig, ax = plt.subplots()\n",
    "neg = -1 == predictions['Direction']\n",
    "zero = 0 == predictions['Direction']\n",
    "pos =  1 == predictions['Direction']\n",
    "ax.scatter(predictions.loc[neg, 'PredValue'], predictions.loc[neg, 'P_Direction'], label='-')\n",
    "ax.scatter(predictions.loc[zero, 'PredValue'], predictions.loc[zero, 'P_Direction'], label='0')\n",
    "ax.scatter(predictions.loc[pos, 'PredValue'], predictions.loc[pos, 'P_Direction'], label='+')\n",
    "ax.legend()\n",
    "ax.set_xlabel('PredValue')\n",
    "ax.set_ylabel('p(direction correct)')\n",
    "None"
   ]
  },
  {
   "cell_type": "markdown",
   "metadata": {},
   "source": [
    "### Save predictions"
   ]
  },
  {
   "cell_type": "code",
   "execution_count": 13,
   "metadata": {},
   "outputs": [
    {
     "name": "stdout",
     "output_type": "stream",
     "text": [
      "Writing submission to: data/submission.tsv\n"
     ]
    }
   ],
   "source": [
    "import utils, importlib\n",
    "importlib.reload(utils)\n",
    "predictions.columns\n",
    "for col in ['Direction', 'P_Direction', 'Confidence', 'SE']:\n",
    "    submission[col] = predictions[col]\n",
    "submission['Comments'] = '*'\n",
    "utils.write_submission(submission, 'data/submission.tsv')"
   ]
  }
 ],
 "metadata": {
  "kernelspec": {
   "display_name": "Python 3",
   "language": "python",
   "name": "python3"
  },
  "language_info": {
   "codemirror_mode": {
    "name": "ipython",
    "version": 3
   },
   "file_extension": ".py",
   "mimetype": "text/x-python",
   "name": "python",
   "nbconvert_exporter": "python",
   "pygments_lexer": "ipython3",
   "version": "3.5.2"
  }
 },
 "nbformat": 4,
 "nbformat_minor": 2
}
