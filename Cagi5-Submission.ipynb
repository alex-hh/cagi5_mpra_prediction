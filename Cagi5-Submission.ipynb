{
 "cells": [
  {
   "cell_type": "markdown",
   "metadata": {},
   "source": [
    "A notebook to create the submission(s)."
   ]
  },
  {
   "cell_type": "code",
   "execution_count": 13,
   "metadata": {},
   "outputs": [],
   "source": [
    "import pandas as pd\n",
    "import numpy as np\n",
    "import matplotlib.pyplot as plt\n",
    "from models import DeepSeaSNP, Conservation, SNPContext, MultiFeatures, EnhancerOneHot, \\\n",
    "    Stacked, SubstitutionOneHot, DNase, Classifier, Regression, RegressionClassifier\n",
    "from utils import write_submission"
   ]
  },
  {
   "cell_type": "markdown",
   "metadata": {},
   "source": [
    "## Load data\n",
    "\n",
    "Read the training data with added conservation information."
   ]
  },
  {
   "cell_type": "code",
   "execution_count": 2,
   "metadata": {},
   "outputs": [
    {
     "data": {
      "text/html": [
       "<div>\n",
       "<style scoped>\n",
       "    .dataframe tbody tr th:only-of-type {\n",
       "        vertical-align: middle;\n",
       "    }\n",
       "\n",
       "    .dataframe tbody tr th {\n",
       "        vertical-align: top;\n",
       "    }\n",
       "\n",
       "    .dataframe thead th {\n",
       "        text-align: right;\n",
       "    }\n",
       "</style>\n",
       "<table border=\"1\" class=\"dataframe\">\n",
       "  <thead>\n",
       "    <tr style=\"text-align: right;\">\n",
       "      <th></th>\n",
       "      <th>#Chrom</th>\n",
       "      <th>Pos</th>\n",
       "      <th>Ref</th>\n",
       "      <th>Alt</th>\n",
       "      <th>Value</th>\n",
       "      <th>Confidence</th>\n",
       "      <th>class</th>\n",
       "      <th>regulatory_element</th>\n",
       "      <th>phastCon</th>\n",
       "      <th>phyloP</th>\n",
       "      <th>GerpN</th>\n",
       "      <th>GerpRS</th>\n",
       "    </tr>\n",
       "  </thead>\n",
       "  <tbody>\n",
       "    <tr>\n",
       "      <th>0</th>\n",
       "      <td>X</td>\n",
       "      <td>138612669</td>\n",
       "      <td>T</td>\n",
       "      <td>A</td>\n",
       "      <td>-0.17</td>\n",
       "      <td>0.07</td>\n",
       "      <td>0</td>\n",
       "      <td>release_F9</td>\n",
       "      <td>0.006</td>\n",
       "      <td>0.47</td>\n",
       "      <td>3.93</td>\n",
       "      <td>1.490</td>\n",
       "    </tr>\n",
       "    <tr>\n",
       "      <th>1</th>\n",
       "      <td>X</td>\n",
       "      <td>138612669</td>\n",
       "      <td>T</td>\n",
       "      <td>C</td>\n",
       "      <td>-0.26</td>\n",
       "      <td>0.24</td>\n",
       "      <td>-1</td>\n",
       "      <td>release_F9</td>\n",
       "      <td>0.006</td>\n",
       "      <td>0.47</td>\n",
       "      <td>3.93</td>\n",
       "      <td>1.490</td>\n",
       "    </tr>\n",
       "    <tr>\n",
       "      <th>2</th>\n",
       "      <td>X</td>\n",
       "      <td>138612669</td>\n",
       "      <td>T</td>\n",
       "      <td>G</td>\n",
       "      <td>0.34</td>\n",
       "      <td>0.05</td>\n",
       "      <td>0</td>\n",
       "      <td>release_F9</td>\n",
       "      <td>0.006</td>\n",
       "      <td>0.47</td>\n",
       "      <td>3.93</td>\n",
       "      <td>1.490</td>\n",
       "    </tr>\n",
       "    <tr>\n",
       "      <th>3</th>\n",
       "      <td>X</td>\n",
       "      <td>138612670</td>\n",
       "      <td>A</td>\n",
       "      <td>C</td>\n",
       "      <td>0.00</td>\n",
       "      <td>0.00</td>\n",
       "      <td>0</td>\n",
       "      <td>release_F9</td>\n",
       "      <td>0.008</td>\n",
       "      <td>0.47</td>\n",
       "      <td>3.93</td>\n",
       "      <td>0.337</td>\n",
       "    </tr>\n",
       "    <tr>\n",
       "      <th>4</th>\n",
       "      <td>X</td>\n",
       "      <td>138612670</td>\n",
       "      <td>A</td>\n",
       "      <td>G</td>\n",
       "      <td>0.22</td>\n",
       "      <td>0.20</td>\n",
       "      <td>1</td>\n",
       "      <td>release_F9</td>\n",
       "      <td>0.008</td>\n",
       "      <td>0.47</td>\n",
       "      <td>3.93</td>\n",
       "      <td>0.337</td>\n",
       "    </tr>\n",
       "  </tbody>\n",
       "</table>\n",
       "</div>"
      ],
      "text/plain": [
       "  #Chrom        Pos Ref Alt  Value  Confidence  class regulatory_element  \\\n",
       "0      X  138612669   T   A  -0.17        0.07      0         release_F9   \n",
       "1      X  138612669   T   C  -0.26        0.24     -1         release_F9   \n",
       "2      X  138612669   T   G   0.34        0.05      0         release_F9   \n",
       "3      X  138612670   A   C   0.00        0.00      0         release_F9   \n",
       "4      X  138612670   A   G   0.22        0.20      1         release_F9   \n",
       "\n",
       "   phastCon  phyloP  GerpN  GerpRS  \n",
       "0     0.006    0.47   3.93   1.490  \n",
       "1     0.006    0.47   3.93   1.490  \n",
       "2     0.006    0.47   3.93   1.490  \n",
       "3     0.008    0.47   3.93   0.337  \n",
       "4     0.008    0.47   3.93   0.337  "
      ]
     },
     "execution_count": 2,
     "metadata": {},
     "output_type": "execute_result"
    }
   ],
   "source": [
    "training = pd.read_csv('data/cagi5_df.csv')\n",
    "training.head()"
   ]
  },
  {
   "cell_type": "markdown",
   "metadata": {},
   "source": [
    "Read the submission data"
   ]
  },
  {
   "cell_type": "code",
   "execution_count": 3,
   "metadata": {},
   "outputs": [
    {
     "data": {
      "text/html": [
       "<div>\n",
       "<style scoped>\n",
       "    .dataframe tbody tr th:only-of-type {\n",
       "        vertical-align: middle;\n",
       "    }\n",
       "\n",
       "    .dataframe tbody tr th {\n",
       "        vertical-align: top;\n",
       "    }\n",
       "\n",
       "    .dataframe thead th {\n",
       "        text-align: right;\n",
       "    }\n",
       "</style>\n",
       "<table border=\"1\" class=\"dataframe\">\n",
       "  <thead>\n",
       "    <tr style=\"text-align: right;\">\n",
       "      <th></th>\n",
       "      <th>Chrom</th>\n",
       "      <th>Pos</th>\n",
       "      <th>Ref</th>\n",
       "      <th>Alt</th>\n",
       "      <th>Promoter_Enhancer</th>\n",
       "      <th>Direction</th>\n",
       "      <th>P_Direction</th>\n",
       "      <th>Confidence</th>\n",
       "      <th>SE</th>\n",
       "      <th>Comments</th>\n",
       "      <th>phastCon</th>\n",
       "      <th>phyloP</th>\n",
       "      <th>GerpN</th>\n",
       "      <th>GerpRS</th>\n",
       "    </tr>\n",
       "  </thead>\n",
       "  <tbody>\n",
       "    <tr>\n",
       "      <th>9627</th>\n",
       "      <td>10</td>\n",
       "      <td>51549285</td>\n",
       "      <td>G</td>\n",
       "      <td>A</td>\n",
       "      <td>MSMB</td>\n",
       "      <td>NaN</td>\n",
       "      <td>NaN</td>\n",
       "      <td>NaN</td>\n",
       "      <td>NaN</td>\n",
       "      <td>NaN</td>\n",
       "      <td>0.001</td>\n",
       "      <td>0.559</td>\n",
       "      <td>3.49</td>\n",
       "      <td>0.433</td>\n",
       "    </tr>\n",
       "    <tr>\n",
       "      <th>11112</th>\n",
       "      <td>19</td>\n",
       "      <td>11200105</td>\n",
       "      <td>C</td>\n",
       "      <td>A</td>\n",
       "      <td>LDLR</td>\n",
       "      <td>NaN</td>\n",
       "      <td>NaN</td>\n",
       "      <td>NaN</td>\n",
       "      <td>NaN</td>\n",
       "      <td>NaN</td>\n",
       "      <td>0.004</td>\n",
       "      <td>0.559</td>\n",
       "      <td>4.87</td>\n",
       "      <td>3.830</td>\n",
       "    </tr>\n",
       "    <tr>\n",
       "      <th>3683</th>\n",
       "      <td>1</td>\n",
       "      <td>209989468</td>\n",
       "      <td>T</td>\n",
       "      <td>A</td>\n",
       "      <td>IRF6</td>\n",
       "      <td>NaN</td>\n",
       "      <td>NaN</td>\n",
       "      <td>NaN</td>\n",
       "      <td>NaN</td>\n",
       "      <td>NaN</td>\n",
       "      <td>0.987</td>\n",
       "      <td>0.530</td>\n",
       "      <td>4.58</td>\n",
       "      <td>-1.140</td>\n",
       "    </tr>\n",
       "    <tr>\n",
       "      <th>3075</th>\n",
       "      <td>1</td>\n",
       "      <td>209989232</td>\n",
       "      <td>A</td>\n",
       "      <td>C</td>\n",
       "      <td>IRF6</td>\n",
       "      <td>NaN</td>\n",
       "      <td>NaN</td>\n",
       "      <td>NaN</td>\n",
       "      <td>NaN</td>\n",
       "      <td>NaN</td>\n",
       "      <td>0.874</td>\n",
       "      <td>0.530</td>\n",
       "      <td>4.45</td>\n",
       "      <td>3.330</td>\n",
       "    </tr>\n",
       "    <tr>\n",
       "      <th>6167</th>\n",
       "      <td>6</td>\n",
       "      <td>396529</td>\n",
       "      <td>G</td>\n",
       "      <td>A</td>\n",
       "      <td>IRF4</td>\n",
       "      <td>NaN</td>\n",
       "      <td>NaN</td>\n",
       "      <td>NaN</td>\n",
       "      <td>NaN</td>\n",
       "      <td>NaN</td>\n",
       "      <td>0.089</td>\n",
       "      <td>-0.264</td>\n",
       "      <td>3.98</td>\n",
       "      <td>-1.170</td>\n",
       "    </tr>\n",
       "    <tr>\n",
       "      <th>10154</th>\n",
       "      <td>11</td>\n",
       "      <td>5271077</td>\n",
       "      <td>G</td>\n",
       "      <td>T</td>\n",
       "      <td>HBG1</td>\n",
       "      <td>NaN</td>\n",
       "      <td>NaN</td>\n",
       "      <td>NaN</td>\n",
       "      <td>NaN</td>\n",
       "      <td>NaN</td>\n",
       "      <td>0.024</td>\n",
       "      <td>0.298</td>\n",
       "      <td>2.82</td>\n",
       "      <td>0.573</td>\n",
       "    </tr>\n",
       "  </tbody>\n",
       "</table>\n",
       "</div>"
      ],
      "text/plain": [
       "      Chrom        Pos Ref Alt Promoter_Enhancer  Direction  P_Direction  \\\n",
       "9627     10   51549285   G   A              MSMB        NaN          NaN   \n",
       "11112    19   11200105   C   A              LDLR        NaN          NaN   \n",
       "3683      1  209989468   T   A              IRF6        NaN          NaN   \n",
       "3075      1  209989232   A   C              IRF6        NaN          NaN   \n",
       "6167      6     396529   G   A              IRF4        NaN          NaN   \n",
       "10154    11    5271077   G   T              HBG1        NaN          NaN   \n",
       "\n",
       "       Confidence  SE  Comments  phastCon  phyloP  GerpN  GerpRS  \n",
       "9627          NaN NaN       NaN     0.001   0.559   3.49   0.433  \n",
       "11112         NaN NaN       NaN     0.004   0.559   4.87   3.830  \n",
       "3683          NaN NaN       NaN     0.987   0.530   4.58  -1.140  \n",
       "3075          NaN NaN       NaN     0.874   0.530   4.45   3.330  \n",
       "6167          NaN NaN       NaN     0.089  -0.264   3.98  -1.170  \n",
       "10154         NaN NaN       NaN     0.024   0.298   2.82   0.573  "
      ]
     },
     "execution_count": 3,
     "metadata": {},
     "output_type": "execute_result"
    }
   ],
   "source": [
    "submission = pd.read_csv(\n",
    "    'data/submission-with-cons.tsv',\n",
    "    sep='\\t',\n",
    "    na_values='*')\n",
    "submission.sample(6)"
   ]
  },
  {
   "cell_type": "markdown",
   "metadata": {},
   "source": [
    "Identify all the submission regions to check they match those in the training data."
   ]
  },
  {
   "cell_type": "code",
   "execution_count": 4,
   "metadata": {},
   "outputs": [
    {
     "name": "stdout",
     "output_type": "stream",
     "text": [
      "['F9' 'GP1BB' 'HBB' 'HBG1' 'HNF4A' 'IRF4' 'IRF6' 'LDLR' 'MSMB' 'MYC'\n",
      " 'PKLR' 'SORT1' 'TERT-GBM' 'TERT-HEK293T' 'ZFAND3']\n",
      "['F9' 'GP1BB' 'HBB' 'HBG1' 'HNF4A' 'IRF4' 'IRF6' 'LDLR' 'MSMB'\n",
      " 'MYCrs6983267' 'PKLR' 'SORT1' 'TERT-GBM' 'TERT-HEK293T' 'ZFAND3']\n"
     ]
    }
   ],
   "source": [
    "sub_regions = submission['Promoter_Enhancer'].unique()\n",
    "sub_regions.sort()\n",
    "print(sub_regions)\n",
    "train_regions = training['regulatory_element'].str.slice(start=8).unique()\n",
    "train_regions.sort()\n",
    "print(train_regions)"
   ]
  },
  {
   "cell_type": "markdown",
   "metadata": {},
   "source": [
    "TODO: Make sure that MYC region names match between training and submission data frames."
   ]
  },
  {
   "cell_type": "markdown",
   "metadata": {},
   "source": [
    "### Use tuned hyperparameters"
   ]
  },
  {
   "cell_type": "markdown",
   "metadata": {},
   "source": [
    "These are taken from a kaggle kernel notebook"
   ]
  },
  {
   "cell_type": "code",
   "execution_count": 5,
   "metadata": {},
   "outputs": [],
   "source": [
    "tuned_params={\n",
    "    'max_depth': 2, #[3,4,5,6,7,8,9], # 5 is good but takes too long in kaggle env\n",
    "    'subsample': 0.6, #[0.4,0.5,0.6,0.7,0.8,0.9,1.0],\n",
    "    'colsample_bytree': 0.5, #[0.5,0.6,0.7,0.8],\n",
    "    'n_estimators': 1000, #[1000,2000,3000]\n",
    "    'reg_alpha': 0.03 #[0.01, 0.02, 0.03, 0.04]\n",
    "}"
   ]
  },
  {
   "cell_type": "markdown",
   "metadata": {},
   "source": [
    "These are tuned by Bayesian optimisation (in another notebook)"
   ]
  },
  {
   "cell_type": "code",
   "execution_count": 6,
   "metadata": {},
   "outputs": [],
   "source": [
    "tuned_params = {\n",
    "    'colsample_bytree': 0.7524052235178577,\n",
    "    'learning_rate': 0.39783003619093765,\n",
    "    'max_depth': 7,\n",
    "    'min_child_weight': 4.0467095559059505,\n",
    "    'reg_alpha': 0.030682622499703896,\n",
    "    'reg_lambda': 0.40505823486422077,\n",
    "    'subsample': 1.0\n",
    "}"
   ]
  },
  {
   "cell_type": "markdown",
   "metadata": {},
   "source": [
    "### Choose features"
   ]
  },
  {
   "cell_type": "code",
   "execution_count": 7,
   "metadata": {},
   "outputs": [],
   "source": [
    "def make_features(test):\n",
    "    if test:\n",
    "        stacked = Stacked('test-deep-dnase-cons')\n",
    "        deepseadiffs = DeepSeaSNP(filename_fmt='deepsea-test_{}_preds.npy')\n",
    "        ds500_dq = DeepSeaSNP(filename_fmt='ds500-dq-embed64-500-d20-3-5-11-test_{}_preds_v1.npy')\n",
    "    else:\n",
    "        stacked = Stacked('deep-dnase-cons')\n",
    "        deepseadiffs = DeepSeaSNP(filename_fmt='deepsea_{}_preds.npy')\n",
    "        ds500_dq = DeepSeaSNP(filename_fmt='ds500-dq-embed64-500-d20-3-5-11_{}_preds_v1.npy')\n",
    "    dnase = DNase(test=test)\n",
    "    conservation = Conservation()\n",
    "    # subst = SubstitutionOneHot(test=test)\n",
    "    # enhancer1hot = EnhancerOneHot(test=test)\n",
    "    # snpcontext2 = SNPContext(context_size=2, test=test)\n",
    "    # snpcontext4 = SNPContext(context_size=4, test=test)\n",
    "    return MultiFeatures([deepseadiffs, dnase, conservation, stacked])\n",
    "train_features = make_features(False)\n",
    "test_features = make_features(True)"
   ]
  },
  {
   "cell_type": "markdown",
   "metadata": {},
   "source": [
    "## Fit model"
   ]
  },
  {
   "cell_type": "code",
   "execution_count": 8,
   "metadata": {},
   "outputs": [
    {
     "name": "stderr",
     "output_type": "stream",
     "text": [
      "/home/john/Dev/cagimpra/venv3/lib/python3.5/site-packages/sklearn/utils/validation.py:578: DataConversionWarning: A column-vector y was passed when a 1d array was expected. Please change the shape of y to (n_samples, ), for example using ravel().\n",
      "  y = column_or_1d(y, warn=True)\n"
     ]
    }
   ],
   "source": [
    "# import models, importlib\n",
    "# importlib.reload(models)\n",
    "# from models import Regression, Classifier, StackedRegressionClassifier\n",
    "regression = Regression(train_features)\n",
    "classifier = Classifier(train_features)\n",
    "stacked = RegressionClassifier(regression, classifier)\n",
    "X_train = stacked.get_features(training)\n",
    "y_train = stacked.get_response(training)\n",
    "stacked.fit(X_train, y_train)"
   ]
  },
  {
   "cell_type": "markdown",
   "metadata": {},
   "source": [
    "## Make predictions"
   ]
  },
  {
   "cell_type": "code",
   "execution_count": 9,
   "metadata": {},
   "outputs": [
    {
     "data": {
      "text/html": [
       "<div>\n",
       "<style scoped>\n",
       "    .dataframe tbody tr th:only-of-type {\n",
       "        vertical-align: middle;\n",
       "    }\n",
       "\n",
       "    .dataframe tbody tr th {\n",
       "        vertical-align: top;\n",
       "    }\n",
       "\n",
       "    .dataframe thead th {\n",
       "        text-align: right;\n",
       "    }\n",
       "</style>\n",
       "<table border=\"1\" class=\"dataframe\">\n",
       "  <thead>\n",
       "    <tr style=\"text-align: right;\">\n",
       "      <th></th>\n",
       "      <th>NegativeProb</th>\n",
       "      <th>PositiveProb</th>\n",
       "      <th>PredClass</th>\n",
       "      <th>PredConfidence</th>\n",
       "      <th>PredValue</th>\n",
       "      <th>UncalledProb</th>\n",
       "    </tr>\n",
       "  </thead>\n",
       "  <tbody>\n",
       "    <tr>\n",
       "      <th>9853</th>\n",
       "      <td>0.493333</td>\n",
       "      <td>0.104539</td>\n",
       "      <td>-1</td>\n",
       "      <td>0.085786</td>\n",
       "      <td>-0.239404</td>\n",
       "      <td>0.402128</td>\n",
       "    </tr>\n",
       "    <tr>\n",
       "      <th>1535</th>\n",
       "      <td>0.557969</td>\n",
       "      <td>0.424073</td>\n",
       "      <td>-1</td>\n",
       "      <td>0.418988</td>\n",
       "      <td>-0.929279</td>\n",
       "      <td>0.017957</td>\n",
       "    </tr>\n",
       "    <tr>\n",
       "      <th>7172</th>\n",
       "      <td>0.348515</td>\n",
       "      <td>0.250216</td>\n",
       "      <td>0</td>\n",
       "      <td>0.071764</td>\n",
       "      <td>-0.042101</td>\n",
       "      <td>0.401269</td>\n",
       "    </tr>\n",
       "    <tr>\n",
       "      <th>7462</th>\n",
       "      <td>0.306812</td>\n",
       "      <td>0.291630</td>\n",
       "      <td>0</td>\n",
       "      <td>0.039331</td>\n",
       "      <td>0.018154</td>\n",
       "      <td>0.401557</td>\n",
       "    </tr>\n",
       "    <tr>\n",
       "      <th>11452</th>\n",
       "      <td>0.239902</td>\n",
       "      <td>0.350612</td>\n",
       "      <td>0</td>\n",
       "      <td>0.053723</td>\n",
       "      <td>0.003588</td>\n",
       "      <td>0.409485</td>\n",
       "    </tr>\n",
       "    <tr>\n",
       "      <th>12233</th>\n",
       "      <td>0.295784</td>\n",
       "      <td>0.306320</td>\n",
       "      <td>0</td>\n",
       "      <td>0.057379</td>\n",
       "      <td>0.045585</td>\n",
       "      <td>0.397895</td>\n",
       "    </tr>\n",
       "  </tbody>\n",
       "</table>\n",
       "</div>"
      ],
      "text/plain": [
       "       NegativeProb  PositiveProb  PredClass  PredConfidence  PredValue  \\\n",
       "9853       0.493333      0.104539         -1        0.085786  -0.239404   \n",
       "1535       0.557969      0.424073         -1        0.418988  -0.929279   \n",
       "7172       0.348515      0.250216          0        0.071764  -0.042101   \n",
       "7462       0.306812      0.291630          0        0.039331   0.018154   \n",
       "11452      0.239902      0.350612          0        0.053723   0.003588   \n",
       "12233      0.295784      0.306320          0        0.057379   0.045585   \n",
       "\n",
       "       UncalledProb  \n",
       "9853       0.402128  \n",
       "1535       0.017957  \n",
       "7172       0.401269  \n",
       "7462       0.401557  \n",
       "11452      0.409485  \n",
       "12233      0.397895  "
      ]
     },
     "execution_count": 9,
     "metadata": {},
     "output_type": "execute_result"
    }
   ],
   "source": [
    "X_test = test_features.get_features(submission)\n",
    "predictions = stacked.predict(X_test, submission.index)\n",
    "predictions.sample(6)"
   ]
  },
  {
   "cell_type": "markdown",
   "metadata": {},
   "source": [
    "Call which variants are present from the regression predictions"
   ]
  },
  {
   "cell_type": "code",
   "execution_count": 10,
   "metadata": {},
   "outputs": [
    {
     "data": {
      "text/html": [
       "<div>\n",
       "<style scoped>\n",
       "    .dataframe tbody tr th:only-of-type {\n",
       "        vertical-align: middle;\n",
       "    }\n",
       "\n",
       "    .dataframe tbody tr th {\n",
       "        vertical-align: top;\n",
       "    }\n",
       "\n",
       "    .dataframe thead th {\n",
       "        text-align: right;\n",
       "    }\n",
       "</style>\n",
       "<table border=\"1\" class=\"dataframe\">\n",
       "  <thead>\n",
       "    <tr style=\"text-align: right;\">\n",
       "      <th></th>\n",
       "      <th>NegativeProb</th>\n",
       "      <th>PositiveProb</th>\n",
       "      <th>PredClass</th>\n",
       "      <th>PredConfidence</th>\n",
       "      <th>PredValue</th>\n",
       "      <th>UncalledProb</th>\n",
       "      <th>Direction</th>\n",
       "      <th>P_Direction</th>\n",
       "      <th>Confidence</th>\n",
       "      <th>SE</th>\n",
       "    </tr>\n",
       "  </thead>\n",
       "  <tbody>\n",
       "    <tr>\n",
       "      <th>4995</th>\n",
       "      <td>0.558504</td>\n",
       "      <td>0.174894</td>\n",
       "      <td>-1</td>\n",
       "      <td>0.497742</td>\n",
       "      <td>-0.865923</td>\n",
       "      <td>0.266601</td>\n",
       "      <td>-1</td>\n",
       "      <td>0.558504</td>\n",
       "      <td>0.497742</td>\n",
       "      <td>0.1</td>\n",
       "    </tr>\n",
       "    <tr>\n",
       "      <th>1675</th>\n",
       "      <td>0.679125</td>\n",
       "      <td>0.221426</td>\n",
       "      <td>-1</td>\n",
       "      <td>0.445417</td>\n",
       "      <td>-0.322769</td>\n",
       "      <td>0.099449</td>\n",
       "      <td>-1</td>\n",
       "      <td>0.679125</td>\n",
       "      <td>0.445417</td>\n",
       "      <td>0.1</td>\n",
       "    </tr>\n",
       "    <tr>\n",
       "      <th>5730</th>\n",
       "      <td>0.339013</td>\n",
       "      <td>0.229690</td>\n",
       "      <td>0</td>\n",
       "      <td>0.390820</td>\n",
       "      <td>-0.364533</td>\n",
       "      <td>0.431297</td>\n",
       "      <td>0</td>\n",
       "      <td>0.431297</td>\n",
       "      <td>0.390820</td>\n",
       "      <td>0.1</td>\n",
       "    </tr>\n",
       "    <tr>\n",
       "      <th>10514</th>\n",
       "      <td>0.404378</td>\n",
       "      <td>0.220105</td>\n",
       "      <td>-1</td>\n",
       "      <td>0.180698</td>\n",
       "      <td>-0.352589</td>\n",
       "      <td>0.375517</td>\n",
       "      <td>-1</td>\n",
       "      <td>0.404378</td>\n",
       "      <td>0.180698</td>\n",
       "      <td>0.1</td>\n",
       "    </tr>\n",
       "    <tr>\n",
       "      <th>2647</th>\n",
       "      <td>0.283233</td>\n",
       "      <td>0.466180</td>\n",
       "      <td>1</td>\n",
       "      <td>0.038537</td>\n",
       "      <td>-0.002284</td>\n",
       "      <td>0.250587</td>\n",
       "      <td>1</td>\n",
       "      <td>0.466180</td>\n",
       "      <td>0.038537</td>\n",
       "      <td>0.1</td>\n",
       "    </tr>\n",
       "    <tr>\n",
       "      <th>3274</th>\n",
       "      <td>0.292875</td>\n",
       "      <td>0.293146</td>\n",
       "      <td>0</td>\n",
       "      <td>0.051620</td>\n",
       "      <td>0.014868</td>\n",
       "      <td>0.413979</td>\n",
       "      <td>0</td>\n",
       "      <td>0.413979</td>\n",
       "      <td>0.051620</td>\n",
       "      <td>0.1</td>\n",
       "    </tr>\n",
       "  </tbody>\n",
       "</table>\n",
       "</div>"
      ],
      "text/plain": [
       "       NegativeProb  PositiveProb  PredClass  PredConfidence  PredValue  \\\n",
       "4995       0.558504      0.174894         -1        0.497742  -0.865923   \n",
       "1675       0.679125      0.221426         -1        0.445417  -0.322769   \n",
       "5730       0.339013      0.229690          0        0.390820  -0.364533   \n",
       "10514      0.404378      0.220105         -1        0.180698  -0.352589   \n",
       "2647       0.283233      0.466180          1        0.038537  -0.002284   \n",
       "3274       0.292875      0.293146          0        0.051620   0.014868   \n",
       "\n",
       "       UncalledProb  Direction  P_Direction  Confidence   SE  \n",
       "4995       0.266601         -1     0.558504    0.497742  0.1  \n",
       "1675       0.099449         -1     0.679125    0.445417  0.1  \n",
       "5730       0.431297          0     0.431297    0.390820  0.1  \n",
       "10514      0.375517         -1     0.404378    0.180698  0.1  \n",
       "2647       0.250587          1     0.466180    0.038537  0.1  \n",
       "3274       0.413979          0     0.413979    0.051620  0.1  "
      ]
     },
     "execution_count": 10,
     "metadata": {},
     "output_type": "execute_result"
    }
   ],
   "source": [
    "# import models, importlib\n",
    "# importlib.reload(models)\n",
    "# from models import call_variants_from_regression\n",
    "predictions = stacked.make_submission(predictions)\n",
    "predictions.sample(6)"
   ]
  },
  {
   "cell_type": "markdown",
   "metadata": {},
   "source": [
    "Plot the predicted values against the probability that they are correct coloured by called direction."
   ]
  },
  {
   "cell_type": "code",
   "execution_count": 11,
   "metadata": {},
   "outputs": [
    {
     "data": {
      "image/png": "[encoded data removed]",
      "text/plain": [
       "<Figure size 864x576 with 1 Axes>"
      ]
     },
     "metadata": {},
     "output_type": "display_data"
    }
   ],
   "source": [
    "fig, ax = plt.subplots(figsize=(12, 8))\n",
    "alpha = .1\n",
    "neg = -1 == predictions['Direction']\n",
    "zero = 0 == predictions['Direction']\n",
    "pos =  1 == predictions['Direction']\n",
    "ax.scatter(predictions.loc[neg, 'PredValue'], predictions.loc[neg, 'P_Direction'], label='-', alpha=alpha)\n",
    "ax.scatter(predictions.loc[zero, 'PredValue'], predictions.loc[zero, 'P_Direction'], label='0', alpha=alpha)\n",
    "ax.scatter(predictions.loc[pos, 'PredValue'], predictions.loc[pos, 'P_Direction'], label='+', alpha=alpha)\n",
    "ax.legend()\n",
    "ax.set_xlabel('PredValue')\n",
    "ax.set_ylabel('p(direction correct)')\n",
    "None"
   ]
  },
  {
   "cell_type": "markdown",
   "metadata": {},
   "source": [
    "## Load confidence standard errors"
   ]
  },
  {
   "cell_type": "code",
   "execution_count": 22,
   "metadata": {},
   "outputs": [],
   "source": [
    "conf_se = np.load('data/conf-se.npy')\n",
    "predictions['SE'] = conf_se"
   ]
  },
  {
   "cell_type": "markdown",
   "metadata": {},
   "source": [
    "### Save predictions"
   ]
  },
  {
   "cell_type": "code",
   "execution_count": 27,
   "metadata": {},
   "outputs": [
    {
     "name": "stdout",
     "output_type": "stream",
     "text": [
      "Writing submission to: data/submission-1.txt\n"
     ]
    }
   ],
   "source": [
    "# import utils, importlib\n",
    "# importlib.reload(utils)\n",
    "for col in ['Direction', 'P_Direction', 'Confidence', 'SE']:\n",
    "    submission[col] = predictions[col]\n",
    "submission['Comments'] = '*'\n",
    "write_submission(submission, 'data/submission-1.txt')"
   ]
  }
 ],
 "metadata": {
  "kernelspec": {
   "display_name": "Python 3",
   "language": "python",
   "name": "python3"
  },
  "language_info": {
   "codemirror_mode": {
    "name": "ipython",
    "version": 3
   },
   "file_extension": ".py",
   "mimetype": "text/x-python",
   "name": "python",
   "nbconvert_exporter": "python",
   "pygments_lexer": "ipython3",
   "version": "3.5.2"
  }
 },
 "nbformat": 4,
 "nbformat_minor": 2
}
