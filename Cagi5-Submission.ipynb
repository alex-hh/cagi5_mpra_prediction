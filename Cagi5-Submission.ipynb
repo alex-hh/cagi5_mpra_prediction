{
 "cells": [
  {
   "cell_type": "markdown",
   "metadata": {},
   "source": [
    "A notebook to create the submission(s)."
   ]
  },
  {
   "cell_type": "code",
   "execution_count": 1,
   "metadata": {},
   "outputs": [],
   "source": [
    "import pandas as pd\n",
    "import numpy as np\n",
    "import matplotlib.pyplot as plt\n",
    "from models import DeepSeaSNP, Conservation, SNPContext, MultiFeatures, EnhancerOneHot, \\\n",
    "    Stacked, SubstitutionOneHot, DNase, Classifier, Regression, RegressionClassifier\n",
    "from utils import write_submission"
   ]
  },
  {
   "cell_type": "markdown",
   "metadata": {},
   "source": [
    "## Load data\n",
    "\n",
    "Read the training data with added conservation information."
   ]
  },
  {
   "cell_type": "code",
   "execution_count": 2,
   "metadata": {},
   "outputs": [
    {
     "data": {
      "text/html": [
       "<div>\n",
       "<style scoped>\n",
       "    .dataframe tbody tr th:only-of-type {\n",
       "        vertical-align: middle;\n",
       "    }\n",
       "\n",
       "    .dataframe tbody tr th {\n",
       "        vertical-align: top;\n",
       "    }\n",
       "\n",
       "    .dataframe thead th {\n",
       "        text-align: right;\n",
       "    }\n",
       "</style>\n",
       "<table border=\"1\" class=\"dataframe\">\n",
       "  <thead>\n",
       "    <tr style=\"text-align: right;\">\n",
       "      <th></th>\n",
       "      <th>#Chrom</th>\n",
       "      <th>Pos</th>\n",
       "      <th>Ref</th>\n",
       "      <th>Alt</th>\n",
       "      <th>Value</th>\n",
       "      <th>Confidence</th>\n",
       "      <th>class</th>\n",
       "      <th>regulatory_element</th>\n",
       "      <th>phastCon</th>\n",
       "      <th>phyloP</th>\n",
       "      <th>GerpN</th>\n",
       "      <th>GerpRS</th>\n",
       "    </tr>\n",
       "  </thead>\n",
       "  <tbody>\n",
       "    <tr>\n",
       "      <th>0</th>\n",
       "      <td>X</td>\n",
       "      <td>138612669</td>\n",
       "      <td>T</td>\n",
       "      <td>A</td>\n",
       "      <td>-0.17</td>\n",
       "      <td>0.07</td>\n",
       "      <td>0</td>\n",
       "      <td>release_F9</td>\n",
       "      <td>0.006</td>\n",
       "      <td>0.47</td>\n",
       "      <td>3.93</td>\n",
       "      <td>1.490</td>\n",
       "    </tr>\n",
       "    <tr>\n",
       "      <th>1</th>\n",
       "      <td>X</td>\n",
       "      <td>138612669</td>\n",
       "      <td>T</td>\n",
       "      <td>C</td>\n",
       "      <td>-0.26</td>\n",
       "      <td>0.24</td>\n",
       "      <td>-1</td>\n",
       "      <td>release_F9</td>\n",
       "      <td>0.006</td>\n",
       "      <td>0.47</td>\n",
       "      <td>3.93</td>\n",
       "      <td>1.490</td>\n",
       "    </tr>\n",
       "    <tr>\n",
       "      <th>2</th>\n",
       "      <td>X</td>\n",
       "      <td>138612669</td>\n",
       "      <td>T</td>\n",
       "      <td>G</td>\n",
       "      <td>0.34</td>\n",
       "      <td>0.05</td>\n",
       "      <td>0</td>\n",
       "      <td>release_F9</td>\n",
       "      <td>0.006</td>\n",
       "      <td>0.47</td>\n",
       "      <td>3.93</td>\n",
       "      <td>1.490</td>\n",
       "    </tr>\n",
       "    <tr>\n",
       "      <th>3</th>\n",
       "      <td>X</td>\n",
       "      <td>138612670</td>\n",
       "      <td>A</td>\n",
       "      <td>C</td>\n",
       "      <td>0.00</td>\n",
       "      <td>0.00</td>\n",
       "      <td>0</td>\n",
       "      <td>release_F9</td>\n",
       "      <td>0.008</td>\n",
       "      <td>0.47</td>\n",
       "      <td>3.93</td>\n",
       "      <td>0.337</td>\n",
       "    </tr>\n",
       "    <tr>\n",
       "      <th>4</th>\n",
       "      <td>X</td>\n",
       "      <td>138612670</td>\n",
       "      <td>A</td>\n",
       "      <td>G</td>\n",
       "      <td>0.22</td>\n",
       "      <td>0.20</td>\n",
       "      <td>1</td>\n",
       "      <td>release_F9</td>\n",
       "      <td>0.008</td>\n",
       "      <td>0.47</td>\n",
       "      <td>3.93</td>\n",
       "      <td>0.337</td>\n",
       "    </tr>\n",
       "  </tbody>\n",
       "</table>\n",
       "</div>"
      ],
      "text/plain": [
       "  #Chrom        Pos Ref Alt  Value  Confidence  class regulatory_element  \\\n",
       "0      X  138612669   T   A  -0.17        0.07      0         release_F9   \n",
       "1      X  138612669   T   C  -0.26        0.24     -1         release_F9   \n",
       "2      X  138612669   T   G   0.34        0.05      0         release_F9   \n",
       "3      X  138612670   A   C   0.00        0.00      0         release_F9   \n",
       "4      X  138612670   A   G   0.22        0.20      1         release_F9   \n",
       "\n",
       "   phastCon  phyloP  GerpN  GerpRS  \n",
       "0     0.006    0.47   3.93   1.490  \n",
       "1     0.006    0.47   3.93   1.490  \n",
       "2     0.006    0.47   3.93   1.490  \n",
       "3     0.008    0.47   3.93   0.337  \n",
       "4     0.008    0.47   3.93   0.337  "
      ]
     },
     "execution_count": 2,
     "metadata": {},
     "output_type": "execute_result"
    }
   ],
   "source": [
    "training = pd.read_csv('data/cagi5_df.csv')\n",
    "training.head()"
   ]
  },
  {
   "cell_type": "markdown",
   "metadata": {},
   "source": [
    "Read the submission data"
   ]
  },
  {
   "cell_type": "code",
   "execution_count": 3,
   "metadata": {},
   "outputs": [
    {
     "data": {
      "text/html": [
       "<div>\n",
       "<style scoped>\n",
       "    .dataframe tbody tr th:only-of-type {\n",
       "        vertical-align: middle;\n",
       "    }\n",
       "\n",
       "    .dataframe tbody tr th {\n",
       "        vertical-align: top;\n",
       "    }\n",
       "\n",
       "    .dataframe thead th {\n",
       "        text-align: right;\n",
       "    }\n",
       "</style>\n",
       "<table border=\"1\" class=\"dataframe\">\n",
       "  <thead>\n",
       "    <tr style=\"text-align: right;\">\n",
       "      <th></th>\n",
       "      <th>Chrom</th>\n",
       "      <th>Pos</th>\n",
       "      <th>Ref</th>\n",
       "      <th>Alt</th>\n",
       "      <th>Promoter_Enhancer</th>\n",
       "      <th>Direction</th>\n",
       "      <th>P_Direction</th>\n",
       "      <th>Confidence</th>\n",
       "      <th>SE</th>\n",
       "      <th>Comments</th>\n",
       "      <th>phastCon</th>\n",
       "      <th>phyloP</th>\n",
       "      <th>GerpN</th>\n",
       "      <th>GerpRS</th>\n",
       "    </tr>\n",
       "  </thead>\n",
       "  <tbody>\n",
       "    <tr>\n",
       "      <th>12163</th>\n",
       "      <td>22</td>\n",
       "      <td>19710826</td>\n",
       "      <td>C</td>\n",
       "      <td>G</td>\n",
       "      <td>GP1BB</td>\n",
       "      <td>NaN</td>\n",
       "      <td>NaN</td>\n",
       "      <td>NaN</td>\n",
       "      <td>NaN</td>\n",
       "      <td>NaN</td>\n",
       "      <td>0.984</td>\n",
       "      <td>0.557</td>\n",
       "      <td>4.40</td>\n",
       "      <td>2.0900</td>\n",
       "    </tr>\n",
       "    <tr>\n",
       "      <th>11488</th>\n",
       "      <td>20</td>\n",
       "      <td>42984180</td>\n",
       "      <td>A</td>\n",
       "      <td>G</td>\n",
       "      <td>HNF4A</td>\n",
       "      <td>NaN</td>\n",
       "      <td>NaN</td>\n",
       "      <td>NaN</td>\n",
       "      <td>NaN</td>\n",
       "      <td>NaN</td>\n",
       "      <td>0.892</td>\n",
       "      <td>-0.180</td>\n",
       "      <td>4.96</td>\n",
       "      <td>2.9100</td>\n",
       "    </tr>\n",
       "    <tr>\n",
       "      <th>1383</th>\n",
       "      <td>1</td>\n",
       "      <td>155271193</td>\n",
       "      <td>A</td>\n",
       "      <td>T</td>\n",
       "      <td>PKLR</td>\n",
       "      <td>NaN</td>\n",
       "      <td>NaN</td>\n",
       "      <td>NaN</td>\n",
       "      <td>NaN</td>\n",
       "      <td>NaN</td>\n",
       "      <td>0.027</td>\n",
       "      <td>0.375</td>\n",
       "      <td>4.59</td>\n",
       "      <td>-0.5300</td>\n",
       "    </tr>\n",
       "    <tr>\n",
       "      <th>7186</th>\n",
       "      <td>6</td>\n",
       "      <td>37775693</td>\n",
       "      <td>G</td>\n",
       "      <td>A</td>\n",
       "      <td>ZFAND3</td>\n",
       "      <td>NaN</td>\n",
       "      <td>NaN</td>\n",
       "      <td>NaN</td>\n",
       "      <td>NaN</td>\n",
       "      <td>NaN</td>\n",
       "      <td>0.071</td>\n",
       "      <td>0.581</td>\n",
       "      <td>4.91</td>\n",
       "      <td>4.9100</td>\n",
       "    </tr>\n",
       "    <tr>\n",
       "      <th>13219</th>\n",
       "      <td>X</td>\n",
       "      <td>138612737</td>\n",
       "      <td>G</td>\n",
       "      <td>T</td>\n",
       "      <td>F9</td>\n",
       "      <td>NaN</td>\n",
       "      <td>NaN</td>\n",
       "      <td>NaN</td>\n",
       "      <td>NaN</td>\n",
       "      <td>NaN</td>\n",
       "      <td>0.000</td>\n",
       "      <td>-0.969</td>\n",
       "      <td>3.93</td>\n",
       "      <td>-0.0637</td>\n",
       "    </tr>\n",
       "    <tr>\n",
       "      <th>5151</th>\n",
       "      <td>5</td>\n",
       "      <td>1295311</td>\n",
       "      <td>G</td>\n",
       "      <td>T</td>\n",
       "      <td>TERT-HEK293T</td>\n",
       "      <td>NaN</td>\n",
       "      <td>NaN</td>\n",
       "      <td>NaN</td>\n",
       "      <td>NaN</td>\n",
       "      <td>NaN</td>\n",
       "      <td>0.001</td>\n",
       "      <td>0.465</td>\n",
       "      <td>1.15</td>\n",
       "      <td>-0.1910</td>\n",
       "    </tr>\n",
       "  </tbody>\n",
       "</table>\n",
       "</div>"
      ],
      "text/plain": [
       "      Chrom        Pos Ref Alt Promoter_Enhancer  Direction  P_Direction  \\\n",
       "12163    22   19710826   C   G             GP1BB        NaN          NaN   \n",
       "11488    20   42984180   A   G             HNF4A        NaN          NaN   \n",
       "1383      1  155271193   A   T              PKLR        NaN          NaN   \n",
       "7186      6   37775693   G   A            ZFAND3        NaN          NaN   \n",
       "13219     X  138612737   G   T                F9        NaN          NaN   \n",
       "5151      5    1295311   G   T      TERT-HEK293T        NaN          NaN   \n",
       "\n",
       "       Confidence  SE  Comments  phastCon  phyloP  GerpN  GerpRS  \n",
       "12163         NaN NaN       NaN     0.984   0.557   4.40  2.0900  \n",
       "11488         NaN NaN       NaN     0.892  -0.180   4.96  2.9100  \n",
       "1383          NaN NaN       NaN     0.027   0.375   4.59 -0.5300  \n",
       "7186          NaN NaN       NaN     0.071   0.581   4.91  4.9100  \n",
       "13219         NaN NaN       NaN     0.000  -0.969   3.93 -0.0637  \n",
       "5151          NaN NaN       NaN     0.001   0.465   1.15 -0.1910  "
      ]
     },
     "execution_count": 3,
     "metadata": {},
     "output_type": "execute_result"
    }
   ],
   "source": [
    "submission = pd.read_csv(\n",
    "    'data/submission-with-cons.tsv',\n",
    "    sep='\\t',\n",
    "    na_values='*')\n",
    "submission.sample(6)"
   ]
  },
  {
   "cell_type": "markdown",
   "metadata": {},
   "source": [
    "Identify all the submission regions to check they match those in the training data."
   ]
  },
  {
   "cell_type": "code",
   "execution_count": 4,
   "metadata": {},
   "outputs": [
    {
     "name": "stdout",
     "output_type": "stream",
     "text": [
      "['F9' 'GP1BB' 'HBB' 'HBG1' 'HNF4A' 'IRF4' 'IRF6' 'LDLR' 'MSMB' 'MYC'\n",
      " 'PKLR' 'SORT1' 'TERT-GBM' 'TERT-HEK293T' 'ZFAND3']\n",
      "['F9' 'GP1BB' 'HBB' 'HBG1' 'HNF4A' 'IRF4' 'IRF6' 'LDLR' 'MSMB'\n",
      " 'MYCrs6983267' 'PKLR' 'SORT1' 'TERT-GBM' 'TERT-HEK293T' 'ZFAND3']\n"
     ]
    }
   ],
   "source": [
    "sub_regions = submission['Promoter_Enhancer'].unique()\n",
    "sub_regions.sort()\n",
    "print(sub_regions)\n",
    "train_regions = training['regulatory_element'].str.slice(start=8).unique()\n",
    "train_regions.sort()\n",
    "print(train_regions)"
   ]
  },
  {
   "cell_type": "markdown",
   "metadata": {},
   "source": [
    "TODO: Make sure that MYC region names match between training and submission data frames."
   ]
  },
  {
   "cell_type": "markdown",
   "metadata": {},
   "source": [
    "### Use tuned hyperparameters"
   ]
  },
  {
   "cell_type": "markdown",
   "metadata": {},
   "source": [
    "These are taken from a kaggle kernel notebook"
   ]
  },
  {
   "cell_type": "code",
   "execution_count": 5,
   "metadata": {},
   "outputs": [],
   "source": [
    "tuned_params={\n",
    "    'max_depth': 2, #[3,4,5,6,7,8,9], # 5 is good but takes too long in kaggle env\n",
    "    'subsample': 0.6, #[0.4,0.5,0.6,0.7,0.8,0.9,1.0],\n",
    "    'colsample_bytree': 0.5, #[0.5,0.6,0.7,0.8],\n",
    "    'n_estimators': 1000, #[1000,2000,3000]\n",
    "    'reg_alpha': 0.03 #[0.01, 0.02, 0.03, 0.04]\n",
    "}"
   ]
  },
  {
   "cell_type": "markdown",
   "metadata": {},
   "source": [
    "These are tuned by Bayesian optimisation (in another notebook)"
   ]
  },
  {
   "cell_type": "code",
   "execution_count": 6,
   "metadata": {},
   "outputs": [],
   "source": [
    "tuned_params = {\n",
    "    'colsample_bytree': 0.7524052235178577,\n",
    "    'learning_rate': 0.39783003619093765,\n",
    "    'max_depth': 7,\n",
    "    'min_child_weight': 4.0467095559059505,\n",
    "    'reg_alpha': 0.030682622499703896,\n",
    "    'reg_lambda': 0.40505823486422077,\n",
    "    'subsample': 1.0\n",
    "}"
   ]
  },
  {
   "cell_type": "markdown",
   "metadata": {},
   "source": [
    "### Choose features"
   ]
  },
  {
   "cell_type": "code",
   "execution_count": 7,
   "metadata": {},
   "outputs": [],
   "source": [
    "def make_features(test):\n",
    "    if test:\n",
    "        stacked = Stacked('test-deep-dnase-cons')\n",
    "        deepseadiffs = DeepSeaSNP(filename_fmt='deepsea-test_{}_preds.npy')\n",
    "        ds500_dq = DeepSeaSNP(filename_fmt='ds500-dq-embed64-500-d20-3-5-11-test_{}_preds_v1.npy')\n",
    "        crnn = DeepSeaSNP(filename_fmt='crnn_500_200-9-16-test_{}_preds_v1.npy')\n",
    "    else:\n",
    "        stacked = Stacked('deep-dnase-cons')\n",
    "        deepseadiffs = DeepSeaSNP(filename_fmt='deepsea_{}_preds.npy')\n",
    "        ds500_dq = DeepSeaSNP(filename_fmt='ds500-dq-embed64-500-d20-3-5-11_{}_preds_v1.npy')\n",
    "        crnn = DeepSeaSNP(filename_fmt='crnn_500_200-9-16_{}_preds_v1.npy')\n",
    "    dnase = DNase(test=test)\n",
    "    conservation = Conservation()\n",
    "    # subst = SubstitutionOneHot(test=test)\n",
    "    # enhancer1hot = EnhancerOneHot(test=test)\n",
    "    # snpcontext2 = SNPContext(context_size=2, test=test)\n",
    "    # snpcontext4 = SNPContext(context_size=4, test=test)\n",
    "    return MultiFeatures([crnn, dnase, conservation, stacked])\n",
    "train_features = make_features(False)\n",
    "test_features = make_features(True)"
   ]
  },
  {
   "cell_type": "markdown",
   "metadata": {},
   "source": [
    "## Fit model"
   ]
  },
  {
   "cell_type": "code",
   "execution_count": null,
   "metadata": {},
   "outputs": [],
   "source": [
    "# import models, importlib\n",
    "# importlib.reload(models)\n",
    "# from models import Regression, Classifier, StackedRegressionClassifier\n",
    "regression = Regression(features=train_features, model_kwargs=tuned_params)\n",
    "classifier = Classifier(features=train_features, model_kwargs=tuned_params)\n",
    "stacked = RegressionClassifier(regression, classifier)\n",
    "X_train = stacked.get_features(training)\n",
    "y_train = stacked.get_response(training)\n",
    "stacked.fit(X_train, y_train)"
   ]
  },
  {
   "cell_type": "markdown",
   "metadata": {},
   "source": [
    "## Make predictions"
   ]
  },
  {
   "cell_type": "code",
   "execution_count": null,
   "metadata": {},
   "outputs": [],
   "source": [
    "X_test = test_features.get_features(submission)\n",
    "predictions = stacked.predict(X_test, submission.index)\n",
    "predictions.sample(6)"
   ]
  },
  {
   "cell_type": "markdown",
   "metadata": {},
   "source": [
    "Call which variants are present from the regression predictions"
   ]
  },
  {
   "cell_type": "code",
   "execution_count": null,
   "metadata": {},
   "outputs": [],
   "source": [
    "# import models, importlib\n",
    "# importlib.reload(models)\n",
    "# from models import call_variants_from_regression\n",
    "predictions = stacked.make_submission(predictions)\n",
    "predictions.sample(6)"
   ]
  },
  {
   "cell_type": "markdown",
   "metadata": {},
   "source": [
    "Plot the predicted values against the probability that they are correct coloured by called direction."
   ]
  },
  {
   "cell_type": "code",
   "execution_count": null,
   "metadata": {},
   "outputs": [],
   "source": [
    "fig, ax = plt.subplots(figsize=(12, 8))\n",
    "alpha = .1\n",
    "neg = -1 == predictions['Direction']\n",
    "zero = 0 == predictions['Direction']\n",
    "pos =  1 == predictions['Direction']\n",
    "ax.scatter(predictions.loc[neg, 'PredValue'], predictions.loc[neg, 'P_Direction'], label='-', alpha=alpha)\n",
    "ax.scatter(predictions.loc[zero, 'PredValue'], predictions.loc[zero, 'P_Direction'], label='0', alpha=alpha)\n",
    "ax.scatter(predictions.loc[pos, 'PredValue'], predictions.loc[pos, 'P_Direction'], label='+', alpha=alpha)\n",
    "ax.legend()\n",
    "ax.set_xlabel('PredValue')\n",
    "ax.set_ylabel('p(direction correct)')\n",
    "None"
   ]
  },
  {
   "cell_type": "markdown",
   "metadata": {},
   "source": [
    "## Load confidence standard errors"
   ]
  },
  {
   "cell_type": "code",
   "execution_count": null,
   "metadata": {},
   "outputs": [],
   "source": [
    "conf_se = np.load('data/conf-se.npy')\n",
    "predictions['SE'] = conf_se"
   ]
  },
  {
   "cell_type": "markdown",
   "metadata": {},
   "source": [
    "### Save predictions"
   ]
  },
  {
   "cell_type": "code",
   "execution_count": null,
   "metadata": {},
   "outputs": [],
   "source": [
    "# import utils, importlib\n",
    "# importlib.reload(utils)\n",
    "for col in ['Direction', 'P_Direction', 'Confidence', 'SE']:\n",
    "    submission[col] = predictions[col]\n",
    "submission['Comments'] = '*'\n",
    "write_submission(submission, 'data/submission-4.txt')"
   ]
  }
 ],
 "metadata": {
  "kernelspec": {
   "display_name": "Python 3",
   "language": "python",
   "name": "python3"
  },
  "language_info": {
   "codemirror_mode": {
    "name": "ipython",
    "version": 3
   },
   "file_extension": ".py",
   "mimetype": "text/x-python",
   "name": "python",
   "nbconvert_exporter": "python",
   "pygments_lexer": "ipython3",
   "version": "3.5.2"
  }
 },
 "nbformat": 4,
 "nbformat_minor": 2
}
