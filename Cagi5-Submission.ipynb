{
 "cells": [
  {
   "cell_type": "markdown",
   "metadata": {},
   "source": [
    "A notebook to create the submission(s)."
   ]
  },
  {
   "cell_type": "code",
   "execution_count": 1,
   "metadata": {},
   "outputs": [],
   "source": [
    "import pandas as pd\n",
    "import numpy as np\n",
    "import matplotlib.pyplot as plt\n",
    "from models import DeepSeaSNP, Conservation, SNPContext, MultiFeatures, EnhancerOneHot, \\\n",
    "    Stacked, SubstitutionOneHot, DNase, Classifier, Regression, RegressionClassifier\n",
    "from utils import write_submission"
   ]
  },
  {
   "cell_type": "markdown",
   "metadata": {},
   "source": [
    "## Load data\n",
    "\n",
    "Read the training data with added conservation information."
   ]
  },
  {
   "cell_type": "code",
   "execution_count": 2,
   "metadata": {},
   "outputs": [
    {
     "data": {
      "text/html": [
       "<div>\n",
       "<style scoped>\n",
       "    .dataframe tbody tr th:only-of-type {\n",
       "        vertical-align: middle;\n",
       "    }\n",
       "\n",
       "    .dataframe tbody tr th {\n",
       "        vertical-align: top;\n",
       "    }\n",
       "\n",
       "    .dataframe thead th {\n",
       "        text-align: right;\n",
       "    }\n",
       "</style>\n",
       "<table border=\"1\" class=\"dataframe\">\n",
       "  <thead>\n",
       "    <tr style=\"text-align: right;\">\n",
       "      <th></th>\n",
       "      <th>#Chrom</th>\n",
       "      <th>Pos</th>\n",
       "      <th>Ref</th>\n",
       "      <th>Alt</th>\n",
       "      <th>Value</th>\n",
       "      <th>Confidence</th>\n",
       "      <th>class</th>\n",
       "      <th>regulatory_element</th>\n",
       "      <th>phastCon</th>\n",
       "      <th>phyloP</th>\n",
       "      <th>GerpN</th>\n",
       "      <th>GerpRS</th>\n",
       "    </tr>\n",
       "  </thead>\n",
       "  <tbody>\n",
       "    <tr>\n",
       "      <th>0</th>\n",
       "      <td>X</td>\n",
       "      <td>138612669</td>\n",
       "      <td>T</td>\n",
       "      <td>A</td>\n",
       "      <td>-0.17</td>\n",
       "      <td>0.07</td>\n",
       "      <td>0</td>\n",
       "      <td>release_F9</td>\n",
       "      <td>0.006</td>\n",
       "      <td>0.47</td>\n",
       "      <td>3.93</td>\n",
       "      <td>1.490</td>\n",
       "    </tr>\n",
       "    <tr>\n",
       "      <th>1</th>\n",
       "      <td>X</td>\n",
       "      <td>138612669</td>\n",
       "      <td>T</td>\n",
       "      <td>C</td>\n",
       "      <td>-0.26</td>\n",
       "      <td>0.24</td>\n",
       "      <td>-1</td>\n",
       "      <td>release_F9</td>\n",
       "      <td>0.006</td>\n",
       "      <td>0.47</td>\n",
       "      <td>3.93</td>\n",
       "      <td>1.490</td>\n",
       "    </tr>\n",
       "    <tr>\n",
       "      <th>2</th>\n",
       "      <td>X</td>\n",
       "      <td>138612669</td>\n",
       "      <td>T</td>\n",
       "      <td>G</td>\n",
       "      <td>0.34</td>\n",
       "      <td>0.05</td>\n",
       "      <td>0</td>\n",
       "      <td>release_F9</td>\n",
       "      <td>0.006</td>\n",
       "      <td>0.47</td>\n",
       "      <td>3.93</td>\n",
       "      <td>1.490</td>\n",
       "    </tr>\n",
       "    <tr>\n",
       "      <th>3</th>\n",
       "      <td>X</td>\n",
       "      <td>138612670</td>\n",
       "      <td>A</td>\n",
       "      <td>C</td>\n",
       "      <td>0.00</td>\n",
       "      <td>0.00</td>\n",
       "      <td>0</td>\n",
       "      <td>release_F9</td>\n",
       "      <td>0.008</td>\n",
       "      <td>0.47</td>\n",
       "      <td>3.93</td>\n",
       "      <td>0.337</td>\n",
       "    </tr>\n",
       "    <tr>\n",
       "      <th>4</th>\n",
       "      <td>X</td>\n",
       "      <td>138612670</td>\n",
       "      <td>A</td>\n",
       "      <td>G</td>\n",
       "      <td>0.22</td>\n",
       "      <td>0.20</td>\n",
       "      <td>1</td>\n",
       "      <td>release_F9</td>\n",
       "      <td>0.008</td>\n",
       "      <td>0.47</td>\n",
       "      <td>3.93</td>\n",
       "      <td>0.337</td>\n",
       "    </tr>\n",
       "  </tbody>\n",
       "</table>\n",
       "</div>"
      ],
      "text/plain": [
       "  #Chrom        Pos Ref Alt  Value  Confidence  class regulatory_element  \\\n",
       "0      X  138612669   T   A  -0.17        0.07      0         release_F9   \n",
       "1      X  138612669   T   C  -0.26        0.24     -1         release_F9   \n",
       "2      X  138612669   T   G   0.34        0.05      0         release_F9   \n",
       "3      X  138612670   A   C   0.00        0.00      0         release_F9   \n",
       "4      X  138612670   A   G   0.22        0.20      1         release_F9   \n",
       "\n",
       "   phastCon  phyloP  GerpN  GerpRS  \n",
       "0     0.006    0.47   3.93   1.490  \n",
       "1     0.006    0.47   3.93   1.490  \n",
       "2     0.006    0.47   3.93   1.490  \n",
       "3     0.008    0.47   3.93   0.337  \n",
       "4     0.008    0.47   3.93   0.337  "
      ]
     },
     "execution_count": 2,
     "metadata": {},
     "output_type": "execute_result"
    }
   ],
   "source": [
    "training = pd.read_csv('data/cagi5_df.csv')\n",
    "training.head()"
   ]
  },
  {
   "cell_type": "markdown",
   "metadata": {},
   "source": [
    "Read the submission data"
   ]
  },
  {
   "cell_type": "code",
   "execution_count": 3,
   "metadata": {},
   "outputs": [
    {
     "data": {
      "text/html": [
       "<div>\n",
       "<style scoped>\n",
       "    .dataframe tbody tr th:only-of-type {\n",
       "        vertical-align: middle;\n",
       "    }\n",
       "\n",
       "    .dataframe tbody tr th {\n",
       "        vertical-align: top;\n",
       "    }\n",
       "\n",
       "    .dataframe thead th {\n",
       "        text-align: right;\n",
       "    }\n",
       "</style>\n",
       "<table border=\"1\" class=\"dataframe\">\n",
       "  <thead>\n",
       "    <tr style=\"text-align: right;\">\n",
       "      <th></th>\n",
       "      <th>Chrom</th>\n",
       "      <th>Pos</th>\n",
       "      <th>Ref</th>\n",
       "      <th>Alt</th>\n",
       "      <th>Promoter_Enhancer</th>\n",
       "      <th>Direction</th>\n",
       "      <th>P_Direction</th>\n",
       "      <th>Confidence</th>\n",
       "      <th>SE</th>\n",
       "      <th>Comments</th>\n",
       "      <th>phastCon</th>\n",
       "      <th>phyloP</th>\n",
       "      <th>GerpN</th>\n",
       "      <th>GerpRS</th>\n",
       "    </tr>\n",
       "  </thead>\n",
       "  <tbody>\n",
       "    <tr>\n",
       "      <th>1897</th>\n",
       "      <td>1</td>\n",
       "      <td>155271429</td>\n",
       "      <td>T</td>\n",
       "      <td>G</td>\n",
       "      <td>PKLR</td>\n",
       "      <td>NaN</td>\n",
       "      <td>NaN</td>\n",
       "      <td>NaN</td>\n",
       "      <td>NaN</td>\n",
       "      <td>NaN</td>\n",
       "      <td>0.016</td>\n",
       "      <td>-0.555</td>\n",
       "      <td>3.97</td>\n",
       "      <td>-7.040</td>\n",
       "    </tr>\n",
       "    <tr>\n",
       "      <th>12318</th>\n",
       "      <td>22</td>\n",
       "      <td>19710894</td>\n",
       "      <td>A</td>\n",
       "      <td>C</td>\n",
       "      <td>GP1BB</td>\n",
       "      <td>NaN</td>\n",
       "      <td>NaN</td>\n",
       "      <td>NaN</td>\n",
       "      <td>NaN</td>\n",
       "      <td>NaN</td>\n",
       "      <td>0.246</td>\n",
       "      <td>0.455</td>\n",
       "      <td>3.95</td>\n",
       "      <td>2.790</td>\n",
       "    </tr>\n",
       "    <tr>\n",
       "      <th>11470</th>\n",
       "      <td>20</td>\n",
       "      <td>42984174</td>\n",
       "      <td>A</td>\n",
       "      <td>G</td>\n",
       "      <td>HNF4A</td>\n",
       "      <td>NaN</td>\n",
       "      <td>NaN</td>\n",
       "      <td>NaN</td>\n",
       "      <td>NaN</td>\n",
       "      <td>NaN</td>\n",
       "      <td>0.696</td>\n",
       "      <td>-0.295</td>\n",
       "      <td>4.96</td>\n",
       "      <td>2.650</td>\n",
       "    </tr>\n",
       "    <tr>\n",
       "      <th>3463</th>\n",
       "      <td>1</td>\n",
       "      <td>209989361</td>\n",
       "      <td>T</td>\n",
       "      <td>C</td>\n",
       "      <td>IRF6</td>\n",
       "      <td>NaN</td>\n",
       "      <td>NaN</td>\n",
       "      <td>NaN</td>\n",
       "      <td>NaN</td>\n",
       "      <td>NaN</td>\n",
       "      <td>0.797</td>\n",
       "      <td>-0.338</td>\n",
       "      <td>5.28</td>\n",
       "      <td>-0.236</td>\n",
       "    </tr>\n",
       "    <tr>\n",
       "      <th>10823</th>\n",
       "      <td>19</td>\n",
       "      <td>11199960</td>\n",
       "      <td>A</td>\n",
       "      <td>T</td>\n",
       "      <td>LDLR</td>\n",
       "      <td>NaN</td>\n",
       "      <td>NaN</td>\n",
       "      <td>NaN</td>\n",
       "      <td>NaN</td>\n",
       "      <td>NaN</td>\n",
       "      <td>0.002</td>\n",
       "      <td>-0.682</td>\n",
       "      <td>3.21</td>\n",
       "      <td>-5.780</td>\n",
       "    </tr>\n",
       "    <tr>\n",
       "      <th>4139</th>\n",
       "      <td>1</td>\n",
       "      <td>209989718</td>\n",
       "      <td>T</td>\n",
       "      <td>A</td>\n",
       "      <td>IRF6</td>\n",
       "      <td>NaN</td>\n",
       "      <td>NaN</td>\n",
       "      <td>NaN</td>\n",
       "      <td>NaN</td>\n",
       "      <td>NaN</td>\n",
       "      <td>0.004</td>\n",
       "      <td>0.455</td>\n",
       "      <td>2.19</td>\n",
       "      <td>-2.020</td>\n",
       "    </tr>\n",
       "  </tbody>\n",
       "</table>\n",
       "</div>"
      ],
      "text/plain": [
       "      Chrom        Pos Ref Alt Promoter_Enhancer  Direction  P_Direction  \\\n",
       "1897      1  155271429   T   G              PKLR        NaN          NaN   \n",
       "12318    22   19710894   A   C             GP1BB        NaN          NaN   \n",
       "11470    20   42984174   A   G             HNF4A        NaN          NaN   \n",
       "3463      1  209989361   T   C              IRF6        NaN          NaN   \n",
       "10823    19   11199960   A   T              LDLR        NaN          NaN   \n",
       "4139      1  209989718   T   A              IRF6        NaN          NaN   \n",
       "\n",
       "       Confidence  SE  Comments  phastCon  phyloP  GerpN  GerpRS  \n",
       "1897          NaN NaN       NaN     0.016  -0.555   3.97  -7.040  \n",
       "12318         NaN NaN       NaN     0.246   0.455   3.95   2.790  \n",
       "11470         NaN NaN       NaN     0.696  -0.295   4.96   2.650  \n",
       "3463          NaN NaN       NaN     0.797  -0.338   5.28  -0.236  \n",
       "10823         NaN NaN       NaN     0.002  -0.682   3.21  -5.780  \n",
       "4139          NaN NaN       NaN     0.004   0.455   2.19  -2.020  "
      ]
     },
     "execution_count": 3,
     "metadata": {},
     "output_type": "execute_result"
    }
   ],
   "source": [
    "submission = pd.read_csv(\n",
    "    'data/submission-with-cons.tsv',\n",
    "    sep='\\t',\n",
    "    na_values='*')\n",
    "submission.sample(6)"
   ]
  },
  {
   "cell_type": "markdown",
   "metadata": {},
   "source": [
    "Identify all the submission regions to check they match those in the training data."
   ]
  },
  {
   "cell_type": "code",
   "execution_count": 4,
   "metadata": {},
   "outputs": [
    {
     "name": "stdout",
     "output_type": "stream",
     "text": [
      "['F9' 'GP1BB' 'HBB' 'HBG1' 'HNF4A' 'IRF4' 'IRF6' 'LDLR' 'MSMB' 'MYC'\n",
      " 'PKLR' 'SORT1' 'TERT-GBM' 'TERT-HEK293T' 'ZFAND3']\n",
      "['F9' 'GP1BB' 'HBB' 'HBG1' 'HNF4A' 'IRF4' 'IRF6' 'LDLR' 'MSMB'\n",
      " 'MYCrs6983267' 'PKLR' 'SORT1' 'TERT-GBM' 'TERT-HEK293T' 'ZFAND3']\n"
     ]
    }
   ],
   "source": [
    "sub_regions = submission['Promoter_Enhancer'].unique()\n",
    "sub_regions.sort()\n",
    "print(sub_regions)\n",
    "train_regions = training['regulatory_element'].str.slice(start=8).unique()\n",
    "train_regions.sort()\n",
    "print(train_regions)"
   ]
  },
  {
   "cell_type": "markdown",
   "metadata": {},
   "source": [
    "TODO: Make sure that MYC region names match between training and submission data frames."
   ]
  },
  {
   "cell_type": "markdown",
   "metadata": {},
   "source": [
    "### Use tuned hyperparameters"
   ]
  },
  {
   "cell_type": "markdown",
   "metadata": {},
   "source": [
    "These are taken from a kaggle kernel notebook"
   ]
  },
  {
   "cell_type": "code",
   "execution_count": 5,
   "metadata": {},
   "outputs": [],
   "source": [
    "tuned_params={\n",
    "    'max_depth': 2, #[3,4,5,6,7,8,9], # 5 is good but takes too long in kaggle env\n",
    "    'subsample': 0.6, #[0.4,0.5,0.6,0.7,0.8,0.9,1.0],\n",
    "    'colsample_bytree': 0.5, #[0.5,0.6,0.7,0.8],\n",
    "    'n_estimators': 1000, #[1000,2000,3000]\n",
    "    'reg_alpha': 0.03 #[0.01, 0.02, 0.03, 0.04]\n",
    "}"
   ]
  },
  {
   "cell_type": "markdown",
   "metadata": {},
   "source": [
    "These are tuned by Bayesian optimisation (in another notebook)"
   ]
  },
  {
   "cell_type": "code",
   "execution_count": 6,
   "metadata": {},
   "outputs": [],
   "source": [
    "tuned_params = {\n",
    "    'colsample_bytree': 0.7524052235178577,\n",
    "    'learning_rate': 0.39783003619093765,\n",
    "    'max_depth': 7,\n",
    "    'min_child_weight': 4.0467095559059505,\n",
    "    'reg_alpha': 0.030682622499703896,\n",
    "    'reg_lambda': 0.40505823486422077,\n",
    "    'subsample': 1.0\n",
    "}"
   ]
  },
  {
   "cell_type": "markdown",
   "metadata": {},
   "source": [
    "### Choose features"
   ]
  },
  {
   "cell_type": "code",
   "execution_count": 7,
   "metadata": {},
   "outputs": [],
   "source": [
    "def make_features(test):\n",
    "    if test:\n",
    "        stacked = Stacked('test-deep-dnase-cons')\n",
    "        deepseadiffs = DeepSeaSNP(filename_fmt='deepsea-test_{}_preds.npy')\n",
    "        ds500_dq = DeepSeaSNP(filename_fmt='ds500-dq-embed64-500-d20-3-5-11-test_{}_preds_v1.npy')\n",
    "        crnn = DeepSeaSNP(filename_fmt='crnn_500_200-9-16-test_{}_preds_v1.npy')\n",
    "    else:\n",
    "        stacked = Stacked('deep-dnase-cons')\n",
    "        deepseadiffs = DeepSeaSNP(filename_fmt='deepsea_{}_preds.npy')\n",
    "        ds500_dq = DeepSeaSNP(filename_fmt='ds500-dq-embed64-500-d20-3-5-11_{}_preds_v1.npy')\n",
    "        crnn = DeepSeaSNP(filename_fmt='crnn_500_200-9-16_{}_preds_v1.npy')\n",
    "    dnase = DNase(test=test)\n",
    "    conservation = Conservation()\n",
    "    # subst = SubstitutionOneHot(test=test)\n",
    "    # enhancer1hot = EnhancerOneHot(test=test)\n",
    "    # snpcontext2 = SNPContext(context_size=2, test=test)\n",
    "    # snpcontext4 = SNPContext(context_size=4, test=test)\n",
    "    return MultiFeatures([deepseadiffs, crnn, dnase, conservation, stacked])\n",
    "train_features = make_features(False)\n",
    "test_features = make_features(True)"
   ]
  },
  {
   "cell_type": "markdown",
   "metadata": {},
   "source": [
    "## Fit model"
   ]
  },
  {
   "cell_type": "code",
   "execution_count": 8,
   "metadata": {},
   "outputs": [
    {
     "name": "stderr",
     "output_type": "stream",
     "text": [
      "/home/john/Dev/cagimpra/venv3/lib/python3.5/site-packages/sklearn/utils/validation.py:578: DataConversionWarning: A column-vector y was passed when a 1d array was expected. Please change the shape of y to (n_samples, ), for example using ravel().\n",
      "  y = column_or_1d(y, warn=True)\n"
     ]
    }
   ],
   "source": [
    "# import models, importlib\n",
    "# importlib.reload(models)\n",
    "# from models import Regression, Classifier, StackedRegressionClassifier\n",
    "tuned_params['max_depth'] = 9\n",
    "regression = Regression(features=train_features)\n",
    "classifier = Classifier(features=train_features)\n",
    "stacked = RegressionClassifier(regression, classifier)\n",
    "X_train = stacked.get_features(training)\n",
    "y_train = stacked.get_response(training)\n",
    "stacked.fit(X_train, y_train)"
   ]
  },
  {
   "cell_type": "markdown",
   "metadata": {},
   "source": [
    "## Make predictions"
   ]
  },
  {
   "cell_type": "code",
   "execution_count": 9,
   "metadata": {},
   "outputs": [
    {
     "data": {
      "text/html": [
       "<div>\n",
       "<style scoped>\n",
       "    .dataframe tbody tr th:only-of-type {\n",
       "        vertical-align: middle;\n",
       "    }\n",
       "\n",
       "    .dataframe tbody tr th {\n",
       "        vertical-align: top;\n",
       "    }\n",
       "\n",
       "    .dataframe thead th {\n",
       "        text-align: right;\n",
       "    }\n",
       "</style>\n",
       "<table border=\"1\" class=\"dataframe\">\n",
       "  <thead>\n",
       "    <tr style=\"text-align: right;\">\n",
       "      <th></th>\n",
       "      <th>NegativeProb</th>\n",
       "      <th>PositiveProb</th>\n",
       "      <th>PredClass</th>\n",
       "      <th>PredConfidence</th>\n",
       "      <th>PredValue</th>\n",
       "      <th>UncalledProb</th>\n",
       "    </tr>\n",
       "  </thead>\n",
       "  <tbody>\n",
       "    <tr>\n",
       "      <th>10900</th>\n",
       "      <td>0.437929</td>\n",
       "      <td>0.197789</td>\n",
       "      <td>-1</td>\n",
       "      <td>0.263744</td>\n",
       "      <td>-0.360640</td>\n",
       "      <td>0.364282</td>\n",
       "    </tr>\n",
       "    <tr>\n",
       "      <th>6009</th>\n",
       "      <td>0.399432</td>\n",
       "      <td>0.283884</td>\n",
       "      <td>-1</td>\n",
       "      <td>0.180684</td>\n",
       "      <td>-0.199150</td>\n",
       "      <td>0.316684</td>\n",
       "    </tr>\n",
       "    <tr>\n",
       "      <th>9541</th>\n",
       "      <td>0.238690</td>\n",
       "      <td>0.354959</td>\n",
       "      <td>0</td>\n",
       "      <td>0.094263</td>\n",
       "      <td>0.028070</td>\n",
       "      <td>0.406351</td>\n",
       "    </tr>\n",
       "    <tr>\n",
       "      <th>8942</th>\n",
       "      <td>0.251110</td>\n",
       "      <td>0.314391</td>\n",
       "      <td>0</td>\n",
       "      <td>0.036439</td>\n",
       "      <td>0.013443</td>\n",
       "      <td>0.434499</td>\n",
       "    </tr>\n",
       "    <tr>\n",
       "      <th>12175</th>\n",
       "      <td>0.313608</td>\n",
       "      <td>0.313444</td>\n",
       "      <td>0</td>\n",
       "      <td>0.030771</td>\n",
       "      <td>-0.055386</td>\n",
       "      <td>0.372948</td>\n",
       "    </tr>\n",
       "    <tr>\n",
       "      <th>11364</th>\n",
       "      <td>0.259093</td>\n",
       "      <td>0.296717</td>\n",
       "      <td>0</td>\n",
       "      <td>0.132093</td>\n",
       "      <td>-0.106779</td>\n",
       "      <td>0.444190</td>\n",
       "    </tr>\n",
       "  </tbody>\n",
       "</table>\n",
       "</div>"
      ],
      "text/plain": [
       "       NegativeProb  PositiveProb  PredClass  PredConfidence  PredValue  \\\n",
       "10900      0.437929      0.197789         -1        0.263744  -0.360640   \n",
       "6009       0.399432      0.283884         -1        0.180684  -0.199150   \n",
       "9541       0.238690      0.354959          0        0.094263   0.028070   \n",
       "8942       0.251110      0.314391          0        0.036439   0.013443   \n",
       "12175      0.313608      0.313444          0        0.030771  -0.055386   \n",
       "11364      0.259093      0.296717          0        0.132093  -0.106779   \n",
       "\n",
       "       UncalledProb  \n",
       "10900      0.364282  \n",
       "6009       0.316684  \n",
       "9541       0.406351  \n",
       "8942       0.434499  \n",
       "12175      0.372948  \n",
       "11364      0.444190  "
      ]
     },
     "execution_count": 9,
     "metadata": {},
     "output_type": "execute_result"
    }
   ],
   "source": [
    "X_test = test_features.get_features(submission)\n",
    "predictions = stacked.predict(X_test, submission.index)\n",
    "predictions.sample(6)"
   ]
  },
  {
   "cell_type": "markdown",
   "metadata": {},
   "source": [
    "Call which variants are present from the regression predictions"
   ]
  },
  {
   "cell_type": "code",
   "execution_count": 10,
   "metadata": {},
   "outputs": [
    {
     "data": {
      "text/html": [
       "<div>\n",
       "<style scoped>\n",
       "    .dataframe tbody tr th:only-of-type {\n",
       "        vertical-align: middle;\n",
       "    }\n",
       "\n",
       "    .dataframe tbody tr th {\n",
       "        vertical-align: top;\n",
       "    }\n",
       "\n",
       "    .dataframe thead th {\n",
       "        text-align: right;\n",
       "    }\n",
       "</style>\n",
       "<table border=\"1\" class=\"dataframe\">\n",
       "  <thead>\n",
       "    <tr style=\"text-align: right;\">\n",
       "      <th></th>\n",
       "      <th>NegativeProb</th>\n",
       "      <th>PositiveProb</th>\n",
       "      <th>PredClass</th>\n",
       "      <th>PredConfidence</th>\n",
       "      <th>PredValue</th>\n",
       "      <th>UncalledProb</th>\n",
       "      <th>Direction</th>\n",
       "      <th>P_Direction</th>\n",
       "      <th>Confidence</th>\n",
       "      <th>SE</th>\n",
       "    </tr>\n",
       "  </thead>\n",
       "  <tbody>\n",
       "    <tr>\n",
       "      <th>6018</th>\n",
       "      <td>0.579977</td>\n",
       "      <td>0.210374</td>\n",
       "      <td>-1</td>\n",
       "      <td>0.204248</td>\n",
       "      <td>-0.059470</td>\n",
       "      <td>0.209649</td>\n",
       "      <td>-1</td>\n",
       "      <td>0.579977</td>\n",
       "      <td>0.204248</td>\n",
       "      <td>0.1</td>\n",
       "    </tr>\n",
       "    <tr>\n",
       "      <th>8468</th>\n",
       "      <td>0.269515</td>\n",
       "      <td>0.315585</td>\n",
       "      <td>0</td>\n",
       "      <td>0.031086</td>\n",
       "      <td>-0.001643</td>\n",
       "      <td>0.414900</td>\n",
       "      <td>0</td>\n",
       "      <td>0.414900</td>\n",
       "      <td>0.031086</td>\n",
       "      <td>0.1</td>\n",
       "    </tr>\n",
       "    <tr>\n",
       "      <th>9138</th>\n",
       "      <td>0.286551</td>\n",
       "      <td>0.278483</td>\n",
       "      <td>0</td>\n",
       "      <td>0.055991</td>\n",
       "      <td>0.030197</td>\n",
       "      <td>0.434965</td>\n",
       "      <td>0</td>\n",
       "      <td>0.434965</td>\n",
       "      <td>0.055991</td>\n",
       "      <td>0.1</td>\n",
       "    </tr>\n",
       "    <tr>\n",
       "      <th>8079</th>\n",
       "      <td>0.298376</td>\n",
       "      <td>0.310780</td>\n",
       "      <td>0</td>\n",
       "      <td>0.034385</td>\n",
       "      <td>0.016901</td>\n",
       "      <td>0.390844</td>\n",
       "      <td>0</td>\n",
       "      <td>0.390844</td>\n",
       "      <td>0.034385</td>\n",
       "      <td>0.1</td>\n",
       "    </tr>\n",
       "    <tr>\n",
       "      <th>6625</th>\n",
       "      <td>0.264502</td>\n",
       "      <td>0.306338</td>\n",
       "      <td>0</td>\n",
       "      <td>0.079231</td>\n",
       "      <td>-0.006543</td>\n",
       "      <td>0.429160</td>\n",
       "      <td>0</td>\n",
       "      <td>0.429160</td>\n",
       "      <td>0.079231</td>\n",
       "      <td>0.1</td>\n",
       "    </tr>\n",
       "    <tr>\n",
       "      <th>1203</th>\n",
       "      <td>0.298286</td>\n",
       "      <td>0.289556</td>\n",
       "      <td>0</td>\n",
       "      <td>0.058793</td>\n",
       "      <td>-0.011528</td>\n",
       "      <td>0.412158</td>\n",
       "      <td>0</td>\n",
       "      <td>0.412158</td>\n",
       "      <td>0.058793</td>\n",
       "      <td>0.1</td>\n",
       "    </tr>\n",
       "  </tbody>\n",
       "</table>\n",
       "</div>"
      ],
      "text/plain": [
       "      NegativeProb  PositiveProb  PredClass  PredConfidence  PredValue  \\\n",
       "6018      0.579977      0.210374         -1        0.204248  -0.059470   \n",
       "8468      0.269515      0.315585          0        0.031086  -0.001643   \n",
       "9138      0.286551      0.278483          0        0.055991   0.030197   \n",
       "8079      0.298376      0.310780          0        0.034385   0.016901   \n",
       "6625      0.264502      0.306338          0        0.079231  -0.006543   \n",
       "1203      0.298286      0.289556          0        0.058793  -0.011528   \n",
       "\n",
       "      UncalledProb  Direction  P_Direction  Confidence   SE  \n",
       "6018      0.209649         -1     0.579977    0.204248  0.1  \n",
       "8468      0.414900          0     0.414900    0.031086  0.1  \n",
       "9138      0.434965          0     0.434965    0.055991  0.1  \n",
       "8079      0.390844          0     0.390844    0.034385  0.1  \n",
       "6625      0.429160          0     0.429160    0.079231  0.1  \n",
       "1203      0.412158          0     0.412158    0.058793  0.1  "
      ]
     },
     "execution_count": 10,
     "metadata": {},
     "output_type": "execute_result"
    }
   ],
   "source": [
    "# import models, importlib\n",
    "# importlib.reload(models)\n",
    "# from models import call_variants_from_regression\n",
    "predictions = stacked.make_submission(predictions)\n",
    "predictions.sample(6)"
   ]
  },
  {
   "cell_type": "markdown",
   "metadata": {},
   "source": [
    "Plot the predicted values against the probability that they are correct coloured by called direction."
   ]
  },
  {
   "cell_type": "code",
   "execution_count": 11,
   "metadata": {},
   "outputs": [
    {
     "data": {
      "image/png": "[encoded data removed]",
      "text/plain": [
       "<Figure size 864x576 with 1 Axes>"
      ]
     },
     "metadata": {},
     "output_type": "display_data"
    }
   ],
   "source": [
    "fig, ax = plt.subplots(figsize=(12, 8))\n",
    "alpha = .1\n",
    "neg = -1 == predictions['Direction']\n",
    "zero = 0 == predictions['Direction']\n",
    "pos =  1 == predictions['Direction']\n",
    "ax.scatter(predictions.loc[neg, 'PredValue'], predictions.loc[neg, 'P_Direction'], label='-', alpha=alpha)\n",
    "ax.scatter(predictions.loc[zero, 'PredValue'], predictions.loc[zero, 'P_Direction'], label='0', alpha=alpha)\n",
    "ax.scatter(predictions.loc[pos, 'PredValue'], predictions.loc[pos, 'P_Direction'], label='+', alpha=alpha)\n",
    "ax.legend()\n",
    "ax.set_xlabel('PredValue')\n",
    "ax.set_ylabel('p(direction correct)')\n",
    "None"
   ]
  },
  {
   "cell_type": "markdown",
   "metadata": {},
   "source": [
    "## Load confidence standard errors"
   ]
  },
  {
   "cell_type": "code",
   "execution_count": 12,
   "metadata": {},
   "outputs": [],
   "source": [
    "conf_se = np.load('data/conf-se.npy')\n",
    "predictions['SE'] = conf_se"
   ]
  },
  {
   "cell_type": "markdown",
   "metadata": {},
   "source": [
    "### Save predictions"
   ]
  },
  {
   "cell_type": "code",
   "execution_count": 13,
   "metadata": {},
   "outputs": [
    {
     "name": "stdout",
     "output_type": "stream",
     "text": [
      "Writing submission to: data/submission-7.txt\n"
     ]
    }
   ],
   "source": [
    "# import utils, importlib\n",
    "# importlib.reload(utils)\n",
    "for col in ['Direction', 'P_Direction', 'Confidence', 'SE']:\n",
    "    submission[col] = predictions[col]\n",
    "submission['Comments'] = '*'\n",
    "write_submission(submission, 'data/submission-7.txt')"
   ]
  }
 ],
 "metadata": {
  "kernelspec": {
   "display_name": "Python 3",
   "language": "python",
   "name": "python3"
  },
  "language_info": {
   "codemirror_mode": {
    "name": "ipython",
    "version": 3
   },
   "file_extension": ".py",
   "mimetype": "text/x-python",
   "name": "python",
   "nbconvert_exporter": "python",
   "pygments_lexer": "ipython3",
   "version": "3.5.2"
  }
 },
 "nbformat": 4,
 "nbformat_minor": 2
}
