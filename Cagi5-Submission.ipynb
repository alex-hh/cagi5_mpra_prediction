{
 "cells": [
  {
   "cell_type": "markdown",
   "metadata": {},
   "source": [
    "A notebook to create the submission(s)."
   ]
  },
  {
   "cell_type": "code",
   "execution_count": 1,
   "metadata": {},
   "outputs": [],
   "source": [
    "import pandas as pd\n",
    "import numpy as np\n",
    "import matplotlib.pyplot as plt\n",
    "from models import DeepSeaSNP, Conservation, SNPContext, MultiFeatures, EnhancerOneHot, \\\n",
    "    SubstitutionOneHot, DNase, Classifier, Regression, StackedRegressionClassifier"
   ]
  },
  {
   "cell_type": "markdown",
   "metadata": {},
   "source": [
    "## Load data\n",
    "\n",
    "Read the training data with added conservation information."
   ]
  },
  {
   "cell_type": "code",
   "execution_count": 2,
   "metadata": {},
   "outputs": [
    {
     "data": {
      "text/html": [
       "<div>\n",
       "<style scoped>\n",
       "    .dataframe tbody tr th:only-of-type {\n",
       "        vertical-align: middle;\n",
       "    }\n",
       "\n",
       "    .dataframe tbody tr th {\n",
       "        vertical-align: top;\n",
       "    }\n",
       "\n",
       "    .dataframe thead th {\n",
       "        text-align: right;\n",
       "    }\n",
       "</style>\n",
       "<table border=\"1\" class=\"dataframe\">\n",
       "  <thead>\n",
       "    <tr style=\"text-align: right;\">\n",
       "      <th></th>\n",
       "      <th>#Chrom</th>\n",
       "      <th>Pos</th>\n",
       "      <th>Ref</th>\n",
       "      <th>Alt</th>\n",
       "      <th>Value</th>\n",
       "      <th>Confidence</th>\n",
       "      <th>class</th>\n",
       "      <th>regulatory_element</th>\n",
       "      <th>phastCon</th>\n",
       "      <th>phyloP</th>\n",
       "      <th>GerpN</th>\n",
       "      <th>GerpRS</th>\n",
       "    </tr>\n",
       "  </thead>\n",
       "  <tbody>\n",
       "    <tr>\n",
       "      <th>0</th>\n",
       "      <td>X</td>\n",
       "      <td>138612669</td>\n",
       "      <td>T</td>\n",
       "      <td>A</td>\n",
       "      <td>-0.17</td>\n",
       "      <td>0.07</td>\n",
       "      <td>0</td>\n",
       "      <td>release_F9</td>\n",
       "      <td>0.006</td>\n",
       "      <td>0.47</td>\n",
       "      <td>3.93</td>\n",
       "      <td>1.490</td>\n",
       "    </tr>\n",
       "    <tr>\n",
       "      <th>1</th>\n",
       "      <td>X</td>\n",
       "      <td>138612669</td>\n",
       "      <td>T</td>\n",
       "      <td>C</td>\n",
       "      <td>-0.26</td>\n",
       "      <td>0.24</td>\n",
       "      <td>-1</td>\n",
       "      <td>release_F9</td>\n",
       "      <td>0.006</td>\n",
       "      <td>0.47</td>\n",
       "      <td>3.93</td>\n",
       "      <td>1.490</td>\n",
       "    </tr>\n",
       "    <tr>\n",
       "      <th>2</th>\n",
       "      <td>X</td>\n",
       "      <td>138612669</td>\n",
       "      <td>T</td>\n",
       "      <td>G</td>\n",
       "      <td>0.34</td>\n",
       "      <td>0.05</td>\n",
       "      <td>0</td>\n",
       "      <td>release_F9</td>\n",
       "      <td>0.006</td>\n",
       "      <td>0.47</td>\n",
       "      <td>3.93</td>\n",
       "      <td>1.490</td>\n",
       "    </tr>\n",
       "    <tr>\n",
       "      <th>3</th>\n",
       "      <td>X</td>\n",
       "      <td>138612670</td>\n",
       "      <td>A</td>\n",
       "      <td>C</td>\n",
       "      <td>0.00</td>\n",
       "      <td>0.00</td>\n",
       "      <td>0</td>\n",
       "      <td>release_F9</td>\n",
       "      <td>0.008</td>\n",
       "      <td>0.47</td>\n",
       "      <td>3.93</td>\n",
       "      <td>0.337</td>\n",
       "    </tr>\n",
       "    <tr>\n",
       "      <th>4</th>\n",
       "      <td>X</td>\n",
       "      <td>138612670</td>\n",
       "      <td>A</td>\n",
       "      <td>G</td>\n",
       "      <td>0.22</td>\n",
       "      <td>0.20</td>\n",
       "      <td>1</td>\n",
       "      <td>release_F9</td>\n",
       "      <td>0.008</td>\n",
       "      <td>0.47</td>\n",
       "      <td>3.93</td>\n",
       "      <td>0.337</td>\n",
       "    </tr>\n",
       "  </tbody>\n",
       "</table>\n",
       "</div>"
      ],
      "text/plain": [
       "  #Chrom        Pos Ref Alt  Value  Confidence  class regulatory_element  \\\n",
       "0      X  138612669   T   A  -0.17        0.07      0         release_F9   \n",
       "1      X  138612669   T   C  -0.26        0.24     -1         release_F9   \n",
       "2      X  138612669   T   G   0.34        0.05      0         release_F9   \n",
       "3      X  138612670   A   C   0.00        0.00      0         release_F9   \n",
       "4      X  138612670   A   G   0.22        0.20      1         release_F9   \n",
       "\n",
       "   phastCon  phyloP  GerpN  GerpRS  \n",
       "0     0.006    0.47   3.93   1.490  \n",
       "1     0.006    0.47   3.93   1.490  \n",
       "2     0.006    0.47   3.93   1.490  \n",
       "3     0.008    0.47   3.93   0.337  \n",
       "4     0.008    0.47   3.93   0.337  "
      ]
     },
     "execution_count": 2,
     "metadata": {},
     "output_type": "execute_result"
    }
   ],
   "source": [
    "training = pd.read_csv('data/cagi5_df.csv')\n",
    "training.head()"
   ]
  },
  {
   "cell_type": "markdown",
   "metadata": {},
   "source": [
    "Read the submission template"
   ]
  },
  {
   "cell_type": "code",
   "execution_count": 3,
   "metadata": {},
   "outputs": [
    {
     "data": {
      "text/html": [
       "<div>\n",
       "<style scoped>\n",
       "    .dataframe tbody tr th:only-of-type {\n",
       "        vertical-align: middle;\n",
       "    }\n",
       "\n",
       "    .dataframe tbody tr th {\n",
       "        vertical-align: top;\n",
       "    }\n",
       "\n",
       "    .dataframe thead th {\n",
       "        text-align: right;\n",
       "    }\n",
       "</style>\n",
       "<table border=\"1\" class=\"dataframe\">\n",
       "  <thead>\n",
       "    <tr style=\"text-align: right;\">\n",
       "      <th></th>\n",
       "      <th>Chrom</th>\n",
       "      <th>Pos</th>\n",
       "      <th>Ref</th>\n",
       "      <th>Alt</th>\n",
       "      <th>Promoter_Enhancer</th>\n",
       "      <th>Direction</th>\n",
       "      <th>P_Direction</th>\n",
       "      <th>Confidence</th>\n",
       "      <th>SE</th>\n",
       "      <th>Comments</th>\n",
       "      <th>phastCon</th>\n",
       "      <th>phyloP</th>\n",
       "      <th>GerpN</th>\n",
       "      <th>GerpRS</th>\n",
       "    </tr>\n",
       "  </thead>\n",
       "  <tbody>\n",
       "    <tr>\n",
       "      <th>12746</th>\n",
       "      <td>22</td>\n",
       "      <td>19711084</td>\n",
       "      <td>C</td>\n",
       "      <td>T</td>\n",
       "      <td>GP1BB</td>\n",
       "      <td>NaN</td>\n",
       "      <td>NaN</td>\n",
       "      <td>NaN</td>\n",
       "      <td>NaN</td>\n",
       "      <td>NaN</td>\n",
       "      <td>0.022</td>\n",
       "      <td>-0.317</td>\n",
       "      <td>3.95</td>\n",
       "      <td>0.641</td>\n",
       "    </tr>\n",
       "    <tr>\n",
       "      <th>12062</th>\n",
       "      <td>20</td>\n",
       "      <td>42984419</td>\n",
       "      <td>A</td>\n",
       "      <td>T</td>\n",
       "      <td>HNF4A</td>\n",
       "      <td>NaN</td>\n",
       "      <td>NaN</td>\n",
       "      <td>NaN</td>\n",
       "      <td>NaN</td>\n",
       "      <td>NaN</td>\n",
       "      <td>0.728</td>\n",
       "      <td>-0.153</td>\n",
       "      <td>4.98</td>\n",
       "      <td>-6.380</td>\n",
       "    </tr>\n",
       "    <tr>\n",
       "      <th>7589</th>\n",
       "      <td>8</td>\n",
       "      <td>128413098</td>\n",
       "      <td>G</td>\n",
       "      <td>C</td>\n",
       "      <td>MYC</td>\n",
       "      <td>NaN</td>\n",
       "      <td>NaN</td>\n",
       "      <td>NaN</td>\n",
       "      <td>NaN</td>\n",
       "      <td>NaN</td>\n",
       "      <td>0.714</td>\n",
       "      <td>0.651</td>\n",
       "      <td>5.22</td>\n",
       "      <td>4.280</td>\n",
       "    </tr>\n",
       "    <tr>\n",
       "      <th>1590</th>\n",
       "      <td>1</td>\n",
       "      <td>155271279</td>\n",
       "      <td>A</td>\n",
       "      <td>C</td>\n",
       "      <td>PKLR</td>\n",
       "      <td>NaN</td>\n",
       "      <td>NaN</td>\n",
       "      <td>NaN</td>\n",
       "      <td>NaN</td>\n",
       "      <td>NaN</td>\n",
       "      <td>0.319</td>\n",
       "      <td>0.375</td>\n",
       "      <td>4.74</td>\n",
       "      <td>1.000</td>\n",
       "    </tr>\n",
       "    <tr>\n",
       "      <th>11111</th>\n",
       "      <td>19</td>\n",
       "      <td>11200104</td>\n",
       "      <td>T</td>\n",
       "      <td>G</td>\n",
       "      <td>LDLR</td>\n",
       "      <td>NaN</td>\n",
       "      <td>NaN</td>\n",
       "      <td>NaN</td>\n",
       "      <td>NaN</td>\n",
       "      <td>NaN</td>\n",
       "      <td>0.005</td>\n",
       "      <td>0.457</td>\n",
       "      <td>4.87</td>\n",
       "      <td>0.468</td>\n",
       "    </tr>\n",
       "    <tr>\n",
       "      <th>12969</th>\n",
       "      <td>X</td>\n",
       "      <td>138612622</td>\n",
       "      <td>G</td>\n",
       "      <td>C</td>\n",
       "      <td>F9</td>\n",
       "      <td>NaN</td>\n",
       "      <td>NaN</td>\n",
       "      <td>NaN</td>\n",
       "      <td>NaN</td>\n",
       "      <td>NaN</td>\n",
       "      <td>0.001</td>\n",
       "      <td>-0.244</td>\n",
       "      <td>3.43</td>\n",
       "      <td>-5.100</td>\n",
       "    </tr>\n",
       "  </tbody>\n",
       "</table>\n",
       "</div>"
      ],
      "text/plain": [
       "      Chrom        Pos Ref Alt Promoter_Enhancer  Direction  P_Direction  \\\n",
       "12746    22   19711084   C   T             GP1BB        NaN          NaN   \n",
       "12062    20   42984419   A   T             HNF4A        NaN          NaN   \n",
       "7589      8  128413098   G   C               MYC        NaN          NaN   \n",
       "1590      1  155271279   A   C              PKLR        NaN          NaN   \n",
       "11111    19   11200104   T   G              LDLR        NaN          NaN   \n",
       "12969     X  138612622   G   C                F9        NaN          NaN   \n",
       "\n",
       "       Confidence  SE  Comments  phastCon  phyloP  GerpN  GerpRS  \n",
       "12746         NaN NaN       NaN     0.022  -0.317   3.95   0.641  \n",
       "12062         NaN NaN       NaN     0.728  -0.153   4.98  -6.380  \n",
       "7589          NaN NaN       NaN     0.714   0.651   5.22   4.280  \n",
       "1590          NaN NaN       NaN     0.319   0.375   4.74   1.000  \n",
       "11111         NaN NaN       NaN     0.005   0.457   4.87   0.468  \n",
       "12969         NaN NaN       NaN     0.001  -0.244   3.43  -5.100  "
      ]
     },
     "execution_count": 3,
     "metadata": {},
     "output_type": "execute_result"
    }
   ],
   "source": [
    "submission = pd.read_csv(\n",
    "    'data/submission-with-cons.tsv',\n",
    "    sep='\\t',\n",
    "    na_values='*')\n",
    "submission.sample(6)"
   ]
  },
  {
   "cell_type": "markdown",
   "metadata": {},
   "source": [
    "Identify all the submission regions to check they match those in the training data."
   ]
  },
  {
   "cell_type": "code",
   "execution_count": 4,
   "metadata": {},
   "outputs": [
    {
     "name": "stdout",
     "output_type": "stream",
     "text": [
      "['F9' 'GP1BB' 'HBB' 'HBG1' 'HNF4A' 'IRF4' 'IRF6' 'LDLR' 'MSMB' 'MYC'\n",
      " 'PKLR' 'SORT1' 'TERT-GBM' 'TERT-HEK293T' 'ZFAND3']\n",
      "['F9' 'GP1BB' 'HBB' 'HBG1' 'HNF4A' 'IRF4' 'IRF6' 'LDLR' 'MSMB'\n",
      " 'MYCrs6983267' 'PKLR' 'SORT1' 'TERT-GBM' 'TERT-HEK293T' 'ZFAND3']\n"
     ]
    }
   ],
   "source": [
    "sub_regions = submission['Promoter_Enhancer'].unique()\n",
    "sub_regions.sort()\n",
    "print(sub_regions)\n",
    "train_regions = training['regulatory_element'].str.slice(start=8).unique()\n",
    "train_regions.sort()\n",
    "print(train_regions)"
   ]
  },
  {
   "cell_type": "markdown",
   "metadata": {},
   "source": [
    "TODO: Make sure that MYC region names match between training and submission data frames."
   ]
  },
  {
   "cell_type": "markdown",
   "metadata": {},
   "source": [
    "### Use tuned hyperparameters"
   ]
  },
  {
   "cell_type": "markdown",
   "metadata": {},
   "source": [
    "These are taken from a kaggle kernel notebook"
   ]
  },
  {
   "cell_type": "code",
   "execution_count": 5,
   "metadata": {},
   "outputs": [],
   "source": [
    "tuned_params={\n",
    "    'max_depth': 2, #[3,4,5,6,7,8,9], # 5 is good but takes too long in kaggle env\n",
    "    'subsample': 0.6, #[0.4,0.5,0.6,0.7,0.8,0.9,1.0],\n",
    "    'colsample_bytree': 0.5, #[0.5,0.6,0.7,0.8],\n",
    "    'n_estimators': 1000, #[1000,2000,3000]\n",
    "    'reg_alpha': 0.03 #[0.01, 0.02, 0.03, 0.04]\n",
    "}"
   ]
  },
  {
   "cell_type": "markdown",
   "metadata": {},
   "source": [
    "These are tuned by Bayesian optimisation (in another notebook)"
   ]
  },
  {
   "cell_type": "code",
   "execution_count": 6,
   "metadata": {},
   "outputs": [],
   "source": [
    "tuned_params = {\n",
    "    'colsample_bytree': 0.7524052235178577,\n",
    "    'learning_rate': 0.39783003619093765,\n",
    "    'max_depth': 7,\n",
    "    'min_child_weight': 4.0467095559059505,\n",
    "    'reg_alpha': 0.030682622499703896,\n",
    "    'reg_lambda': 0.40505823486422077,\n",
    "    'subsample': 1.0\n",
    "}"
   ]
  },
  {
   "cell_type": "markdown",
   "metadata": {},
   "source": [
    "### Choose features"
   ]
  },
  {
   "cell_type": "code",
   "execution_count": 7,
   "metadata": {},
   "outputs": [],
   "source": [
    "def make_features(test):\n",
    "    if test:\n",
    "        ds500_dq = DeepSeaSNP(filename_fmt='ds500-dq-embed64-500-d20-3-5-11-test_{}_preds_v1.npy')\n",
    "    else:\n",
    "        ds500_dq = DeepSeaSNP(filename_fmt='ds500-dq-embed64-500-d20-3-5-11_{}_preds_v1.npy')\n",
    "    dnase = DNase(test=test)\n",
    "    conservation = Conservation()\n",
    "    # subst = SubstitutionOneHot(test=test)\n",
    "    # enhancer1hot = EnhancerOneHot(test=test)\n",
    "    # snpcontext2 = SNPContext(context_size=2, test=test)\n",
    "    # snpcontext4 = SNPContext(context_size=4, test=test)\n",
    "    # stacked = Stacked('deep-dnase-cons', test=test)\n",
    "    return MultiFeatures([ds500_dq, dnase, conservation])\n",
    "train_features = make_features(False)\n",
    "test_features = make_features(True)"
   ]
  },
  {
   "cell_type": "markdown",
   "metadata": {},
   "source": [
    "## Fit model"
   ]
  },
  {
   "cell_type": "code",
   "execution_count": 30,
   "metadata": {},
   "outputs": [
    {
     "name": "stderr",
     "output_type": "stream",
     "text": [
      "/home/john/Dev/cagimpra/venv3/lib/python3.5/site-packages/sklearn/utils/validation.py:578: DataConversionWarning: A column-vector y was passed when a 1d array was expected. Please change the shape of y to (n_samples, ), for example using ravel().\n",
      "  y = column_or_1d(y, warn=True)\n"
     ]
    }
   ],
   "source": [
    "# import models, importlib\n",
    "# importlib.reload(models)\n",
    "# from models import Regression, Classifier, StackedRegressionClassifier\n",
    "regression = Regression(train_features)\n",
    "classifier = Classifier(train_features)\n",
    "stacked = StackedRegressionClassifier(regression, classifier)\n",
    "X_train = stacked.get_features(training)\n",
    "y_train = stacked.get_response(training)\n",
    "stacked.fit(X_train, y_train)"
   ]
  },
  {
   "cell_type": "markdown",
   "metadata": {},
   "source": [
    "## Make predictions"
   ]
  },
  {
   "cell_type": "code",
   "execution_count": 31,
   "metadata": {},
   "outputs": [
    {
     "data": {
      "text/html": [
       "<div>\n",
       "<style scoped>\n",
       "    .dataframe tbody tr th:only-of-type {\n",
       "        vertical-align: middle;\n",
       "    }\n",
       "\n",
       "    .dataframe tbody tr th {\n",
       "        vertical-align: top;\n",
       "    }\n",
       "\n",
       "    .dataframe thead th {\n",
       "        text-align: right;\n",
       "    }\n",
       "</style>\n",
       "<table border=\"1\" class=\"dataframe\">\n",
       "  <thead>\n",
       "    <tr style=\"text-align: right;\">\n",
       "      <th></th>\n",
       "      <th>NegativeProb</th>\n",
       "      <th>PositiveProb</th>\n",
       "      <th>PredClass</th>\n",
       "      <th>PredConfidence</th>\n",
       "      <th>PredValue</th>\n",
       "      <th>UncalledProb</th>\n",
       "    </tr>\n",
       "  </thead>\n",
       "  <tbody>\n",
       "    <tr>\n",
       "      <th>3378</th>\n",
       "      <td>0.253668</td>\n",
       "      <td>0.340686</td>\n",
       "      <td>0</td>\n",
       "      <td>0.080030</td>\n",
       "      <td>-0.002268</td>\n",
       "      <td>0.405646</td>\n",
       "    </tr>\n",
       "    <tr>\n",
       "      <th>4182</th>\n",
       "      <td>0.155030</td>\n",
       "      <td>0.354109</td>\n",
       "      <td>0</td>\n",
       "      <td>0.027273</td>\n",
       "      <td>-0.007134</td>\n",
       "      <td>0.490860</td>\n",
       "    </tr>\n",
       "    <tr>\n",
       "      <th>723</th>\n",
       "      <td>0.304105</td>\n",
       "      <td>0.401524</td>\n",
       "      <td>1</td>\n",
       "      <td>0.259756</td>\n",
       "      <td>0.029681</td>\n",
       "      <td>0.294371</td>\n",
       "    </tr>\n",
       "    <tr>\n",
       "      <th>7193</th>\n",
       "      <td>0.321593</td>\n",
       "      <td>0.263593</td>\n",
       "      <td>0</td>\n",
       "      <td>0.095455</td>\n",
       "      <td>-0.068712</td>\n",
       "      <td>0.414814</td>\n",
       "    </tr>\n",
       "    <tr>\n",
       "      <th>2523</th>\n",
       "      <td>0.253256</td>\n",
       "      <td>0.664458</td>\n",
       "      <td>1</td>\n",
       "      <td>0.067500</td>\n",
       "      <td>0.097256</td>\n",
       "      <td>0.082286</td>\n",
       "    </tr>\n",
       "    <tr>\n",
       "      <th>10530</th>\n",
       "      <td>0.346193</td>\n",
       "      <td>0.247672</td>\n",
       "      <td>0</td>\n",
       "      <td>0.069239</td>\n",
       "      <td>-0.146601</td>\n",
       "      <td>0.406135</td>\n",
       "    </tr>\n",
       "  </tbody>\n",
       "</table>\n",
       "</div>"
      ],
      "text/plain": [
       "       NegativeProb  PositiveProb  PredClass  PredConfidence  PredValue  \\\n",
       "3378       0.253668      0.340686          0        0.080030  -0.002268   \n",
       "4182       0.155030      0.354109          0        0.027273  -0.007134   \n",
       "723        0.304105      0.401524          1        0.259756   0.029681   \n",
       "7193       0.321593      0.263593          0        0.095455  -0.068712   \n",
       "2523       0.253256      0.664458          1        0.067500   0.097256   \n",
       "10530      0.346193      0.247672          0        0.069239  -0.146601   \n",
       "\n",
       "       UncalledProb  \n",
       "3378       0.405646  \n",
       "4182       0.490860  \n",
       "723        0.294371  \n",
       "7193       0.414814  \n",
       "2523       0.082286  \n",
       "10530      0.406135  "
      ]
     },
     "execution_count": 31,
     "metadata": {},
     "output_type": "execute_result"
    }
   ],
   "source": [
    "X_test = test_features.get_features(submission)\n",
    "predictions = stacked.predict(X_test, submission.index)\n",
    "predictions.sample(6)"
   ]
  },
  {
   "cell_type": "markdown",
   "metadata": {},
   "source": [
    "Call which variants are present from the regression predictions"
   ]
  },
  {
   "cell_type": "code",
   "execution_count": 32,
   "metadata": {},
   "outputs": [
    {
     "data": {
      "text/html": [
       "<div>\n",
       "<style scoped>\n",
       "    .dataframe tbody tr th:only-of-type {\n",
       "        vertical-align: middle;\n",
       "    }\n",
       "\n",
       "    .dataframe tbody tr th {\n",
       "        vertical-align: top;\n",
       "    }\n",
       "\n",
       "    .dataframe thead th {\n",
       "        text-align: right;\n",
       "    }\n",
       "</style>\n",
       "<table border=\"1\" class=\"dataframe\">\n",
       "  <thead>\n",
       "    <tr style=\"text-align: right;\">\n",
       "      <th></th>\n",
       "      <th>NegativeProb</th>\n",
       "      <th>PositiveProb</th>\n",
       "      <th>PredClass</th>\n",
       "      <th>PredConfidence</th>\n",
       "      <th>PredValue</th>\n",
       "      <th>UncalledProb</th>\n",
       "      <th>Direction</th>\n",
       "      <th>P_Direction</th>\n",
       "      <th>Confidence</th>\n",
       "      <th>SE</th>\n",
       "    </tr>\n",
       "  </thead>\n",
       "  <tbody>\n",
       "    <tr>\n",
       "      <th>4722</th>\n",
       "      <td>0.249136</td>\n",
       "      <td>0.378511</td>\n",
       "      <td>1</td>\n",
       "      <td>0.059733</td>\n",
       "      <td>-0.093235</td>\n",
       "      <td>0.372353</td>\n",
       "      <td>1</td>\n",
       "      <td>0.378511</td>\n",
       "      <td>0.059733</td>\n",
       "      <td>0.1</td>\n",
       "    </tr>\n",
       "    <tr>\n",
       "      <th>13437</th>\n",
       "      <td>0.225809</td>\n",
       "      <td>0.320781</td>\n",
       "      <td>0</td>\n",
       "      <td>0.052757</td>\n",
       "      <td>0.057173</td>\n",
       "      <td>0.453410</td>\n",
       "      <td>0</td>\n",
       "      <td>0.453410</td>\n",
       "      <td>0.052757</td>\n",
       "      <td>0.1</td>\n",
       "    </tr>\n",
       "    <tr>\n",
       "      <th>12871</th>\n",
       "      <td>0.430168</td>\n",
       "      <td>0.296137</td>\n",
       "      <td>-1</td>\n",
       "      <td>0.050824</td>\n",
       "      <td>-0.051259</td>\n",
       "      <td>0.273694</td>\n",
       "      <td>-1</td>\n",
       "      <td>0.430168</td>\n",
       "      <td>0.050824</td>\n",
       "      <td>0.1</td>\n",
       "    </tr>\n",
       "    <tr>\n",
       "      <th>4331</th>\n",
       "      <td>0.291308</td>\n",
       "      <td>0.304294</td>\n",
       "      <td>0</td>\n",
       "      <td>0.058591</td>\n",
       "      <td>-0.048523</td>\n",
       "      <td>0.404398</td>\n",
       "      <td>0</td>\n",
       "      <td>0.404398</td>\n",
       "      <td>0.058591</td>\n",
       "      <td>0.1</td>\n",
       "    </tr>\n",
       "    <tr>\n",
       "      <th>4364</th>\n",
       "      <td>0.269696</td>\n",
       "      <td>0.333023</td>\n",
       "      <td>0</td>\n",
       "      <td>0.056732</td>\n",
       "      <td>0.015346</td>\n",
       "      <td>0.397281</td>\n",
       "      <td>0</td>\n",
       "      <td>0.397281</td>\n",
       "      <td>0.056732</td>\n",
       "      <td>0.1</td>\n",
       "    </tr>\n",
       "    <tr>\n",
       "      <th>1865</th>\n",
       "      <td>0.245768</td>\n",
       "      <td>0.454292</td>\n",
       "      <td>1</td>\n",
       "      <td>0.104047</td>\n",
       "      <td>-0.027168</td>\n",
       "      <td>0.299940</td>\n",
       "      <td>1</td>\n",
       "      <td>0.454292</td>\n",
       "      <td>0.104047</td>\n",
       "      <td>0.1</td>\n",
       "    </tr>\n",
       "  </tbody>\n",
       "</table>\n",
       "</div>"
      ],
      "text/plain": [
       "       NegativeProb  PositiveProb  PredClass  PredConfidence  PredValue  \\\n",
       "4722       0.249136      0.378511          1        0.059733  -0.093235   \n",
       "13437      0.225809      0.320781          0        0.052757   0.057173   \n",
       "12871      0.430168      0.296137         -1        0.050824  -0.051259   \n",
       "4331       0.291308      0.304294          0        0.058591  -0.048523   \n",
       "4364       0.269696      0.333023          0        0.056732   0.015346   \n",
       "1865       0.245768      0.454292          1        0.104047  -0.027168   \n",
       "\n",
       "       UncalledProb  Direction  P_Direction  Confidence   SE  \n",
       "4722       0.372353          1     0.378511    0.059733  0.1  \n",
       "13437      0.453410          0     0.453410    0.052757  0.1  \n",
       "12871      0.273694         -1     0.430168    0.050824  0.1  \n",
       "4331       0.404398          0     0.404398    0.058591  0.1  \n",
       "4364       0.397281          0     0.397281    0.056732  0.1  \n",
       "1865       0.299940          1     0.454292    0.104047  0.1  "
      ]
     },
     "execution_count": 32,
     "metadata": {},
     "output_type": "execute_result"
    }
   ],
   "source": [
    "# import models, importlib\n",
    "# importlib.reload(models)\n",
    "# from models import call_variants_from_regression\n",
    "predictions = stacked.make_submission(predictions)\n",
    "predictions.sample(6)"
   ]
  },
  {
   "cell_type": "markdown",
   "metadata": {},
   "source": [
    "Plot the predicted values against the probability that they are correct coloured by called direction."
   ]
  },
  {
   "cell_type": "code",
   "execution_count": 35,
   "metadata": {},
   "outputs": [
    {
     "data": {
      "image/png": "[encoded data removed]",
      "text/plain": [
       "<Figure size 432x288 with 1 Axes>"
      ]
     },
     "metadata": {},
     "output_type": "display_data"
    }
   ],
   "source": [
    "fig, ax = plt.subplots()\n",
    "alpha = .1\n",
    "neg = -1 == predictions['Direction']\n",
    "zero = 0 == predictions['Direction']\n",
    "pos =  1 == predictions['Direction']\n",
    "ax.scatter(predictions.loc[neg, 'PredValue'], predictions.loc[neg, 'P_Direction'], label='-', alpha=alpha)\n",
    "ax.scatter(predictions.loc[zero, 'PredValue'], predictions.loc[zero, 'P_Direction'], label='0', alpha=alpha)\n",
    "ax.scatter(predictions.loc[pos, 'PredValue'], predictions.loc[pos, 'P_Direction'], label='+', alpha=alpha)\n",
    "ax.legend()\n",
    "ax.set_xlabel('PredValue')\n",
    "ax.set_ylabel('p(direction correct)')\n",
    "None"
   ]
  },
  {
   "cell_type": "markdown",
   "metadata": {},
   "source": [
    "### Save predictions"
   ]
  },
  {
   "cell_type": "code",
   "execution_count": 34,
   "metadata": {},
   "outputs": [
    {
     "name": "stdout",
     "output_type": "stream",
     "text": [
      "Writing submission to: data/submission.tsv\n"
     ]
    }
   ],
   "source": [
    "# import utils, importlib\n",
    "# importlib.reload(utils)\n",
    "for col in ['Direction', 'P_Direction', 'Confidence', 'SE']:\n",
    "    submission[col] = predictions[col]\n",
    "submission['Comments'] = '*'\n",
    "utils.write_submission(submission, 'data/submission.tsv')"
   ]
  },
  {
   "cell_type": "code",
   "execution_count": null,
   "metadata": {},
   "outputs": [],
   "source": []
  }
 ],
 "metadata": {
  "kernelspec": {
   "display_name": "Python 3",
   "language": "python",
   "name": "python3"
  },
  "language_info": {
   "codemirror_mode": {
    "name": "ipython",
    "version": 3
   },
   "file_extension": ".py",
   "mimetype": "text/x-python",
   "name": "python",
   "nbconvert_exporter": "python",
   "pygments_lexer": "ipython3",
   "version": "3.5.2"
  }
 },
 "nbformat": 4,
 "nbformat_minor": 2
}
