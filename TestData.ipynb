{
 "cells": [
  {
   "cell_type": "code",
   "execution_count": 1,
   "metadata": {},
   "outputs": [
    {
     "name": "stderr",
     "output_type": "stream",
     "text": [
      "Using Theano backend.\n"
     ]
    }
   ],
   "source": [
    "from keras.models import load_model\n",
    "from conservation.models import DanQ, CNN\n",
    "import numpy as np\n"
   ]
  },
  {
   "cell_type": "code",
   "execution_count": 2,
   "metadata": {},
   "outputs": [
    {
     "name": "stdout",
     "output_type": "stream",
     "text": [
      "[15, 15, 15] 3\n"
     ]
    }
   ],
   "source": [
    "cnn = CNN()\n",
    "m = cnn.get_compiled_model()"
   ]
  },
  {
   "cell_type": "code",
   "execution_count": 2,
   "metadata": {
    "collapsed": true
   },
   "outputs": [],
   "source": [
    "m = load_model('/Users/alexhooker/projects/genseq/results/models-best/crnn_500_200.h5')"
   ]
  },
  {
   "cell_type": "code",
   "execution_count": 3,
   "metadata": {},
   "outputs": [],
   "source": [
    "inp = np.zeros((10, 1000, 4))"
   ]
  },
  {
   "cell_type": "code",
   "execution_count": 4,
   "metadata": {},
   "outputs": [
    {
     "data": {
      "text/plain": [
       "array([[[ 0.,  0.,  0., ...,  0.,  0.,  0.],\n",
       "        [ 0.,  0.,  0., ...,  0.,  0.,  0.],\n",
       "        [ 0.,  0.,  0., ...,  0.,  0.,  0.],\n",
       "        ..., \n",
       "        [ 0.,  0.,  0., ...,  0.,  0.,  0.],\n",
       "        [ 0.,  0.,  0., ...,  0.,  0.,  0.],\n",
       "        [ 0.,  0.,  0., ...,  0.,  0.,  0.]],\n",
       "\n",
       "       [[ 0.,  0.,  0., ...,  0.,  0.,  0.],\n",
       "        [ 0.,  0.,  0., ...,  0.,  0.,  0.],\n",
       "        [ 0.,  0.,  0., ...,  0.,  0.,  0.],\n",
       "        ..., \n",
       "        [ 0.,  0.,  0., ...,  0.,  0.,  0.],\n",
       "        [ 0.,  0.,  0., ...,  0.,  0.,  0.],\n",
       "        [ 0.,  0.,  0., ...,  0.,  0.,  0.]],\n",
       "\n",
       "       [[ 0.,  0.,  0., ...,  0.,  0.,  0.],\n",
       "        [ 0.,  0.,  0., ...,  0.,  0.,  0.],\n",
       "        [ 0.,  0.,  0., ...,  0.,  0.,  0.],\n",
       "        ..., \n",
       "        [ 0.,  0.,  0., ...,  0.,  0.,  0.],\n",
       "        [ 0.,  0.,  0., ...,  0.,  0.,  0.],\n",
       "        [ 0.,  0.,  0., ...,  0.,  0.,  0.]],\n",
       "\n",
       "       ..., \n",
       "       [[ 0.,  0.,  0., ...,  0.,  0.,  0.],\n",
       "        [ 0.,  0.,  0., ...,  0.,  0.,  0.],\n",
       "        [ 0.,  0.,  0., ...,  0.,  0.,  0.],\n",
       "        ..., \n",
       "        [ 0.,  0.,  0., ...,  0.,  0.,  0.],\n",
       "        [ 0.,  0.,  0., ...,  0.,  0.,  0.],\n",
       "        [ 0.,  0.,  0., ...,  0.,  0.,  0.]],\n",
       "\n",
       "       [[ 0.,  0.,  0., ...,  0.,  0.,  0.],\n",
       "        [ 0.,  0.,  0., ...,  0.,  0.,  0.],\n",
       "        [ 0.,  0.,  0., ...,  0.,  0.,  0.],\n",
       "        ..., \n",
       "        [ 0.,  0.,  0., ...,  0.,  0.,  0.],\n",
       "        [ 0.,  0.,  0., ...,  0.,  0.,  0.],\n",
       "        [ 0.,  0.,  0., ...,  0.,  0.,  0.]],\n",
       "\n",
       "       [[ 0.,  0.,  0., ...,  0.,  0.,  0.],\n",
       "        [ 0.,  0.,  0., ...,  0.,  0.,  0.],\n",
       "        [ 0.,  0.,  0., ...,  0.,  0.,  0.],\n",
       "        ..., \n",
       "        [ 0.,  0.,  0., ...,  0.,  0.,  0.],\n",
       "        [ 0.,  0.,  0., ...,  0.,  0.,  0.],\n",
       "        [ 0.,  0.,  0., ...,  0.,  0.,  0.]]], dtype=float32)"
      ]
     },
     "execution_count": 4,
     "metadata": {},
     "output_type": "execute_result"
    }
   ],
   "source": [
    "cnn.layer_activations(9, inp)"
   ]
  },
  {
   "cell_type": "code",
   "execution_count": 4,
   "metadata": {
    "collapsed": true
   },
   "outputs": [],
   "source": [
    "dq = DanQ(ncell=10, nconv=10)"
   ]
  },
  {
   "cell_type": "code",
   "execution_count": 7,
   "metadata": {},
   "outputs": [
    {
     "data": {
      "text/plain": [
       "<keras.models.Sequential at 0x11809afd0>"
      ]
     },
     "execution_count": 7,
     "metadata": {},
     "output_type": "execute_result"
    }
   ],
   "source": [
    "dq.get_compiled_model()"
   ]
  },
  {
   "cell_type": "code",
   "execution_count": 8,
   "metadata": {},
   "outputs": [
    {
     "data": {
      "text/plain": [
       "array([[[ 0.,  0.,  0., ...,  0.,  0.,  0.],\n",
       "        [ 0.,  0.,  0., ...,  0.,  0.,  0.],\n",
       "        [ 0.,  0.,  0., ...,  0.,  0.,  0.],\n",
       "        ..., \n",
       "        [ 0.,  0.,  0., ...,  0.,  0.,  0.],\n",
       "        [ 0.,  0.,  0., ...,  0.,  0.,  0.],\n",
       "        [ 0.,  0.,  0., ...,  0.,  0.,  0.]],\n",
       "\n",
       "       [[ 0.,  0.,  0., ...,  0.,  0.,  0.],\n",
       "        [ 0.,  0.,  0., ...,  0.,  0.,  0.],\n",
       "        [ 0.,  0.,  0., ...,  0.,  0.,  0.],\n",
       "        ..., \n",
       "        [ 0.,  0.,  0., ...,  0.,  0.,  0.],\n",
       "        [ 0.,  0.,  0., ...,  0.,  0.,  0.],\n",
       "        [ 0.,  0.,  0., ...,  0.,  0.,  0.]],\n",
       "\n",
       "       [[ 0.,  0.,  0., ...,  0.,  0.,  0.],\n",
       "        [ 0.,  0.,  0., ...,  0.,  0.,  0.],\n",
       "        [ 0.,  0.,  0., ...,  0.,  0.,  0.],\n",
       "        ..., \n",
       "        [ 0.,  0.,  0., ...,  0.,  0.,  0.],\n",
       "        [ 0.,  0.,  0., ...,  0.,  0.,  0.],\n",
       "        [ 0.,  0.,  0., ...,  0.,  0.,  0.]],\n",
       "\n",
       "       ..., \n",
       "       [[ 0.,  0.,  0., ...,  0.,  0.,  0.],\n",
       "        [ 0.,  0.,  0., ...,  0.,  0.,  0.],\n",
       "        [ 0.,  0.,  0., ...,  0.,  0.,  0.],\n",
       "        ..., \n",
       "        [ 0.,  0.,  0., ...,  0.,  0.,  0.],\n",
       "        [ 0.,  0.,  0., ...,  0.,  0.,  0.],\n",
       "        [ 0.,  0.,  0., ...,  0.,  0.,  0.]],\n",
       "\n",
       "       [[ 0.,  0.,  0., ...,  0.,  0.,  0.],\n",
       "        [ 0.,  0.,  0., ...,  0.,  0.,  0.],\n",
       "        [ 0.,  0.,  0., ...,  0.,  0.,  0.],\n",
       "        ..., \n",
       "        [ 0.,  0.,  0., ...,  0.,  0.,  0.],\n",
       "        [ 0.,  0.,  0., ...,  0.,  0.,  0.],\n",
       "        [ 0.,  0.,  0., ...,  0.,  0.,  0.]],\n",
       "\n",
       "       [[ 0.,  0.,  0., ...,  0.,  0.,  0.],\n",
       "        [ 0.,  0.,  0., ...,  0.,  0.,  0.],\n",
       "        [ 0.,  0.,  0., ...,  0.,  0.,  0.],\n",
       "        ..., \n",
       "        [ 0.,  0.,  0., ...,  0.,  0.,  0.],\n",
       "        [ 0.,  0.,  0., ...,  0.,  0.,  0.],\n",
       "        [ 0.,  0.,  0., ...,  0.,  0.,  0.]]], dtype=float32)"
      ]
     },
     "execution_count": 8,
     "metadata": {},
     "output_type": "execute_result"
    }
   ],
   "source": [
    "dq.layer_activations(5, inp)"
   ]
  },
  {
   "cell_type": "code",
   "execution_count": 1,
   "metadata": {
    "collapsed": true
   },
   "outputs": [],
   "source": [
    "from utils import load_base_seqs"
   ]
  },
  {
   "cell_type": "code",
   "execution_count": 2,
   "metadata": {
    "collapsed": true
   },
   "outputs": [],
   "source": [
    "bdict = load_base_seqs()"
   ]
  },
  {
   "cell_type": "code",
   "execution_count": 4,
   "metadata": {},
   "outputs": [
    {
     "data": {
      "text/plain": [
       "{'F9': {'seq': 'CCCACTGATGAACTGTGCTGCCACAGTAAATGTAGCCACTATGCCTATCTCCATTCTGAAGATGTGTCACTTCCTGTTTCAGACTCAAATCAGCCACAGTGGCAGAAGCCCACGAAATCAGAGGTGAAATTTAATAATGACCACTGCCCATTCTCTTCACTTGTCCCAAGAGGCCATTGGAAATAGTCCAAAGACCCATTGAGGGAGATGGACATTATTTCCCAGAAGTAAATACAGCTCAGCTTGTACTTTGGTACAACTAATCGACCTTACCACTTTCACAATCTGCTAGCAAAGGTTA',\n",
       "  'start': 138612623},\n",
       " 'GP1BB': {'seq': 'TTGTGAATGCCGCGTCCTGTCCTGGTGACAGGAGAACAATGTTGGTGAACGTCGCAGCGGGTGTCCGAGTGCTCCGTGTGCCCCTGAGAGCGGGTGGGAGCGGAAGCCTGAGCGGCCTGCGGCCTCCGGCGATAGTGTGCTATCTGCCGCTGCAGCGCGCGTCCGCGCGGCCTCTGGGCTATTTCTGGCCAGGCCGCAGCACTGTGGTCGGTGCGGGCGTGGCAGGGGCGGGGCGGCCTTATCGCTCGGCTCTCCCGCCTACGCCTCCCGCTGCAGAGTAAGCCGGGCTGCCGTCTTCTCGCCATGGGCTCCGGTGAGTCTGGAGTCCGGTCGGGCCCCCGGCTGCTCCCTAGGCCGACCCGGGTTGAGAGGAGCTCTGGTCGTT',\n",
       "  'start': 19710789},\n",
       " 'HBB': {'seq': 'GGTGTCTGTTTGAGGTTGCTAGTGAACACAGTTGTGTCAGAAGCAAATGTAAGCAATAGATGGCTCTGCCCTGACTTTTATGCCCAGCCCTGGCTCCTGCCCTCCCTGCTCCTGGGAGTAGATTGGCCAACCCTAGGGTGTGGCTCCACAGGGTGAGGTCTAAGTGATGACAGCCGTACCTGTCCTTG',\n",
       "  'start': 5248251},\n",
       " 'HBG1': {'seq': 'GGCGTCTGGACTAGGAGCTTATTGATAACCTCAGACGTTCCAGAAGCGAGTGTGTGGAACTGCTGAAGGGTGCTTCCTTTTATTCTTCATCCCTAGCCAGCCGCCGGCCCCTGGCCTCACTGGATACTCTAAGACTATTGGTCAAGTTTGCCTTGTCAAGGCTATTGGTCAAGGCAAGGCTGGCCAACCCATGGGTGGAGTTTAGCCAGGGACCGTTTCAGACAGATATTTGCATTGAGATAGTGTGGGGAAGGGGCCCCCAAGAGGATACTGCT',\n",
       "  'start': 5271034},\n",
       " 'HNF4A': {'seq': 'CCCCAGAGTGCAGGACTAGGACCCGAGTGGACCTCAGGTCTGGCCAGGTCGCCATTGCCATGGAGACAGCAACAGTCCCCAGCCGCGGGTTCCCTAAGTGACTGGTTACTCTTTAACGTATCCACCCACCTTGGGTGATTAGAAGAATCAATAAGATAACCGGGCGGTGGCAGCTGGCCGCACTCACCGCCTTCCTGGTGGACGGGCTCCTGGTGGCTGTGCTGCTGCTGTGAGCGGGCCCCTGCTCCTCCATGCCCCCAGCTCTCCGGCTGGGTGGGCTTGGCCA',\n",
       "  'start': 42984159},\n",
       " 'IRF4': {'seq': 'GGGCGTGTCCGCCTGTTGGAATATGCTTCTCAGGTCTTCTGGGAAACAGATGTTTTGTGGAAGTGGAAGATTTTGGAAGTAGTGCCTTATCATGTGAAACCACAGGGCAGCTGATCTCTTCAGGCTTTCTTGATGTGAATGACAGCTTTGTTTCATCCACTTTGGTGGGTAAAAGAAGGCAAATTCCCCTGTGGTACTTTTGGTGCCAGGTTTAGCCATATGACGAAGCTTTACATAAAACAGTACAAGTATCTCCATTGTCCTTTATGATCCTCCATGAGTGTTTTCACTTAGTCTGATGAAGGGTTCACTCCAGTCTTTTCGGATGATAAAATGCTTCGGCTGTCAGTCTAATAAGGGATTCCCTGAGGAGTTTGGAGGCTGTAAGAGCACCCCCCGTCTCAATGCCAGTGCTTCTTATCTCAGCCTCTCCTGCACTCCTTTACCCCCGTC',\n",
       "  'start': 396141},\n",
       " 'IRF4MOD': {'seq': 'TGGCGTGTCCGCCTGTTGGAATATGCTTCTCAGGTCTTCTGGGAAACAGATGTTTTGTGGAAGTGGAAGATTTTGGAAGTAGTGCCTTATCATGTGAAACCACAGGGCAGCTGATCTCTTCAGGCTTTCTTGATGTGAATGACAGCTTTGTTTCATCCACTTTGGTGGGTAAAAGAAGGCAAATTCCCCTGTGGTACTTTTGGTGCCAGGTTTAGCCATATGACGAAGCTTTACATAAAACAGTACAAGTATCTCCATTGTCCTTTATGATCCTCCATGAGTGTTTTCACTTAGTCTGATGAAGGGTTCACTCCAGTCTTTTCGGATGATAAAATGCTTCGGCTGTCAGTCTAATAAGGGATTCCCTGAGGAGTTTGGAGGCTGTAAGAGCACCCCCCGTCTCAATGCCAGTGCTTCTTATCTCAGCCTCTCCTGCACTCCTTTACCCCCGTC',\n",
       "  'start': 396141},\n",
       " 'IRF6': {'seq': 'TAAATGGTGAGTAGGAAGTTGATTCTGCCCGATCTGTCTGACTCCATGCCCTTTCTATTAGGTCATGAAGGGGAACCTGAGGATTGGAGCTTTGGAATGTTAATCTTACCCAAAGGCCTGAAGTAATACCCCAGAATGTGAACATGTGTGACCATCTGCCTGTCCTGGGGGTGGGAAGAAGGCAGCATGCTCTATCCTTGACCCTGATTGAGCCCAGGGGCTGAATCTGGAGCTTTGGGGCCTGGGAACCTCTCTACCTGCGTCAATGTCTGGAGGCCCTGAGAGTTTCGCTCAGGCTCAGAGCAGGCATCGCAACCTCCCAGTTACTATTCTGTGCTGTGGCAAGTGCCAGCTTGTCCTCTCTTCCCCACCCAGCCCGGGAAACCGGCAGCATTTCTAGTTCAGGCCCAGACCCGTCCTGGCAGCCTGGATTCCACTGCCTAGGCAGGAAGCTCATCTCAGCCCAGTGACCTTTTCTCTCTGTTTTTTGTCACAGAGGAATTTCCATGCCAGCAGTATGGGGCAATGGGGGTGGGTGGCCAAAGGTTTCCCCCTTAAGCCACAAGAGCCATGGAGTGGAGGTAAGCTAAGCAAACAGAG',\n",
       "  'start': 209989135},\n",
       " 'LDLR': {'seq': 'CAGCTCTTCACCGGAGACCCAAATACAACAAATCAAGTCGCCTGCCCTGGCGACACTTTCGAAGGACTGGAGTGGGAATCAGAGCTTCACGGGTTAAAAAGCCGATGTCACATCGGCCGTTCGAAACTCCTCCTCTTGCAGTGAGGTGAAGACATTTGAAAATCACCCCACTGCAAACTCCTCCCCCTGCTAGAAACCTCACATTGAAATGCTGTAAATGACGTGGGCCCCGAGTGCAATCGCGGGAAGCCAGGGTTTCCAGCTAGGACACAGCAGGTCGTGATCCGGGTCGGGACACTGCCTGGCAGAGGCTGCGAGCA',\n",
       "  'start': 11199905},\n",
       " 'MSMB': {'seq': 'AAAGGTCCAGCAATTCAGCTTGTCAGGGAACCCCGAGCTGTATGTAGTTCTTGCTCTCCTGTGCCCTGCAGGATGGCTTGACCCATTTCTGTTCTCATGTCAGACCCTAAGGGCAGGGTCATCTGGGCCACAGACCCAGGCCCGGTGGGCCTGGTGGGCTGACCTGTGGGCTATTCTTATGCCTTCAGGAAACCCACCTTTACCACCTGGCTGTTGTGACTGGCATCGCTGAGGCTGTTTCTTTGTGTATAAAATCGAATAAGGACACATCACGTGCTAGCAATCCACCAGCATAGGGCGAAGGCTCAGCAAAGAGAAGTTCTCTCCTCCTCTGCTCTTTTAGGTCAGCAGCAAATGCAGATCGGGGTGGGGACAAGGTAAACACATAACTTGGGTGGAGATGTGATTGATTAATAACTCATAAATCATCTGAAACCATACTTTCCTTTTGATAGTCAACCCTCTGTAAACACTCAATGTGTTCTCACCTTGTTATCATTCCCAATGATGTCGAATGCGTGGTTGCCCTCTCCAGTATAAAAGTTTGATGCAGCTTTGCCTGGATGTACCTGTCTATAAGGAGTCCTGCTTA',\n",
       "  'start': 51548987},\n",
       " 'MYCrs6983267': {'seq': 'GCTGCATCGCTCCATAGAGCCTGCAGAGGGCACTAGACTGGGAATTAGAAAACCTGATTTCCCTTCCAGCTCCACCTCTGACCAATTGCCTGACCCTGGTCAAATTGCTTAACCTCTTCCTATCTCAGCTCCCTATCCATAAAACAGAGGGACGAATAAACTCTCCTCCTACCACTAAGAGGTGTAGCCAGAGTTAATACCCTCATCGTCCTTTGAGCTCAGCAGATGAAAGGCACTGAGAAAAGTACAAAGAATTTTTATGTGCTATTGACTTTATTTTATTTTATGTGGGGGAGGGAGCCGGCCCCAGCTGGAAAGCTGCTTTCTCTGAATCAAAGGGCAGGAACCCAGCAAGTTTCTCAGGATTGGGGCCTTAGACTGGGCTGTGTATACAGACAGTGCCAGCCAACCCCACAGTTCAGTTTCCTTTAACCTGGTGCTCCAGGCAATAACTGTGCAACTCTGCAATTTAACAATGTGTTCTTTGTCCCACAACTGTTCTCGTTTCTCAACTGCCCAGGTAATATGTTTGGGCCTGTAGGAAGAGTCAAATAGTTAATAAGGGAAGGGTTTGGCATGCCCTACGTAAGTTCTACCAGCAA',\n",
       "  'start': 128413072},\n",
       " 'MYCrs6983267MOD': {'seq': 'CCTGCATCGCTCCATAGAGCCTGCAGAGGGCACTAGACTGGGAATTAGAAAACCTGATTTCCCTTCCAGCTCCACCTCTGACCAATTGCCTGACCCTGGTCAAATTGCTTAACCTCTTCCTATCTCAGCTCCCTATCCATAAAACAGAGGGACGAATAAACTCTCCTCCTACCACTAAGAGGTGTAGCCAGAGTTAATACCCTCATCGTCCTTTGAGCTCAGCAGATGAAAGGCACTGAGAAAAGTACAAAGAATTTTTATGTGCTATTGACTTTATTTTATTTTATGTGGGGGAGGGAGCCGGCCCCAGCTGGAAAGCTGCTTTCTCTGAATCAAAGGGCAGGAACCCAGCAAGTTTCTCAGGATTGGGGCCTTAGACTGGGCTGTGTATACAGACAGTGCCAGCCAACCCCACAGTTCAGTTTCCTTTAACCTGGTGCTCCAGGCAATAACTGTGCAACTCTGCAATTTAACAATGTGTTCTTTGTCCCACAACTGTTCTCGTTTCTCAACTGCCCAGGTAATATGTTTGGGCCTGTAGGAAGAGTCAAATAGTTAATAAGGGAAGGGTTTGGCATGCCCTACGTAAGTTCTACCAGCAA',\n",
       "  'start': 128413072},\n",
       " 'PKLR': {'seq': 'GCTTTCAGTGTGGGCCTGGGGCTGCGGGACCATGGAATGAGAGGGAGAGGATGACAAAACTGCTGGTCTTATCTAAGGGAGACAGAGAAGAGAAAAGGGGCACACCCAGTAGGCCACCCTGTCCCCACAGAATCCCTCCCCCAGAACGGCCTGCTCTCTGCCCTCATCTCCTGGCATTTCCTCTCATCCTTTTTTCCTGATAAATTTTCAATCCATTCATACTATCTGGTCATCCACGTGAATAGATATTTTTTTTTTGGCCAGTCATATGGCCCCATTTTCTTTGTACTTTACTGAAGTTAGCTCTAGTGAATCCAGGGAGCAGGGGCTGTAGGGTGGGGCTGGAGCCTGAAGAAAGACAAAAGGGATCACTGTGATAATATGGTGGGGGGAGGGTTACCCAGTTCTGACCACTTTTTTTCTCTGTCTCAACCAAGAAATGCAGAGTGCCTTCACCACTCTGTAACCTG',\n",
       "  'start': 155271186},\n",
       " 'SORT1': {'seq': 'GAACTGGAAAAGCCCTGTCCGGTGAGGGGGCAGAAGGACTCAGCGCCCCTGGACCCCCAAATGCTGCATGAACACATTTTCAGGGGAGCCTGTGCCCCCAGGCGGGGGTCGGGCAGCCCCAGCCCCTCTCCTTTTCCTGGACTCTGGCCGTGCGCGGCAGCCCAGGTGTTTGCTCAGTTGCTGACCCAAAAGTGCTTCATTTTTCGTGCCCGCCCCGCGCCCCGGGCAGGCCAGTCATGTGTTAAGTTGCGCTTCTTTGCTGTGATGTGGGTGGGGGAGGAAGAGTAAACACAGTGCTGGCTCGGCTGCCCTGAGGGTGCTCAATCAAGCACAGGTTTCAAGTCTGGGTTCTGGTGTCCACTCACCCACCCCACCCCCCAAAATCAGACAAATGCTACTTTGTCTAACCTGCTGTGGCCTCTGAGACATGTTCTATTTTTAACCCCTTCTTGGAATTGGCTCTCTTCTTCAAAGGACCAGGTCCTGTTCCTCTTTCTCCCCGACTCCACCCCAGCTCCCTGTGAAGAGAGAGTTAATATATTTGTTTTATTTATTTGCTTTTTGTGTTGGGATGGGTTCGTGTCCAGTCCCGGGGGTCTGA',\n",
       "  'start': 109817273},\n",
       " 'TERT': {'seq': 'TCGCGGGGGTGGCCGGGGCCAGGGCTTCCCACGTGCGCAGCAGGACGCAGCGCTGCCTGAAACTCGCGCCGCGAGGAGAGGGCGGGGCCGCGGAAAGGAAGGGGAGGGGCTGGGAGGGCCCGGAGGGGGCTGGGCCGGGGACCCGGGAGGGGTCGGGACGGGGCGGGGTCCGCGCGGAGGAGGCGGAGCTGGAAGGTGAAGGGGCAGGACGGGTGCCCGGGTCCCCAGTCCCTCCGCCACGTGGGAAGCGCGGTCCTGGG',\n",
       "  'start': 1295103},\n",
       " 'ZFAND3': {'seq': 'TGTTCATGTTTCCCCCGTATGTGCGTGCGCATGCACATATATAAACACATCTAGCTTCACACCTGTGTACTCACACCTGTGTGTACACACTCCTCCTGTACATGTGTATACACGCACACCCTCCCACCAGCATGAGCAGTATGTGGATTTTTTCTTCCAGCAGCCCTTTCAAGAACATACACCAGATGGGATTGGGTCTGCTACATGACTGAGCAGCCCCCACATCAGAAAGTCATCATCATTGAATCCATCATGTGGTGCAGCCTTGGCAAGGGCACAGCTCCTCGTCCTGCCCAATGGGCCGTGGAGGAATGCCTCCTCCTCCAGAGCAGAGAGCAGATATGGGCAGGCAGTTGCCAGGCAGTTGAGCCGGGAGAACAGATGGCAGCTGCACAGCCTCCTTCTAGCCCAGTTTCCTGGCTGCCGGGGAAGGAGTTGCAGGCGGCAAGGATCCTGCAGAAACCGCCCTCCCTATAACAGGCCATCTTGCCCTCTATCCTCTTACTGGGCTTTGGAGGTCCCAATCCTGCCCTGGTTCACCACCTGTGTGGCTTACCAAGCTGTGCAACTTGGGGCAGGA',\n",
       "  'start': 37775273},\n",
       " 'ZFAND3MOD': {'seq': 'CGTTCATGTTTCCCCCGTATGTGCGTGCGCATGCACATATATAAACACATCTAGCTTCACACCTGTGTACTCACACCTGTGTGTACACACTCCTCCTGTACATGTGTATACACGCACACCCTCCCACCAGCATGAGCAGTATGTGGATTTTTTCTTCCAGCAGCCCTTTCAAGAACATACACCAGATGGGATTGGGTCTGCTACATGACTGAGCAGCCCCCACATCAGAAAGTCATCATCATTGAATCCATCATGTGGTGCAGCCTTGGCAAGGGCACAGCTCCTCGTCCTGCCCAATGGGCCGTGGAGGAATGCCTCCTCCTCCAGAGCAGAGAGCAGATATGGGCAGGCAGTTGCCAGGCAGTTGAGCCGGGAGAACAGATGGCAGCTGCACAGCCTCCTTCTAGCCCAGTTTCCTGGCTGCCGGGGAAGGAGTTGCAGGCGGCAAGGATCCTGCAGAAACCGCCCTCCCTATAACAGGCCATCTTGCCCTCTATCCTCTTACTGGGCTTTGGAGGTCCCAATCCTGCCCTGGTTCACCACCTGTGTGGCTTACCAAGCTGTGCAACTTGGGGCAGGA',\n",
       "  'start': 37775273}}"
      ]
     },
     "execution_count": 4,
     "metadata": {},
     "output_type": "execute_result"
    }
   ],
   "source": [
    "bdict"
   ]
  },
  {
   "cell_type": "code",
   "execution_count": 5,
   "metadata": {},
   "outputs": [
    {
     "name": "stdout",
     "output_type": "stream",
     "text": [
      "453\n",
      "470\n",
      "580\n",
      "453\n",
      "275\n",
      "602\n",
      "286\n",
      "602\n",
      "601\n",
      "188\n",
      "320\n",
      "260\n",
      "592\n",
      "385\n",
      "301\n",
      "600\n",
      "580\n"
     ]
    }
   ],
   "source": [
    "for v in bdict.values():\n",
    "  print(len(v['seq']))"
   ]
  },
  {
   "cell_type": "code",
   "execution_count": null,
   "metadata": {
    "collapsed": true
   },
   "outputs": [],
   "source": []
  }
 ],
 "metadata": {
  "kernelspec": {
   "display_name": "Python 3",
   "language": "python",
   "name": "python3"
  },
  "language_info": {
   "codemirror_mode": {
    "name": "ipython",
    "version": 3
   },
   "file_extension": ".py",
   "mimetype": "text/x-python",
   "name": "python",
   "nbconvert_exporter": "python",
   "pygments_lexer": "ipython3",
   "version": "3.4.4"
  }
 },
 "nbformat": 4,
 "nbformat_minor": 2
}
