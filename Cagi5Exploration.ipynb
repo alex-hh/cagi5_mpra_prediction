{
 "cells": [
  {
   "cell_type": "code",
   "execution_count": 10,
   "metadata": {
    "collapsed": true
   },
   "outputs": [],
   "source": [
    "import pandas as pd\n",
    "import pysam\n",
    "\n",
    "from sklearn.metrics import roc_auc_score, average_precision_score\n",
    "from sklearn.preprocessing.label import LabelBinarizer\n",
    "\n",
    "from utils import get_check_sequences_cagi5, save_base_seqs,\\\n",
    "                  get_seqs_and_inds, load_base_seqs\n"
   ]
  },
  {
   "cell_type": "code",
   "execution_count": 3,
   "metadata": {},
   "outputs": [
    {
     "data": {
      "text/html": [
       "<div>\n",
       "<style>\n",
       "    .dataframe thead tr:only-child th {\n",
       "        text-align: right;\n",
       "    }\n",
       "\n",
       "    .dataframe thead th {\n",
       "        text-align: left;\n",
       "    }\n",
       "\n",
       "    .dataframe tbody tr th {\n",
       "        vertical-align: top;\n",
       "    }\n",
       "</style>\n",
       "<table border=\"1\" class=\"dataframe\">\n",
       "  <thead>\n",
       "    <tr style=\"text-align: right;\">\n",
       "      <th></th>\n",
       "      <th>#Chrom</th>\n",
       "      <th>Pos</th>\n",
       "      <th>Ref</th>\n",
       "      <th>Alt</th>\n",
       "      <th>Value</th>\n",
       "      <th>Confidence</th>\n",
       "      <th>class</th>\n",
       "      <th>regulatory_element</th>\n",
       "    </tr>\n",
       "  </thead>\n",
       "  <tbody>\n",
       "    <tr>\n",
       "      <th>0</th>\n",
       "      <td>X</td>\n",
       "      <td>138612669</td>\n",
       "      <td>T</td>\n",
       "      <td>A</td>\n",
       "      <td>-0.17</td>\n",
       "      <td>0.07</td>\n",
       "      <td>0</td>\n",
       "      <td>release_F9</td>\n",
       "    </tr>\n",
       "    <tr>\n",
       "      <th>1</th>\n",
       "      <td>X</td>\n",
       "      <td>138612669</td>\n",
       "      <td>T</td>\n",
       "      <td>C</td>\n",
       "      <td>-0.26</td>\n",
       "      <td>0.24</td>\n",
       "      <td>-1</td>\n",
       "      <td>release_F9</td>\n",
       "    </tr>\n",
       "    <tr>\n",
       "      <th>2</th>\n",
       "      <td>X</td>\n",
       "      <td>138612669</td>\n",
       "      <td>T</td>\n",
       "      <td>G</td>\n",
       "      <td>0.34</td>\n",
       "      <td>0.05</td>\n",
       "      <td>0</td>\n",
       "      <td>release_F9</td>\n",
       "    </tr>\n",
       "    <tr>\n",
       "      <th>3</th>\n",
       "      <td>X</td>\n",
       "      <td>138612670</td>\n",
       "      <td>A</td>\n",
       "      <td>C</td>\n",
       "      <td>0.00</td>\n",
       "      <td>0.00</td>\n",
       "      <td>0</td>\n",
       "      <td>release_F9</td>\n",
       "    </tr>\n",
       "    <tr>\n",
       "      <th>4</th>\n",
       "      <td>X</td>\n",
       "      <td>138612670</td>\n",
       "      <td>A</td>\n",
       "      <td>G</td>\n",
       "      <td>0.22</td>\n",
       "      <td>0.20</td>\n",
       "      <td>1</td>\n",
       "      <td>release_F9</td>\n",
       "    </tr>\n",
       "  </tbody>\n",
       "</table>\n",
       "</div>"
      ],
      "text/plain": [
       "  #Chrom        Pos Ref Alt  Value  Confidence  class regulatory_element\n",
       "0      X  138612669   T   A  -0.17        0.07      0         release_F9\n",
       "1      X  138612669   T   C  -0.26        0.24     -1         release_F9\n",
       "2      X  138612669   T   G   0.34        0.05      0         release_F9\n",
       "3      X  138612670   A   C   0.00        0.00      0         release_F9\n",
       "4      X  138612670   A   G   0.22        0.20      1         release_F9"
      ]
     },
     "execution_count": 3,
     "metadata": {},
     "output_type": "execute_result"
    }
   ],
   "source": [
    "df = pd.read_csv('data/cagi5_df.csv')\n",
    "df.head()"
   ]
  },
  {
   "cell_type": "code",
   "execution_count": 4,
   "metadata": {
    "collapsed": true,
    "scrolled": false
   },
   "outputs": [],
   "source": [
    "refs, alts, inds = get_seqs_and_inds(df)"
   ]
  },
  {
   "cell_type": "code",
   "execution_count": 5,
   "metadata": {
    "collapsed": true
   },
   "outputs": [],
   "source": [
    "df['ref_sequence'] = refs\n",
    "df['alt_sequence'] = alts\n",
    "df['snp_index'] = inds\n",
    "df['Refcheck'] = df.apply(lambda row: row['ref_sequence'][row['snp_index']], axis=1)\n",
    "df['Altcheck'] = df.apply(lambda row: row['alt_sequence'][row['snp_index']], axis=1)\n",
    "import re\n",
    "df['base_element'] = df.apply(lambda row: row['regulatory_element'][8:], axis=1)\n",
    "df['base_element'] = df.apply(lambda row: 'TERT' if re.match('TERT', row['base_element']) else row['base_element'], axis=1)"
   ]
  },
  {
   "cell_type": "code",
   "execution_count": 49,
   "metadata": {
    "collapsed": true
   },
   "outputs": [],
   "source": [
    "import numpy as np\n",
    "\n",
    "refp = np.load('data/cagi5_mpra/deepsea_ref_preds.npy')\n",
    "altp = np.load('data/cagi5_mpra/deepsea_alt_preds.npy')"
   ]
  },
  {
   "cell_type": "code",
   "execution_count": 78,
   "metadata": {},
   "outputs": [
    {
     "data": {
      "text/html": [
       "<div>\n",
       "<style>\n",
       "    .dataframe thead tr:only-child th {\n",
       "        text-align: right;\n",
       "    }\n",
       "\n",
       "    .dataframe thead th {\n",
       "        text-align: left;\n",
       "    }\n",
       "\n",
       "    .dataframe tbody tr th {\n",
       "        vertical-align: top;\n",
       "    }\n",
       "</style>\n",
       "<table border=\"1\" class=\"dataframe\">\n",
       "  <thead>\n",
       "    <tr style=\"text-align: right;\">\n",
       "      <th></th>\n",
       "      <th>#Chrom</th>\n",
       "      <th>Pos</th>\n",
       "      <th>Ref</th>\n",
       "      <th>Alt</th>\n",
       "      <th>Value</th>\n",
       "      <th>Confidence</th>\n",
       "      <th>class</th>\n",
       "      <th>regulatory_element</th>\n",
       "      <th>ref_sequence</th>\n",
       "      <th>alt_sequence</th>\n",
       "      <th>snp_index</th>\n",
       "      <th>Refcheck</th>\n",
       "      <th>Altcheck</th>\n",
       "      <th>base_element</th>\n",
       "      <th>cv_prediction</th>\n",
       "      <th>majority</th>\n",
       "      <th>sigdiff</th>\n",
       "    </tr>\n",
       "  </thead>\n",
       "  <tbody>\n",
       "    <tr>\n",
       "      <th>0</th>\n",
       "      <td>X</td>\n",
       "      <td>138612669</td>\n",
       "      <td>T</td>\n",
       "      <td>A</td>\n",
       "      <td>-0.17</td>\n",
       "      <td>0.07</td>\n",
       "      <td>0</td>\n",
       "      <td>release_F9</td>\n",
       "      <td>CCCACTGATGAACTGTGCTGCCACAGTAAATGTAGCCACTATGCCT...</td>\n",
       "      <td>CCCACTGATGAACTGTGCTGCCACAGTAAATGTAGCCACTATGCCA...</td>\n",
       "      <td>45</td>\n",
       "      <td>T</td>\n",
       "      <td>A</td>\n",
       "      <td>F9</td>\n",
       "      <td>1.0</td>\n",
       "      <td>0.0</td>\n",
       "      <td>0</td>\n",
       "    </tr>\n",
       "    <tr>\n",
       "      <th>1</th>\n",
       "      <td>X</td>\n",
       "      <td>138612669</td>\n",
       "      <td>T</td>\n",
       "      <td>C</td>\n",
       "      <td>-0.26</td>\n",
       "      <td>0.24</td>\n",
       "      <td>-1</td>\n",
       "      <td>release_F9</td>\n",
       "      <td>CCCACTGATGAACTGTGCTGCCACAGTAAATGTAGCCACTATGCCT...</td>\n",
       "      <td>CCCACTGATGAACTGTGCTGCCACAGTAAATGTAGCCACTATGCCC...</td>\n",
       "      <td>45</td>\n",
       "      <td>T</td>\n",
       "      <td>C</td>\n",
       "      <td>F9</td>\n",
       "      <td>1.0</td>\n",
       "      <td>0.0</td>\n",
       "      <td>1</td>\n",
       "    </tr>\n",
       "    <tr>\n",
       "      <th>2</th>\n",
       "      <td>X</td>\n",
       "      <td>138612669</td>\n",
       "      <td>T</td>\n",
       "      <td>G</td>\n",
       "      <td>0.34</td>\n",
       "      <td>0.05</td>\n",
       "      <td>0</td>\n",
       "      <td>release_F9</td>\n",
       "      <td>CCCACTGATGAACTGTGCTGCCACAGTAAATGTAGCCACTATGCCT...</td>\n",
       "      <td>CCCACTGATGAACTGTGCTGCCACAGTAAATGTAGCCACTATGCCG...</td>\n",
       "      <td>45</td>\n",
       "      <td>T</td>\n",
       "      <td>G</td>\n",
       "      <td>F9</td>\n",
       "      <td>1.0</td>\n",
       "      <td>0.0</td>\n",
       "      <td>0</td>\n",
       "    </tr>\n",
       "    <tr>\n",
       "      <th>3</th>\n",
       "      <td>X</td>\n",
       "      <td>138612670</td>\n",
       "      <td>A</td>\n",
       "      <td>C</td>\n",
       "      <td>0.00</td>\n",
       "      <td>0.00</td>\n",
       "      <td>0</td>\n",
       "      <td>release_F9</td>\n",
       "      <td>CCCACTGATGAACTGTGCTGCCACAGTAAATGTAGCCACTATGCCT...</td>\n",
       "      <td>CCCACTGATGAACTGTGCTGCCACAGTAAATGTAGCCACTATGCCT...</td>\n",
       "      <td>46</td>\n",
       "      <td>A</td>\n",
       "      <td>C</td>\n",
       "      <td>F9</td>\n",
       "      <td>1.0</td>\n",
       "      <td>0.0</td>\n",
       "      <td>0</td>\n",
       "    </tr>\n",
       "    <tr>\n",
       "      <th>4</th>\n",
       "      <td>X</td>\n",
       "      <td>138612670</td>\n",
       "      <td>A</td>\n",
       "      <td>G</td>\n",
       "      <td>0.22</td>\n",
       "      <td>0.20</td>\n",
       "      <td>1</td>\n",
       "      <td>release_F9</td>\n",
       "      <td>CCCACTGATGAACTGTGCTGCCACAGTAAATGTAGCCACTATGCCT...</td>\n",
       "      <td>CCCACTGATGAACTGTGCTGCCACAGTAAATGTAGCCACTATGCCT...</td>\n",
       "      <td>46</td>\n",
       "      <td>A</td>\n",
       "      <td>G</td>\n",
       "      <td>F9</td>\n",
       "      <td>1.0</td>\n",
       "      <td>0.0</td>\n",
       "      <td>1</td>\n",
       "    </tr>\n",
       "  </tbody>\n",
       "</table>\n",
       "</div>"
      ],
      "text/plain": [
       "  #Chrom        Pos Ref Alt  Value  Confidence  class regulatory_element  \\\n",
       "0      X  138612669   T   A  -0.17        0.07      0         release_F9   \n",
       "1      X  138612669   T   C  -0.26        0.24     -1         release_F9   \n",
       "2      X  138612669   T   G   0.34        0.05      0         release_F9   \n",
       "3      X  138612670   A   C   0.00        0.00      0         release_F9   \n",
       "4      X  138612670   A   G   0.22        0.20      1         release_F9   \n",
       "\n",
       "                                        ref_sequence  \\\n",
       "0  CCCACTGATGAACTGTGCTGCCACAGTAAATGTAGCCACTATGCCT...   \n",
       "1  CCCACTGATGAACTGTGCTGCCACAGTAAATGTAGCCACTATGCCT...   \n",
       "2  CCCACTGATGAACTGTGCTGCCACAGTAAATGTAGCCACTATGCCT...   \n",
       "3  CCCACTGATGAACTGTGCTGCCACAGTAAATGTAGCCACTATGCCT...   \n",
       "4  CCCACTGATGAACTGTGCTGCCACAGTAAATGTAGCCACTATGCCT...   \n",
       "\n",
       "                                        alt_sequence  snp_index Refcheck  \\\n",
       "0  CCCACTGATGAACTGTGCTGCCACAGTAAATGTAGCCACTATGCCA...         45        T   \n",
       "1  CCCACTGATGAACTGTGCTGCCACAGTAAATGTAGCCACTATGCCC...         45        T   \n",
       "2  CCCACTGATGAACTGTGCTGCCACAGTAAATGTAGCCACTATGCCG...         45        T   \n",
       "3  CCCACTGATGAACTGTGCTGCCACAGTAAATGTAGCCACTATGCCT...         46        A   \n",
       "4  CCCACTGATGAACTGTGCTGCCACAGTAAATGTAGCCACTATGCCT...         46        A   \n",
       "\n",
       "  Altcheck base_element  cv_prediction  majority  sigdiff  \n",
       "0        A           F9            1.0       0.0        0  \n",
       "1        C           F9            1.0       0.0        1  \n",
       "2        G           F9            1.0       0.0        0  \n",
       "3        C           F9            1.0       0.0        0  \n",
       "4        G           F9            1.0       0.0        1  "
      ]
     },
     "execution_count": 78,
     "metadata": {},
     "output_type": "execute_result"
    }
   ],
   "source": [
    "df['sigdiff'] = df.apply(lambda row: int(row['class'] ==-1 or row['class']==1), axis=1)\n",
    "df.head()"
   ]
  },
  {
   "cell_type": "code",
   "execution_count": 112,
   "metadata": {
    "collapsed": true
   },
   "outputs": [],
   "source": [
    "from utils import snp_feats_from_preds\n",
    "\n",
    "xdiff = snp_feats_from_preds(refp, altp, feattypes=['diff'])"
   ]
  },
  {
   "cell_type": "code",
   "execution_count": 113,
   "metadata": {
    "collapsed": true
   },
   "outputs": [],
   "source": [
    "target_col = 'class'\n",
    "\n",
    "train_df = df[df['base_element']!='TERT']\n",
    "val_df = df[df['base_element']=='TERT']\n",
    "\n",
    "X_train = xdiff[train_df.index.values]\n",
    "y_train = train_df[target_col]\n",
    "\n",
    "X_val = xdiff[val_df.index.values]\n",
    "y_val = val_df[target_col]"
   ]
  },
  {
   "cell_type": "code",
   "execution_count": 114,
   "metadata": {
    "collapsed": true
   },
   "outputs": [],
   "source": [
    "import xgboost as xgb\n",
    "\n",
    "xg = xgb.XGBClassifier()"
   ]
  },
  {
   "cell_type": "code",
   "execution_count": 119,
   "metadata": {},
   "outputs": [
    {
     "name": "stdout",
     "output_type": "stream",
     "text": [
      "[0]\tvalidation_0-merror:0.203765\tvalidation_1-merror:0.3375\n",
      "[1]\tvalidation_0-merror:0.199765\tvalidation_1-merror:0.2975\n",
      "[2]\tvalidation_0-merror:0.201882\tvalidation_1-merror:0.295\n",
      "[3]\tvalidation_0-merror:0.200471\tvalidation_1-merror:0.28\n",
      "[4]\tvalidation_0-merror:0.195529\tvalidation_1-merror:0.2825\n",
      "[5]\tvalidation_0-merror:0.195765\tvalidation_1-merror:0.265\n",
      "[6]\tvalidation_0-merror:0.196471\tvalidation_1-merror:0.25\n",
      "[7]\tvalidation_0-merror:0.195765\tvalidation_1-merror:0.2525\n",
      "[8]\tvalidation_0-merror:0.196471\tvalidation_1-merror:0.2475\n",
      "[9]\tvalidation_0-merror:0.195529\tvalidation_1-merror:0.2425\n",
      "[10]\tvalidation_0-merror:0.196235\tvalidation_1-merror:0.245\n",
      "[11]\tvalidation_0-merror:0.193647\tvalidation_1-merror:0.23\n",
      "[12]\tvalidation_0-merror:0.193412\tvalidation_1-merror:0.23\n",
      "[13]\tvalidation_0-merror:0.192\tvalidation_1-merror:0.21\n",
      "[14]\tvalidation_0-merror:0.192\tvalidation_1-merror:0.195\n",
      "[15]\tvalidation_0-merror:0.191059\tvalidation_1-merror:0.195\n",
      "[16]\tvalidation_0-merror:0.190588\tvalidation_1-merror:0.195\n",
      "[17]\tvalidation_0-merror:0.188471\tvalidation_1-merror:0.195\n",
      "[18]\tvalidation_0-merror:0.189647\tvalidation_1-merror:0.195\n",
      "[19]\tvalidation_0-merror:0.189412\tvalidation_1-merror:0.195\n",
      "[20]\tvalidation_0-merror:0.187765\tvalidation_1-merror:0.195\n",
      "[21]\tvalidation_0-merror:0.187294\tvalidation_1-merror:0.18\n",
      "[22]\tvalidation_0-merror:0.185882\tvalidation_1-merror:0.175\n",
      "[23]\tvalidation_0-merror:0.184235\tvalidation_1-merror:0.175\n",
      "[24]\tvalidation_0-merror:0.183529\tvalidation_1-merror:0.175\n",
      "[25]\tvalidation_0-merror:0.181882\tvalidation_1-merror:0.175\n",
      "[26]\tvalidation_0-merror:0.181647\tvalidation_1-merror:0.175\n",
      "[27]\tvalidation_0-merror:0.180471\tvalidation_1-merror:0.175\n",
      "[28]\tvalidation_0-merror:0.179294\tvalidation_1-merror:0.17\n",
      "[29]\tvalidation_0-merror:0.178353\tvalidation_1-merror:0.17\n",
      "[30]\tvalidation_0-merror:0.178588\tvalidation_1-merror:0.17\n",
      "[31]\tvalidation_0-merror:0.176941\tvalidation_1-merror:0.17\n",
      "[32]\tvalidation_0-merror:0.175294\tvalidation_1-merror:0.165\n",
      "[33]\tvalidation_0-merror:0.174353\tvalidation_1-merror:0.165\n",
      "[34]\tvalidation_0-merror:0.172941\tvalidation_1-merror:0.165\n",
      "[35]\tvalidation_0-merror:0.172\tvalidation_1-merror:0.165\n",
      "[36]\tvalidation_0-merror:0.171294\tvalidation_1-merror:0.165\n",
      "[37]\tvalidation_0-merror:0.170824\tvalidation_1-merror:0.165\n",
      "[38]\tvalidation_0-merror:0.169176\tvalidation_1-merror:0.165\n",
      "[39]\tvalidation_0-merror:0.168471\tvalidation_1-merror:0.17\n",
      "[40]\tvalidation_0-merror:0.168\tvalidation_1-merror:0.17\n",
      "[41]\tvalidation_0-merror:0.167765\tvalidation_1-merror:0.17\n",
      "[42]\tvalidation_0-merror:0.166824\tvalidation_1-merror:0.17\n",
      "[43]\tvalidation_0-merror:0.166118\tvalidation_1-merror:0.175\n",
      "[44]\tvalidation_0-merror:0.165647\tvalidation_1-merror:0.19\n",
      "[45]\tvalidation_0-merror:0.164235\tvalidation_1-merror:0.185\n",
      "[46]\tvalidation_0-merror:0.163765\tvalidation_1-merror:0.175\n",
      "[47]\tvalidation_0-merror:0.163059\tvalidation_1-merror:0.185\n",
      "[48]\tvalidation_0-merror:0.161882\tvalidation_1-merror:0.18\n",
      "[49]\tvalidation_0-merror:0.160941\tvalidation_1-merror:0.19\n",
      "[50]\tvalidation_0-merror:0.160471\tvalidation_1-merror:0.19\n",
      "[51]\tvalidation_0-merror:0.160471\tvalidation_1-merror:0.185\n",
      "[52]\tvalidation_0-merror:0.16\tvalidation_1-merror:0.19\n",
      "[53]\tvalidation_0-merror:0.157882\tvalidation_1-merror:0.195\n",
      "[54]\tvalidation_0-merror:0.157412\tvalidation_1-merror:0.195\n",
      "[55]\tvalidation_0-merror:0.156235\tvalidation_1-merror:0.185\n",
      "[56]\tvalidation_0-merror:0.155059\tvalidation_1-merror:0.19\n",
      "[57]\tvalidation_0-merror:0.154118\tvalidation_1-merror:0.19\n",
      "[58]\tvalidation_0-merror:0.153647\tvalidation_1-merror:0.19\n",
      "[59]\tvalidation_0-merror:0.153176\tvalidation_1-merror:0.185\n",
      "[60]\tvalidation_0-merror:0.152706\tvalidation_1-merror:0.18\n",
      "[61]\tvalidation_0-merror:0.153412\tvalidation_1-merror:0.19\n",
      "[62]\tvalidation_0-merror:0.152471\tvalidation_1-merror:0.19\n",
      "[63]\tvalidation_0-merror:0.151294\tvalidation_1-merror:0.19\n",
      "[64]\tvalidation_0-merror:0.150353\tvalidation_1-merror:0.195\n",
      "[65]\tvalidation_0-merror:0.148471\tvalidation_1-merror:0.195\n",
      "[66]\tvalidation_0-merror:0.147765\tvalidation_1-merror:0.19\n",
      "[67]\tvalidation_0-merror:0.147294\tvalidation_1-merror:0.19\n",
      "[68]\tvalidation_0-merror:0.146353\tvalidation_1-merror:0.185\n",
      "[69]\tvalidation_0-merror:0.146588\tvalidation_1-merror:0.185\n",
      "[70]\tvalidation_0-merror:0.145882\tvalidation_1-merror:0.185\n",
      "[71]\tvalidation_0-merror:0.145412\tvalidation_1-merror:0.185\n",
      "[72]\tvalidation_0-merror:0.144941\tvalidation_1-merror:0.185\n",
      "[73]\tvalidation_0-merror:0.143765\tvalidation_1-merror:0.185\n",
      "[74]\tvalidation_0-merror:0.143059\tvalidation_1-merror:0.185\n",
      "[75]\tvalidation_0-merror:0.143294\tvalidation_1-merror:0.185\n",
      "[76]\tvalidation_0-merror:0.141647\tvalidation_1-merror:0.19\n",
      "[77]\tvalidation_0-merror:0.141412\tvalidation_1-merror:0.185\n",
      "[78]\tvalidation_0-merror:0.140235\tvalidation_1-merror:0.185\n",
      "[79]\tvalidation_0-merror:0.138824\tvalidation_1-merror:0.185\n",
      "[80]\tvalidation_0-merror:0.138353\tvalidation_1-merror:0.18\n",
      "[81]\tvalidation_0-merror:0.138118\tvalidation_1-merror:0.185\n",
      "[82]\tvalidation_0-merror:0.138118\tvalidation_1-merror:0.185\n",
      "[83]\tvalidation_0-merror:0.137647\tvalidation_1-merror:0.185\n",
      "[84]\tvalidation_0-merror:0.136471\tvalidation_1-merror:0.18\n",
      "[85]\tvalidation_0-merror:0.136\tvalidation_1-merror:0.18\n",
      "[86]\tvalidation_0-merror:0.134824\tvalidation_1-merror:0.18\n",
      "[87]\tvalidation_0-merror:0.134353\tvalidation_1-merror:0.18\n",
      "[88]\tvalidation_0-merror:0.133412\tvalidation_1-merror:0.18\n",
      "[89]\tvalidation_0-merror:0.132235\tvalidation_1-merror:0.18\n",
      "[90]\tvalidation_0-merror:0.131765\tvalidation_1-merror:0.18\n",
      "[91]\tvalidation_0-merror:0.130824\tvalidation_1-merror:0.18\n",
      "[92]\tvalidation_0-merror:0.130118\tvalidation_1-merror:0.18\n",
      "[93]\tvalidation_0-merror:0.129882\tvalidation_1-merror:0.18\n",
      "[94]\tvalidation_0-merror:0.129412\tvalidation_1-merror:0.18\n",
      "[95]\tvalidation_0-merror:0.129647\tvalidation_1-merror:0.18\n",
      "[96]\tvalidation_0-merror:0.128941\tvalidation_1-merror:0.18\n",
      "[97]\tvalidation_0-merror:0.129176\tvalidation_1-merror:0.18\n",
      "[98]\tvalidation_0-merror:0.127529\tvalidation_1-merror:0.18\n",
      "[99]\tvalidation_0-merror:0.125647\tvalidation_1-merror:0.185\n"
     ]
    },
    {
     "data": {
      "text/plain": [
       "XGBClassifier(base_score=0.5, colsample_bylevel=1, colsample_bytree=1,\n",
       "       gamma=0, learning_rate=0.1, max_delta_step=0, max_depth=3,\n",
       "       min_child_weight=1, missing=None, n_estimators=100, nthread=-1,\n",
       "       objective='multi:softprob', reg_alpha=0, reg_lambda=1,\n",
       "       scale_pos_weight=1, seed=0, silent=True, subsample=1)"
      ]
     },
     "execution_count": 119,
     "metadata": {},
     "output_type": "execute_result"
    }
   ],
   "source": [
    "sample_weight = compute_sample_weight('balanced', y_train)\n",
    "xg.fit(X_train, y_train, \n",
    "       eval_set=[(X_train, y_train), (X_val, y_val)], verbose=True)"
   ]
  },
  {
   "cell_type": "code",
   "execution_count": 116,
   "metadata": {},
   "outputs": [
    {
     "data": {
      "text/plain": [
       "array([[0, 1, 0],\n",
       "       [0, 1, 0],\n",
       "       [0, 1, 0],\n",
       "       ..., \n",
       "       [0, 1, 0],\n",
       "       [0, 1, 0],\n",
       "       [0, 1, 0]])"
      ]
     },
     "execution_count": 116,
     "metadata": {},
     "output_type": "execute_result"
    }
   ],
   "source": [
    "binarizer = LabelBinarizer()\n",
    "binarizer.fit_transform(y_val)"
   ]
  },
  {
   "cell_type": "markdown",
   "metadata": {},
   "source": [
    "## TODO\n",
    " * to make sure I know what's going on: explicitly set up one vs rest training, validation (by creating is_repressive, is_activating, is_sigdiff classes on df - all of these are of interest as classifications)\n",
    " * test non-abs diff features\n",
    " * look up reasons for favouring one v rest vs multinomial multiclass classifier"
   ]
  },
  {
   "cell_type": "code",
   "execution_count": 120,
   "metadata": {},
   "outputs": [
    {
     "name": "stdout",
     "output_type": "stream",
     "text": [
      "[ 0.49717514  0.49695122  0.5       ] 0.5\n"
     ]
    }
   ],
   "source": [
    "# seems like predicting negs is possible, predicting positives is harder\n",
    "print(roc_auc_score(ybin, binarizer.transform(xg.predict(X_val)), average=None),\n",
    "      roc_auc_score(ybin, binarizer.transform(np.zeros(y_val.shape))))"
   ]
  },
  {
   "cell_type": "code",
   "execution_count": 118,
   "metadata": {},
   "outputs": [
    {
     "data": {
      "text/plain": [
       "{'classes_': array([-1,  0,  1]),\n",
       " 'neg_label': 0,\n",
       " 'pos_label': 1,\n",
       " 'sparse_input_': False,\n",
       " 'sparse_output': False,\n",
       " 'y_type_': 'multiclass'}"
      ]
     },
     "execution_count": 118,
     "metadata": {},
     "output_type": "execute_result"
    }
   ],
   "source": [
    "binarizer.__dict__"
   ]
  },
  {
   "cell_type": "code",
   "execution_count": 88,
   "metadata": {},
   "outputs": [
    {
     "name": "stdout",
     "output_type": "stream",
     "text": [
      "0.619918699187 0.431287878788\n",
      "0.75\n",
      "0.82\n",
      "0.5\n"
     ]
    }
   ],
   "source": [
    "print(roc_auc_score(y_val, xg.predict(X_val)), average_precision_score(y_val, xg.predict(X_val)))\n",
    "print(accuracy_score(y_val, xg.predict(X_val)))\n",
    "print(accuracy_score(y_val, np.zeros(y_val.shape)))\n",
    "print(roc_auc_score(y_val, np.zeros(y_val.shape)))"
   ]
  },
  {
   "cell_type": "code",
   "execution_count": 75,
   "metadata": {},
   "outputs": [
    {
     "data": {
      "text/plain": [
       "0.39666417241096497"
      ]
     },
     "execution_count": 75,
     "metadata": {},
     "output_type": "execute_result"
    }
   ],
   "source": [
    "np.max(X_val)"
   ]
  },
  {
   "cell_type": "code",
   "execution_count": 12,
   "metadata": {
    "collapsed": true
   },
   "outputs": [],
   "source": [
    "from crossval import cvpreds_df\n",
    "from models import DeepSeaSNP\n",
    "\n",
    "cvdf = cvpreds_df(df, DeepSeaSNP, model_kwargs={'classifier': 'xgb',\n",
    "                                                'feattypes':['diff'],\n",
    "                                                'verbose': False, \n",
    "                                                'classifier_kwargs': {'reg_lambda': 10,\n",
    "                                                                      'booster': 'gbtree'}})"
   ]
  },
  {
   "cell_type": "code",
   "execution_count": 11,
   "metadata": {},
   "outputs": [
    {
     "name": "stdout",
     "output_type": "stream",
     "text": [
      "[ 0.61247667  0.57070927  0.58252753]\n"
     ]
    },
    {
     "data": {
      "text/plain": [
       "array([-1,  0,  1])"
      ]
     },
     "execution_count": 11,
     "metadata": {},
     "output_type": "execute_result"
    }
   ],
   "source": [
    "from sklearn.metrics import accuracy_score\n",
    "\n",
    "binarizer = LabelBinarizer()\n",
    "ybin = binarizer.fit_transform(cvdf['class'])\n",
    "print(roc_auc_score(ybin, binarizer.transform(cvdf['cv_prediction']), average=None))\n",
    "\n",
    "# lr diff: 0.6135, 0.542, 0.6000\n",
    "# lr absdiff: 0.571, 0.587, 0.517\n",
    "# gblinear diff: 0.612, 0.57, 0.58\n",
    "binarizer.classes_"
   ]
  },
  {
   "cell_type": "code",
   "execution_count": 19,
   "metadata": {},
   "outputs": [
    {
     "name": "stdout",
     "output_type": "stream",
     "text": [
      "[ 0.73188406  0.71104336  0.59934183]\n"
     ]
    }
   ],
   "source": [
    "binarizer = LabelBinarizer()\n",
    "ybin = binarizer.fit_transform(cvdf[cvdf['base_element']=='TERT']['class'])\n",
    "print(roc_auc_score(ybin, binarizer.transform(cvdf[cvdf['base_element']=='TERT']['cv_prediction']), average=None))"
   ]
  },
  {
   "cell_type": "code",
   "execution_count": 44,
   "metadata": {},
   "outputs": [
    {
     "data": {
      "text/plain": [
       "0.76129032258064511"
      ]
     },
     "execution_count": 44,
     "metadata": {},
     "output_type": "execute_result"
    }
   ],
   "source": [
    "cvdf['majority'] = 0.\n",
    "accuracy_score(cvdf['class'], cvdf['majority'])"
   ]
  },
  {
   "cell_type": "code",
   "execution_count": 41,
   "metadata": {},
   "outputs": [
    {
     "data": {
      "text/html": [
       "<div>\n",
       "<style>\n",
       "    .dataframe thead tr:only-child th {\n",
       "        text-align: right;\n",
       "    }\n",
       "\n",
       "    .dataframe thead th {\n",
       "        text-align: left;\n",
       "    }\n",
       "\n",
       "    .dataframe tbody tr th {\n",
       "        vertical-align: top;\n",
       "    }\n",
       "</style>\n",
       "<table border=\"1\" class=\"dataframe\">\n",
       "  <thead>\n",
       "    <tr style=\"text-align: right;\">\n",
       "      <th></th>\n",
       "      <th>#Chrom</th>\n",
       "      <th>Pos</th>\n",
       "      <th>Ref</th>\n",
       "      <th>Alt</th>\n",
       "      <th>Value</th>\n",
       "      <th>Confidence</th>\n",
       "      <th>regulatory_element</th>\n",
       "      <th>ref_sequence</th>\n",
       "      <th>alt_sequence</th>\n",
       "      <th>snp_index</th>\n",
       "      <th>Refcheck</th>\n",
       "      <th>Altcheck</th>\n",
       "      <th>base_element</th>\n",
       "      <th>cv_prediction</th>\n",
       "    </tr>\n",
       "    <tr>\n",
       "      <th>class</th>\n",
       "      <th></th>\n",
       "      <th></th>\n",
       "      <th></th>\n",
       "      <th></th>\n",
       "      <th></th>\n",
       "      <th></th>\n",
       "      <th></th>\n",
       "      <th></th>\n",
       "      <th></th>\n",
       "      <th></th>\n",
       "      <th></th>\n",
       "      <th></th>\n",
       "      <th></th>\n",
       "      <th></th>\n",
       "    </tr>\n",
       "  </thead>\n",
       "  <tbody>\n",
       "    <tr>\n",
       "      <th>-1</th>\n",
       "      <td>736</td>\n",
       "      <td>736</td>\n",
       "      <td>736</td>\n",
       "      <td>736</td>\n",
       "      <td>736</td>\n",
       "      <td>736</td>\n",
       "      <td>736</td>\n",
       "      <td>736</td>\n",
       "      <td>736</td>\n",
       "      <td>736</td>\n",
       "      <td>736</td>\n",
       "      <td>736</td>\n",
       "      <td>736</td>\n",
       "      <td>736</td>\n",
       "    </tr>\n",
       "    <tr>\n",
       "      <th>0</th>\n",
       "      <td>3540</td>\n",
       "      <td>3540</td>\n",
       "      <td>3540</td>\n",
       "      <td>3540</td>\n",
       "      <td>3540</td>\n",
       "      <td>3540</td>\n",
       "      <td>3540</td>\n",
       "      <td>3540</td>\n",
       "      <td>3540</td>\n",
       "      <td>3540</td>\n",
       "      <td>3540</td>\n",
       "      <td>3540</td>\n",
       "      <td>3540</td>\n",
       "      <td>3540</td>\n",
       "    </tr>\n",
       "    <tr>\n",
       "      <th>1</th>\n",
       "      <td>374</td>\n",
       "      <td>374</td>\n",
       "      <td>374</td>\n",
       "      <td>374</td>\n",
       "      <td>374</td>\n",
       "      <td>374</td>\n",
       "      <td>374</td>\n",
       "      <td>374</td>\n",
       "      <td>374</td>\n",
       "      <td>374</td>\n",
       "      <td>374</td>\n",
       "      <td>374</td>\n",
       "      <td>374</td>\n",
       "      <td>374</td>\n",
       "    </tr>\n",
       "  </tbody>\n",
       "</table>\n",
       "</div>"
      ],
      "text/plain": [
       "       #Chrom   Pos   Ref   Alt  Value  Confidence  regulatory_element  \\\n",
       "class                                                                    \n",
       "-1        736   736   736   736    736         736                 736   \n",
       " 0       3540  3540  3540  3540   3540        3540                3540   \n",
       " 1        374   374   374   374    374         374                 374   \n",
       "\n",
       "       ref_sequence  alt_sequence  snp_index  Refcheck  Altcheck  \\\n",
       "class                                                              \n",
       "-1              736           736        736       736       736   \n",
       " 0             3540          3540       3540      3540      3540   \n",
       " 1              374           374        374       374       374   \n",
       "\n",
       "       base_element  cv_prediction  \n",
       "class                               \n",
       "-1              736            736  \n",
       " 0             3540           3540  \n",
       " 1              374            374  "
      ]
     },
     "execution_count": 41,
     "metadata": {},
     "output_type": "execute_result"
    }
   ],
   "source": [
    "cvdf.groupby(['class']).count()"
   ]
  },
  {
   "cell_type": "code",
   "execution_count": 40,
   "metadata": {},
   "outputs": [
    {
     "data": {
      "text/html": [
       "<div>\n",
       "<style>\n",
       "    .dataframe thead tr:only-child th {\n",
       "        text-align: right;\n",
       "    }\n",
       "\n",
       "    .dataframe thead th {\n",
       "        text-align: left;\n",
       "    }\n",
       "\n",
       "    .dataframe tbody tr th {\n",
       "        vertical-align: top;\n",
       "    }\n",
       "</style>\n",
       "<table border=\"1\" class=\"dataframe\">\n",
       "  <thead>\n",
       "    <tr style=\"text-align: right;\">\n",
       "      <th></th>\n",
       "      <th>#Chrom</th>\n",
       "      <th>Pos</th>\n",
       "      <th>Ref</th>\n",
       "      <th>Alt</th>\n",
       "      <th>Value</th>\n",
       "      <th>Confidence</th>\n",
       "      <th>class</th>\n",
       "      <th>regulatory_element</th>\n",
       "      <th>ref_sequence</th>\n",
       "      <th>alt_sequence</th>\n",
       "      <th>snp_index</th>\n",
       "      <th>Refcheck</th>\n",
       "      <th>Altcheck</th>\n",
       "      <th>base_element</th>\n",
       "    </tr>\n",
       "    <tr>\n",
       "      <th>cv_prediction</th>\n",
       "      <th></th>\n",
       "      <th></th>\n",
       "      <th></th>\n",
       "      <th></th>\n",
       "      <th></th>\n",
       "      <th></th>\n",
       "      <th></th>\n",
       "      <th></th>\n",
       "      <th></th>\n",
       "      <th></th>\n",
       "      <th></th>\n",
       "      <th></th>\n",
       "      <th></th>\n",
       "      <th></th>\n",
       "    </tr>\n",
       "  </thead>\n",
       "  <tbody>\n",
       "    <tr>\n",
       "      <th>-1.0</th>\n",
       "      <td>644</td>\n",
       "      <td>644</td>\n",
       "      <td>644</td>\n",
       "      <td>644</td>\n",
       "      <td>644</td>\n",
       "      <td>644</td>\n",
       "      <td>644</td>\n",
       "      <td>644</td>\n",
       "      <td>644</td>\n",
       "      <td>644</td>\n",
       "      <td>644</td>\n",
       "      <td>644</td>\n",
       "      <td>644</td>\n",
       "      <td>644</td>\n",
       "    </tr>\n",
       "    <tr>\n",
       "      <th>0.0</th>\n",
       "      <td>3396</td>\n",
       "      <td>3396</td>\n",
       "      <td>3396</td>\n",
       "      <td>3396</td>\n",
       "      <td>3396</td>\n",
       "      <td>3396</td>\n",
       "      <td>3396</td>\n",
       "      <td>3396</td>\n",
       "      <td>3396</td>\n",
       "      <td>3396</td>\n",
       "      <td>3396</td>\n",
       "      <td>3396</td>\n",
       "      <td>3396</td>\n",
       "      <td>3396</td>\n",
       "    </tr>\n",
       "    <tr>\n",
       "      <th>1.0</th>\n",
       "      <td>610</td>\n",
       "      <td>610</td>\n",
       "      <td>610</td>\n",
       "      <td>610</td>\n",
       "      <td>610</td>\n",
       "      <td>610</td>\n",
       "      <td>610</td>\n",
       "      <td>610</td>\n",
       "      <td>610</td>\n",
       "      <td>610</td>\n",
       "      <td>610</td>\n",
       "      <td>610</td>\n",
       "      <td>610</td>\n",
       "      <td>610</td>\n",
       "    </tr>\n",
       "  </tbody>\n",
       "</table>\n",
       "</div>"
      ],
      "text/plain": [
       "               #Chrom   Pos   Ref   Alt  Value  Confidence  class  \\\n",
       "cv_prediction                                                       \n",
       "-1.0              644   644   644   644    644         644    644   \n",
       " 0.0             3396  3396  3396  3396   3396        3396   3396   \n",
       " 1.0              610   610   610   610    610         610    610   \n",
       "\n",
       "               regulatory_element  ref_sequence  alt_sequence  snp_index  \\\n",
       "cv_prediction                                                              \n",
       "-1.0                          644           644           644        644   \n",
       " 0.0                         3396          3396          3396       3396   \n",
       " 1.0                          610           610           610        610   \n",
       "\n",
       "               Refcheck  Altcheck  base_element  \n",
       "cv_prediction                                    \n",
       "-1.0                644       644           644  \n",
       " 0.0               3396      3396          3396  \n",
       " 1.0                610       610           610  "
      ]
     },
     "execution_count": 40,
     "metadata": {},
     "output_type": "execute_result"
    }
   ],
   "source": [
    "cvdf.groupby(['cv_prediction']).count()"
   ]
  },
  {
   "cell_type": "code",
   "execution_count": 10,
   "metadata": {},
   "outputs": [
    {
     "name": "stdout",
     "output_type": "stream",
     "text": [
      "<class 'list'>\n",
      "<class 'list'>\n"
     ]
    }
   ],
   "source": [
    "from utils import snpfeats_from_df, seqfeats_from_df\n",
    "# absdiff = snpfeats_from_df(df, 1000)\n",
    "refp, altp = seqfeats_from_df(df, use_gpu=False, seqlen=1000)"
   ]
  },
  {
   "cell_type": "code",
   "execution_count": 12,
   "metadata": {},
   "outputs": [
    {
     "data": {
      "text/plain": [
       "(4650, 919)"
      ]
     },
     "execution_count": 12,
     "metadata": {},
     "output_type": "execute_result"
    }
   ],
   "source": [
    "np.save('data/cagi5_mpra/deepsea_ref_preds.npy')"
   ]
  },
  {
   "cell_type": "code",
   "execution_count": 7,
   "metadata": {},
   "outputs": [
    {
     "data": {
      "text/html": [
       "<div>\n",
       "<style>\n",
       "    .dataframe thead tr:only-child th {\n",
       "        text-align: right;\n",
       "    }\n",
       "\n",
       "    .dataframe thead th {\n",
       "        text-align: left;\n",
       "    }\n",
       "\n",
       "    .dataframe tbody tr th {\n",
       "        vertical-align: top;\n",
       "    }\n",
       "</style>\n",
       "<table border=\"1\" class=\"dataframe\">\n",
       "  <thead>\n",
       "    <tr style=\"text-align: right;\">\n",
       "      <th></th>\n",
       "      <th>#Chrom</th>\n",
       "      <th>Pos</th>\n",
       "      <th>Ref</th>\n",
       "      <th>Alt</th>\n",
       "      <th>Value</th>\n",
       "      <th>Confidence</th>\n",
       "      <th>class</th>\n",
       "      <th>regulatory_element</th>\n",
       "      <th>ref_sequence</th>\n",
       "      <th>alt_sequence</th>\n",
       "      <th>snp_index</th>\n",
       "      <th>Refcheck</th>\n",
       "      <th>Altcheck</th>\n",
       "    </tr>\n",
       "  </thead>\n",
       "  <tbody>\n",
       "    <tr>\n",
       "      <th>0</th>\n",
       "      <td>X</td>\n",
       "      <td>138612669</td>\n",
       "      <td>T</td>\n",
       "      <td>A</td>\n",
       "      <td>-0.17</td>\n",
       "      <td>0.07</td>\n",
       "      <td>0</td>\n",
       "      <td>release_F9</td>\n",
       "      <td>CCCACTGATGAACTGTGCTGCCACAGTAAATGTAGCCACTATGCCT...</td>\n",
       "      <td>CCCACTGATGAACTGTGCTGCCACAGTAAATGTAGCCACTATGCCA...</td>\n",
       "      <td>45</td>\n",
       "      <td>T</td>\n",
       "      <td>A</td>\n",
       "    </tr>\n",
       "    <tr>\n",
       "      <th>1</th>\n",
       "      <td>X</td>\n",
       "      <td>138612669</td>\n",
       "      <td>T</td>\n",
       "      <td>C</td>\n",
       "      <td>-0.26</td>\n",
       "      <td>0.24</td>\n",
       "      <td>-1</td>\n",
       "      <td>release_F9</td>\n",
       "      <td>CCCACTGATGAACTGTGCTGCCACAGTAAATGTAGCCACTATGCCT...</td>\n",
       "      <td>CCCACTGATGAACTGTGCTGCCACAGTAAATGTAGCCACTATGCCC...</td>\n",
       "      <td>45</td>\n",
       "      <td>T</td>\n",
       "      <td>C</td>\n",
       "    </tr>\n",
       "    <tr>\n",
       "      <th>2</th>\n",
       "      <td>X</td>\n",
       "      <td>138612669</td>\n",
       "      <td>T</td>\n",
       "      <td>G</td>\n",
       "      <td>0.34</td>\n",
       "      <td>0.05</td>\n",
       "      <td>0</td>\n",
       "      <td>release_F9</td>\n",
       "      <td>CCCACTGATGAACTGTGCTGCCACAGTAAATGTAGCCACTATGCCT...</td>\n",
       "      <td>CCCACTGATGAACTGTGCTGCCACAGTAAATGTAGCCACTATGCCG...</td>\n",
       "      <td>45</td>\n",
       "      <td>T</td>\n",
       "      <td>G</td>\n",
       "    </tr>\n",
       "    <tr>\n",
       "      <th>3</th>\n",
       "      <td>X</td>\n",
       "      <td>138612670</td>\n",
       "      <td>A</td>\n",
       "      <td>C</td>\n",
       "      <td>0.00</td>\n",
       "      <td>0.00</td>\n",
       "      <td>0</td>\n",
       "      <td>release_F9</td>\n",
       "      <td>CCCACTGATGAACTGTGCTGCCACAGTAAATGTAGCCACTATGCCT...</td>\n",
       "      <td>CCCACTGATGAACTGTGCTGCCACAGTAAATGTAGCCACTATGCCT...</td>\n",
       "      <td>46</td>\n",
       "      <td>A</td>\n",
       "      <td>C</td>\n",
       "    </tr>\n",
       "    <tr>\n",
       "      <th>4</th>\n",
       "      <td>X</td>\n",
       "      <td>138612670</td>\n",
       "      <td>A</td>\n",
       "      <td>G</td>\n",
       "      <td>0.22</td>\n",
       "      <td>0.20</td>\n",
       "      <td>1</td>\n",
       "      <td>release_F9</td>\n",
       "      <td>CCCACTGATGAACTGTGCTGCCACAGTAAATGTAGCCACTATGCCT...</td>\n",
       "      <td>CCCACTGATGAACTGTGCTGCCACAGTAAATGTAGCCACTATGCCT...</td>\n",
       "      <td>46</td>\n",
       "      <td>A</td>\n",
       "      <td>G</td>\n",
       "    </tr>\n",
       "  </tbody>\n",
       "</table>\n",
       "</div>"
      ],
      "text/plain": [
       "  #Chrom        Pos Ref Alt  Value  Confidence  class regulatory_element  \\\n",
       "0      X  138612669   T   A  -0.17        0.07      0         release_F9   \n",
       "1      X  138612669   T   C  -0.26        0.24     -1         release_F9   \n",
       "2      X  138612669   T   G   0.34        0.05      0         release_F9   \n",
       "3      X  138612670   A   C   0.00        0.00      0         release_F9   \n",
       "4      X  138612670   A   G   0.22        0.20      1         release_F9   \n",
       "\n",
       "                                        ref_sequence  \\\n",
       "0  CCCACTGATGAACTGTGCTGCCACAGTAAATGTAGCCACTATGCCT...   \n",
       "1  CCCACTGATGAACTGTGCTGCCACAGTAAATGTAGCCACTATGCCT...   \n",
       "2  CCCACTGATGAACTGTGCTGCCACAGTAAATGTAGCCACTATGCCT...   \n",
       "3  CCCACTGATGAACTGTGCTGCCACAGTAAATGTAGCCACTATGCCT...   \n",
       "4  CCCACTGATGAACTGTGCTGCCACAGTAAATGTAGCCACTATGCCT...   \n",
       "\n",
       "                                        alt_sequence  snp_index Refcheck  \\\n",
       "0  CCCACTGATGAACTGTGCTGCCACAGTAAATGTAGCCACTATGCCA...         45        T   \n",
       "1  CCCACTGATGAACTGTGCTGCCACAGTAAATGTAGCCACTATGCCC...         45        T   \n",
       "2  CCCACTGATGAACTGTGCTGCCACAGTAAATGTAGCCACTATGCCG...         45        T   \n",
       "3  CCCACTGATGAACTGTGCTGCCACAGTAAATGTAGCCACTATGCCT...         46        A   \n",
       "4  CCCACTGATGAACTGTGCTGCCACAGTAAATGTAGCCACTATGCCT...         46        A   \n",
       "\n",
       "  Altcheck  \n",
       "0        A  \n",
       "1        C  \n",
       "2        G  \n",
       "3        C  \n",
       "4        G  "
      ]
     },
     "execution_count": 7,
     "metadata": {},
     "output_type": "execute_result"
    }
   ],
   "source": [
    "df.head()"
   ]
  },
  {
   "cell_type": "markdown",
   "metadata": {},
   "source": [
    "## TODO\n",
    " * setup crossval (keep the TERTs together)\n",
    " * data exploration: how many of each class are there etc.\n",
    " * write a generate feats script that will allow me to run on gpu and save b.c. otherwise it's too slow\n",
    "   (although now I should be able to use one of my newly trained models on the login node gpu without any trouble)"
   ]
  },
  {
   "cell_type": "code",
   "execution_count": 3,
   "metadata": {},
   "outputs": [
    {
     "data": {
      "text/html": [
       "<div>\n",
       "<style>\n",
       "    .dataframe thead tr:only-child th {\n",
       "        text-align: right;\n",
       "    }\n",
       "\n",
       "    .dataframe thead th {\n",
       "        text-align: left;\n",
       "    }\n",
       "\n",
       "    .dataframe tbody tr th {\n",
       "        vertical-align: top;\n",
       "    }\n",
       "</style>\n",
       "<table border=\"1\" class=\"dataframe\">\n",
       "  <thead>\n",
       "    <tr style=\"text-align: right;\">\n",
       "      <th></th>\n",
       "      <th>#Chrom</th>\n",
       "      <th>Pos</th>\n",
       "      <th>Ref</th>\n",
       "      <th>Alt</th>\n",
       "      <th>Value</th>\n",
       "      <th>Confidence</th>\n",
       "      <th>class</th>\n",
       "      <th>regulatory_element</th>\n",
       "    </tr>\n",
       "  </thead>\n",
       "  <tbody>\n",
       "    <tr>\n",
       "      <th>2517</th>\n",
       "      <td>8</td>\n",
       "      <td>128413073</td>\n",
       "      <td>C</td>\n",
       "      <td>A</td>\n",
       "      <td>0.09</td>\n",
       "      <td>0.00</td>\n",
       "      <td>0</td>\n",
       "      <td>release_MYCrs6983267</td>\n",
       "    </tr>\n",
       "    <tr>\n",
       "      <th>2518</th>\n",
       "      <td>8</td>\n",
       "      <td>128413073</td>\n",
       "      <td>C</td>\n",
       "      <td>T</td>\n",
       "      <td>-0.03</td>\n",
       "      <td>0.00</td>\n",
       "      <td>0</td>\n",
       "      <td>release_MYCrs6983267</td>\n",
       "    </tr>\n",
       "    <tr>\n",
       "      <th>2519</th>\n",
       "      <td>8</td>\n",
       "      <td>128413074</td>\n",
       "      <td>C</td>\n",
       "      <td>A</td>\n",
       "      <td>0.04</td>\n",
       "      <td>0.01</td>\n",
       "      <td>0</td>\n",
       "      <td>release_MYCrs6983267</td>\n",
       "    </tr>\n",
       "    <tr>\n",
       "      <th>2520</th>\n",
       "      <td>8</td>\n",
       "      <td>128413074</td>\n",
       "      <td>C</td>\n",
       "      <td>G</td>\n",
       "      <td>-0.01</td>\n",
       "      <td>0.00</td>\n",
       "      <td>0</td>\n",
       "      <td>release_MYCrs6983267</td>\n",
       "    </tr>\n",
       "    <tr>\n",
       "      <th>2521</th>\n",
       "      <td>8</td>\n",
       "      <td>128413074</td>\n",
       "      <td>C</td>\n",
       "      <td>T</td>\n",
       "      <td>-0.49</td>\n",
       "      <td>0.13</td>\n",
       "      <td>-1</td>\n",
       "      <td>release_MYCrs6983267</td>\n",
       "    </tr>\n",
       "    <tr>\n",
       "      <th>2522</th>\n",
       "      <td>8</td>\n",
       "      <td>128413075</td>\n",
       "      <td>T</td>\n",
       "      <td>A</td>\n",
       "      <td>0.00</td>\n",
       "      <td>0.00</td>\n",
       "      <td>0</td>\n",
       "      <td>release_MYCrs6983267</td>\n",
       "    </tr>\n",
       "    <tr>\n",
       "      <th>2523</th>\n",
       "      <td>8</td>\n",
       "      <td>128413075</td>\n",
       "      <td>T</td>\n",
       "      <td>C</td>\n",
       "      <td>-0.06</td>\n",
       "      <td>0.01</td>\n",
       "      <td>0</td>\n",
       "      <td>release_MYCrs6983267</td>\n",
       "    </tr>\n",
       "    <tr>\n",
       "      <th>2524</th>\n",
       "      <td>8</td>\n",
       "      <td>128413075</td>\n",
       "      <td>T</td>\n",
       "      <td>G</td>\n",
       "      <td>-0.21</td>\n",
       "      <td>0.04</td>\n",
       "      <td>0</td>\n",
       "      <td>release_MYCrs6983267</td>\n",
       "    </tr>\n",
       "  </tbody>\n",
       "</table>\n",
       "</div>"
      ],
      "text/plain": [
       "     #Chrom        Pos Ref Alt  Value  Confidence  class    regulatory_element\n",
       "2517      8  128413073   C   A   0.09        0.00      0  release_MYCrs6983267\n",
       "2518      8  128413073   C   T  -0.03        0.00      0  release_MYCrs6983267\n",
       "2519      8  128413074   C   A   0.04        0.01      0  release_MYCrs6983267\n",
       "2520      8  128413074   C   G  -0.01        0.00      0  release_MYCrs6983267\n",
       "2521      8  128413074   C   T  -0.49        0.13     -1  release_MYCrs6983267\n",
       "2522      8  128413075   T   A   0.00        0.00      0  release_MYCrs6983267\n",
       "2523      8  128413075   T   C  -0.06        0.01      0  release_MYCrs6983267\n",
       "2524      8  128413075   T   G  -0.21        0.04      0  release_MYCrs6983267"
      ]
     },
     "execution_count": 3,
     "metadata": {},
     "output_type": "execute_result"
    }
   ],
   "source": [
    "df[df['Pos'].isin([128413071, 128413072, 128413073, 128413074, 128413075])]"
   ]
  },
  {
   "cell_type": "code",
   "execution_count": 16,
   "metadata": {},
   "outputs": [
    {
     "name": "stdout",
     "output_type": "stream",
     "text": [
      "G C T\n"
     ]
    }
   ],
   "source": [
    "with pysam.Fastafile(fasta_file) as genome:\n",
    "  d0 = genome.fetch('chr8', 128413072, 128413073)\n",
    "  d1 = genome.fetch('chr8', 128413073, 128413074)\n",
    "  d2 = genome.fetch('chr8', 128413074, 128413075)\n",
    "  print(d0, d1, d2)"
   ]
  },
  {
   "cell_type": "code",
   "execution_count": 6,
   "metadata": {},
   "outputs": [
    {
     "data": {
      "text/html": [
       "<div>\n",
       "<style>\n",
       "    .dataframe thead tr:only-child th {\n",
       "        text-align: right;\n",
       "    }\n",
       "\n",
       "    .dataframe thead th {\n",
       "        text-align: left;\n",
       "    }\n",
       "\n",
       "    .dataframe tbody tr th {\n",
       "        vertical-align: top;\n",
       "    }\n",
       "</style>\n",
       "<table border=\"1\" class=\"dataframe\">\n",
       "  <thead>\n",
       "    <tr style=\"text-align: right;\">\n",
       "      <th></th>\n",
       "      <th>#Chrom</th>\n",
       "      <th>Pos</th>\n",
       "      <th>Ref</th>\n",
       "      <th>Alt</th>\n",
       "      <th>Value</th>\n",
       "      <th>Confidence</th>\n",
       "      <th>class</th>\n",
       "      <th>regulatory_element</th>\n",
       "    </tr>\n",
       "  </thead>\n",
       "  <tbody>\n",
       "    <tr>\n",
       "      <th>1034</th>\n",
       "      <td>6</td>\n",
       "      <td>396142</td>\n",
       "      <td>T</td>\n",
       "      <td>A</td>\n",
       "      <td>-0.02</td>\n",
       "      <td>0.00</td>\n",
       "      <td>0</td>\n",
       "      <td>release_IRF4</td>\n",
       "    </tr>\n",
       "    <tr>\n",
       "      <th>1035</th>\n",
       "      <td>6</td>\n",
       "      <td>396142</td>\n",
       "      <td>T</td>\n",
       "      <td>C</td>\n",
       "      <td>0.02</td>\n",
       "      <td>0.00</td>\n",
       "      <td>0</td>\n",
       "      <td>release_IRF4</td>\n",
       "    </tr>\n",
       "    <tr>\n",
       "      <th>1036</th>\n",
       "      <td>6</td>\n",
       "      <td>396142</td>\n",
       "      <td>T</td>\n",
       "      <td>G</td>\n",
       "      <td>0.15</td>\n",
       "      <td>0.07</td>\n",
       "      <td>0</td>\n",
       "      <td>release_IRF4</td>\n",
       "    </tr>\n",
       "  </tbody>\n",
       "</table>\n",
       "</div>"
      ],
      "text/plain": [
       "     #Chrom     Pos Ref Alt  Value  Confidence  class regulatory_element\n",
       "1034      6  396142   T   A  -0.02        0.00      0       release_IRF4\n",
       "1035      6  396142   T   C   0.02        0.00      0       release_IRF4\n",
       "1036      6  396142   T   G   0.15        0.07      0       release_IRF4"
      ]
     },
     "execution_count": 6,
     "metadata": {},
     "output_type": "execute_result"
    }
   ],
   "source": [
    "df[df['Pos'].isin([396142])]"
   ]
  },
  {
   "cell_type": "code",
   "execution_count": 5,
   "metadata": {},
   "outputs": [
    {
     "name": "stdout",
     "output_type": "stream",
     "text": [
      "G G\n"
     ]
    }
   ],
   "source": [
    "with pysam.Fastafile(fasta_file) as genome:\n",
    "  d0 = genome.fetch('chr6', 396141, 396142)\n",
    "  d1 = genome.fetch('chr6', 396142, 396143)\n",
    "  print(d0, d1)"
   ]
  },
  {
   "cell_type": "code",
   "execution_count": 3,
   "metadata": {
    "scrolled": true
   },
   "outputs": [
    {
     "name": "stdout",
     "output_type": "stream",
     "text": [
      "G does not match row ref T, position 396142 chr 6 in release_IRF4 CRE\n",
      "0\n",
      "G does not match row ref T, position 396142 chr 6 in release_IRF4 CRE\n",
      "0\n",
      "G does not match row ref T, position 396142 chr 6 in release_IRF4 CRE\n",
      "0\n",
      "G does not match row ref C, position 128413073 chr 8 in release_MYCrs6983267 CRE\n",
      "0\n",
      "G does not match row ref C, position 128413073 chr 8 in release_MYCrs6983267 CRE\n",
      "0\n",
      "T does not match row ref C, position 37775274 chr 6 in release_ZFAND3 CRE\n",
      "0\n",
      "T does not match row ref C, position 37775274 chr 6 in release_ZFAND3 CRE\n",
      "0\n"
     ]
    }
   ],
   "source": [
    "ref, alt, inds = get_sequences_cagi5(df)"
   ]
  },
  {
   "cell_type": "code",
   "execution_count": 7,
   "metadata": {},
   "outputs": [
    {
     "data": {
      "text/html": [
       "<div>\n",
       "<style>\n",
       "    .dataframe thead tr:only-child th {\n",
       "        text-align: right;\n",
       "    }\n",
       "\n",
       "    .dataframe thead th {\n",
       "        text-align: left;\n",
       "    }\n",
       "\n",
       "    .dataframe tbody tr th {\n",
       "        vertical-align: top;\n",
       "    }\n",
       "</style>\n",
       "<table border=\"1\" class=\"dataframe\">\n",
       "  <thead>\n",
       "    <tr style=\"text-align: right;\">\n",
       "      <th></th>\n",
       "      <th>#Chrom</th>\n",
       "      <th>Pos</th>\n",
       "      <th>Ref</th>\n",
       "      <th>Alt</th>\n",
       "      <th>Value</th>\n",
       "      <th>Confidence</th>\n",
       "      <th>class</th>\n",
       "      <th>regulatory_element</th>\n",
       "    </tr>\n",
       "  </thead>\n",
       "  <tbody>\n",
       "    <tr>\n",
       "      <th>0</th>\n",
       "      <td>X</td>\n",
       "      <td>138612669</td>\n",
       "      <td>T</td>\n",
       "      <td>A</td>\n",
       "      <td>-0.17</td>\n",
       "      <td>0.07</td>\n",
       "      <td>0</td>\n",
       "      <td>release_F9</td>\n",
       "    </tr>\n",
       "    <tr>\n",
       "      <th>1</th>\n",
       "      <td>X</td>\n",
       "      <td>138612669</td>\n",
       "      <td>T</td>\n",
       "      <td>C</td>\n",
       "      <td>-0.26</td>\n",
       "      <td>0.24</td>\n",
       "      <td>-1</td>\n",
       "      <td>release_F9</td>\n",
       "    </tr>\n",
       "    <tr>\n",
       "      <th>2</th>\n",
       "      <td>X</td>\n",
       "      <td>138612669</td>\n",
       "      <td>T</td>\n",
       "      <td>G</td>\n",
       "      <td>0.34</td>\n",
       "      <td>0.05</td>\n",
       "      <td>0</td>\n",
       "      <td>release_F9</td>\n",
       "    </tr>\n",
       "    <tr>\n",
       "      <th>3</th>\n",
       "      <td>X</td>\n",
       "      <td>138612670</td>\n",
       "      <td>A</td>\n",
       "      <td>C</td>\n",
       "      <td>0.00</td>\n",
       "      <td>0.00</td>\n",
       "      <td>0</td>\n",
       "      <td>release_F9</td>\n",
       "    </tr>\n",
       "    <tr>\n",
       "      <th>4</th>\n",
       "      <td>X</td>\n",
       "      <td>138612670</td>\n",
       "      <td>A</td>\n",
       "      <td>G</td>\n",
       "      <td>0.22</td>\n",
       "      <td>0.20</td>\n",
       "      <td>1</td>\n",
       "      <td>release_F9</td>\n",
       "    </tr>\n",
       "  </tbody>\n",
       "</table>\n",
       "</div>"
      ],
      "text/plain": [
       "  #Chrom        Pos Ref Alt  Value  Confidence  class regulatory_element\n",
       "0      X  138612669   T   A  -0.17        0.07      0         release_F9\n",
       "1      X  138612669   T   C  -0.26        0.24     -1         release_F9\n",
       "2      X  138612669   T   G   0.34        0.05      0         release_F9\n",
       "3      X  138612670   A   C   0.00        0.00      0         release_F9\n",
       "4      X  138612670   A   G   0.22        0.20      1         release_F9"
      ]
     },
     "execution_count": 7,
     "metadata": {},
     "output_type": "execute_result"
    }
   ],
   "source": [
    "df.head()"
   ]
  },
  {
   "cell_type": "code",
   "execution_count": 19,
   "metadata": {},
   "outputs": [
    {
     "data": {
      "text/plain": [
       "Ref\n",
       "A    release_ZFAND3\n",
       "C    release_ZFAND3\n",
       "G    release_ZFAND3\n",
       "T    release_ZFAND3\n",
       "Name: regulatory_element, dtype: object"
      ]
     },
     "execution_count": 19,
     "metadata": {},
     "output_type": "execute_result"
    }
   ],
   "source": [
    "df.groupby(['Ref'])['regulatory_element'].max()"
   ]
  },
  {
   "cell_type": "code",
   "execution_count": 15,
   "metadata": {},
   "outputs": [
    {
     "name": "stdout",
     "output_type": "stream",
     "text": [
      "17 14\n"
     ]
    }
   ],
   "source": [
    "from constants import LOCS\n",
    "\n",
    "print(len(set(ref)), len(LOCS)) # n.b. this discrepancy is due to the 3 locations where the stated ref sequence does not match the genome"
   ]
  },
  {
   "cell_type": "code",
   "execution_count": 9,
   "metadata": {},
   "outputs": [
    {
     "name": "stdout",
     "output_type": "stream",
     "text": [
      "T A ['T' 'A']\n",
      "T A ['T' 'A']\n",
      "C T ['C' 'T']\n",
      "G C ['G' 'C']\n"
     ]
    }
   ],
   "source": [
    "for i in [0, 123, 457, 999]:\n",
    "  print(ref[i][inds[i]], alt[i][inds[i]], df.loc[i][['Ref', 'Alt']].values)"
   ]
  },
  {
   "cell_type": "markdown",
   "metadata": {},
   "source": [
    "two options with things that don't match reference:\n",
    " * just predict 0\n",
    " * just use what they say as the ref"
   ]
  },
  {
   "cell_type": "code",
   "execution_count": 59,
   "metadata": {},
   "outputs": [
    {
     "name": "stdout",
     "output_type": "stream",
     "text": [
      "T A\n",
      "A\n"
     ]
    }
   ],
   "source": [
    "fasta_file = 'data/remote_data/hg19.genome.fa'\n",
    "f9_start = 138612624\n",
    "f9_end = 138612924\n",
    "pos = 138612670\n",
    "rel_pos = pos-f9_start-1\n",
    "with pysam.Fastafile(fasta_file) as genome:\n",
    "  t = genome.fetch('chrX', 138612668, 138612669)\n",
    "  a = genome.fetch('chrX', 138612669, 138612670)\n",
    "  print(t,a)\n",
    "  dnastr = genome.fetch('chrX', f9_start, f9_end)\n",
    "print(dnastr[rel_pos])"
   ]
  },
  {
   "cell_type": "code",
   "execution_count": 52,
   "metadata": {},
   "outputs": [
    {
     "name": "stdout",
     "output_type": "stream",
     "text": [
      "regulatory_element\n",
      "release_F9              138612669\n",
      "release_GP1BB            19710804\n",
      "release_HBB               5248268\n",
      "release_HBG1              5271051\n",
      "release_HNF4A            42984207\n",
      "release_IRF4               396142\n",
      "release_IRF6            209989199\n",
      "release_LDLR             11199906\n",
      "release_MSMB             51549083\n",
      "release_MYCrs6983267    128413073\n",
      "release_PKLR            155271234\n",
      "release_SORT1           109817337\n",
      "release_TERT-GBM          1295104\n",
      "release_TERT-HEK293T      1295104\n",
      "release_ZFAND3           37775274\n",
      "Name: Pos, dtype: int64\n",
      "regulatory_element\n",
      "release_F9              138612924\n",
      "release_GP1BB            19711139\n",
      "release_HBB               5248439\n",
      "release_HBG1              5271274\n",
      "release_HNF4A            42984444\n",
      "release_IRF4               396589\n",
      "release_IRF6            209989694\n",
      "release_LDLR             11200177\n",
      "release_MSMB             51549578\n",
      "release_MYCrs6983267    128413664\n",
      "release_PKLR            155271649\n",
      "release_SORT1           109817736\n",
      "release_TERT-GBM          1295362\n",
      "release_TERT-HEK293T      1295362\n",
      "release_ZFAND3           37775853\n",
      "Name: Pos, dtype: int64\n"
     ]
    }
   ],
   "source": [
    "seqstarts = df.groupby(['regulatory_element'])['Pos'].min()\n",
    "seqends = df.groupby(['regulatory_element'])['Pos'].max()\n",
    "print(seqstarts)\n",
    "print(seqends)"
   ]
  },
  {
   "cell_type": "code",
   "execution_count": 46,
   "metadata": {},
   "outputs": [
    {
     "data": {
      "text/plain": [
       "{'release_F9': 255,\n",
       " 'release_GP1BB': 335,\n",
       " 'release_HBB': 171,\n",
       " 'release_HBG1': 223,\n",
       " 'release_HNF4A': 237,\n",
       " 'release_IRF4': 447,\n",
       " 'release_IRF6': 495,\n",
       " 'release_LDLR': 271,\n",
       " 'release_MSMB': 495,\n",
       " 'release_MYCrs6983267': 591,\n",
       " 'release_PKLR': 415,\n",
       " 'release_SORT1': 399,\n",
       " 'release_TERT-GBM': 258,\n",
       " 'release_TERT-HEK293T': 258,\n",
       " 'release_ZFAND3': 579}"
      ]
     },
     "execution_count": 46,
     "metadata": {},
     "output_type": "execute_result"
    }
   ],
   "source": [
    "seqlengths = {}\n",
    "for k, v in seqstarts.iteritems():\n",
    "  seqlengths[k] = seqends.loc[k] - v\n",
    "seqlengths"
   ]
  },
  {
   "cell_type": "markdown",
   "metadata": {},
   "source": [
    "## TODO \n",
    "* look up evaluation metrics for multiclass classification (is there a binary metric like the one below)\n",
    "\n",
    "a multiple linear regression model of log2(RNA) ~ log2(DNA) + N + offset (were RNA and DNA are counts observed for all n tags, N is a binary matrix associating n tags to m sequence variants and offset is the models' offset normalizing total DNA to RNA counts) was used to assign sequence effects. From the fit, m coefficients (corresponding to the columns of matrix N) were obtained and assigned as the effects of each sequence variant (SNV). A confidence score was derived by capping the p-value of the multiple linear regression at 10-50 and scaling the log10-transformed value between 0 and 1 (i.e. 1 corresponding to a p-value of ≤10-50, 0.5 of 10-25, 0 to a p-value of 1). We deemed a confidence score greater or equal to 0.1 (p-value of 10-5) indicates that the SNV \"has an expression effect\" while <0.1 means \"has no expression effect\".\n",
    "\n",
    "So we want to predict confidence (regression bounded between 0 and 1), a categorical effect given by:\n",
    " -1 if value < 0 and confidence > 0.1,\n",
    " 0  if confidence < 0.1\n",
    " 1 if value > 0 and confidence > 0.1,\n",
    "and probability values for the assigned classes (this could come from predict_proba for example)\n",
    "\n",
    "prediction is categorical, but data isn't ... Direction - Estimated variant effect from the experimental data. Categorical prediction of repressive. (submitted value -1)/activating (submit a value 1)/no effect (submit a value 0), i.e. allele effect is increasing reporter expression (activating), reducing expression (repressive), or not significantly different from zero (confidence score below 0.1).\n",
    "\n",
    "Two approaches to consider:\n",
    "(i) directly training a classifier on the class labels\n",
    "(ii) training to predict value, confidence (regressors), and using these to compute a prediction for the class\n",
    "\n",
    "You can probably calculate $\\Pi_{y = \\hat{y}}(p(\\hat{y}))\\times\\Pi_{y\\neq\\hat{y}}(1-p(\\hat{y}))$, which is an approximation to the full categorical cross entropy i suppose"
   ]
  },
  {
   "cell_type": "code",
   "execution_count": 13,
   "metadata": {
    "collapsed": true
   },
   "outputs": [],
   "source": [
    "def get_class(row):\n",
    "  val = row['Value']\n",
    "  conf = row['Confidence']\n",
    "  if conf < 0.1:\n",
    "    return 0\n",
    "  elif val < 0:\n",
    "    return -1\n",
    "  elif val > 0:\n",
    "    return 1"
   ]
  },
  {
   "cell_type": "code",
   "execution_count": 15,
   "metadata": {
    "collapsed": true
   },
   "outputs": [],
   "source": [
    "classes = f9_df.apply(lambda row: get_class(row), axis=1)"
   ]
  },
  {
   "cell_type": "code",
   "execution_count": 16,
   "metadata": {},
   "outputs": [
    {
     "data": {
      "text/plain": [
       "0      0\n",
       "1     -1\n",
       "2      0\n",
       "3      0\n",
       "4      1\n",
       "5      0\n",
       "6      0\n",
       "7      1\n",
       "8      0\n",
       "9      0\n",
       "10     0\n",
       "11     0\n",
       "12     0\n",
       "13     0\n",
       "14     1\n",
       "15     0\n",
       "16     0\n",
       "17     0\n",
       "18     0\n",
       "19     0\n",
       "20     0\n",
       "21     0\n",
       "22     0\n",
       "23     0\n",
       "24     0\n",
       "25    -1\n",
       "26     0\n",
       "27     0\n",
       "28     0\n",
       "29     0\n",
       "      ..\n",
       "206    0\n",
       "207    0\n",
       "208    0\n",
       "209    1\n",
       "210    0\n",
       "211    0\n",
       "212    0\n",
       "213    1\n",
       "214    0\n",
       "215    0\n",
       "216    1\n",
       "217    0\n",
       "218    0\n",
       "219    1\n",
       "220    0\n",
       "221    0\n",
       "222    0\n",
       "223    0\n",
       "224    0\n",
       "225    0\n",
       "226    0\n",
       "227    0\n",
       "228    0\n",
       "229    0\n",
       "230    0\n",
       "231    0\n",
       "232    0\n",
       "233    0\n",
       "234    0\n",
       "235    0\n",
       "Length: 236, dtype: int64"
      ]
     },
     "execution_count": 16,
     "metadata": {},
     "output_type": "execute_result"
    }
   ],
   "source": [
    "classes"
   ]
  },
  {
   "cell_type": "code",
   "execution_count": null,
   "metadata": {
    "collapsed": true
   },
   "outputs": [],
   "source": []
  }
 ],
 "metadata": {
  "kernelspec": {
   "display_name": "Python 3",
   "language": "python",
   "name": "python3"
  },
  "language_info": {
   "codemirror_mode": {
    "name": "ipython",
    "version": 3
   },
   "file_extension": ".py",
   "mimetype": "text/x-python",
   "name": "python",
   "nbconvert_exporter": "python",
   "pygments_lexer": "ipython3",
   "version": "3.4.4"
  }
 },
 "nbformat": 4,
 "nbformat_minor": 2
}
