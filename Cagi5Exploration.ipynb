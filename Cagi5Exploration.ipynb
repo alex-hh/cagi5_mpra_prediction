{
 "cells": [
  {
   "cell_type": "code",
   "execution_count": 1,
   "metadata": {
    "collapsed": true
   },
   "outputs": [],
   "source": [
    "import pandas as pd\n",
    "import pysam\n",
    "\n",
    "from utils import get_sequences_cagi5\n",
    "\n",
    "fasta_file = 'data/remote_data/hg19.genome.fa'"
   ]
  },
  {
   "cell_type": "code",
   "execution_count": 3,
   "metadata": {},
   "outputs": [
    {
     "data": {
      "text/html": [
       "<div>\n",
       "<style>\n",
       "    .dataframe thead tr:only-child th {\n",
       "        text-align: right;\n",
       "    }\n",
       "\n",
       "    .dataframe thead th {\n",
       "        text-align: left;\n",
       "    }\n",
       "\n",
       "    .dataframe tbody tr th {\n",
       "        vertical-align: top;\n",
       "    }\n",
       "</style>\n",
       "<table border=\"1\" class=\"dataframe\">\n",
       "  <thead>\n",
       "    <tr style=\"text-align: right;\">\n",
       "      <th></th>\n",
       "      <th>#Chrom</th>\n",
       "      <th>Pos</th>\n",
       "      <th>Ref</th>\n",
       "      <th>Alt</th>\n",
       "      <th>Value</th>\n",
       "      <th>Confidence</th>\n",
       "      <th>class</th>\n",
       "      <th>regulatory_element</th>\n",
       "    </tr>\n",
       "  </thead>\n",
       "  <tbody>\n",
       "    <tr>\n",
       "      <th>0</th>\n",
       "      <td>X</td>\n",
       "      <td>138612669</td>\n",
       "      <td>T</td>\n",
       "      <td>A</td>\n",
       "      <td>-0.17</td>\n",
       "      <td>0.07</td>\n",
       "      <td>0</td>\n",
       "      <td>release_F9</td>\n",
       "    </tr>\n",
       "    <tr>\n",
       "      <th>1</th>\n",
       "      <td>X</td>\n",
       "      <td>138612669</td>\n",
       "      <td>T</td>\n",
       "      <td>C</td>\n",
       "      <td>-0.26</td>\n",
       "      <td>0.24</td>\n",
       "      <td>-1</td>\n",
       "      <td>release_F9</td>\n",
       "    </tr>\n",
       "    <tr>\n",
       "      <th>2</th>\n",
       "      <td>X</td>\n",
       "      <td>138612669</td>\n",
       "      <td>T</td>\n",
       "      <td>G</td>\n",
       "      <td>0.34</td>\n",
       "      <td>0.05</td>\n",
       "      <td>0</td>\n",
       "      <td>release_F9</td>\n",
       "    </tr>\n",
       "    <tr>\n",
       "      <th>3</th>\n",
       "      <td>X</td>\n",
       "      <td>138612670</td>\n",
       "      <td>A</td>\n",
       "      <td>C</td>\n",
       "      <td>0.00</td>\n",
       "      <td>0.00</td>\n",
       "      <td>0</td>\n",
       "      <td>release_F9</td>\n",
       "    </tr>\n",
       "    <tr>\n",
       "      <th>4</th>\n",
       "      <td>X</td>\n",
       "      <td>138612670</td>\n",
       "      <td>A</td>\n",
       "      <td>G</td>\n",
       "      <td>0.22</td>\n",
       "      <td>0.20</td>\n",
       "      <td>1</td>\n",
       "      <td>release_F9</td>\n",
       "    </tr>\n",
       "  </tbody>\n",
       "</table>\n",
       "</div>"
      ],
      "text/plain": [
       "  #Chrom        Pos Ref Alt  Value  Confidence  class regulatory_element\n",
       "0      X  138612669   T   A  -0.17        0.07      0         release_F9\n",
       "1      X  138612669   T   C  -0.26        0.24     -1         release_F9\n",
       "2      X  138612669   T   G   0.34        0.05      0         release_F9\n",
       "3      X  138612670   A   C   0.00        0.00      0         release_F9\n",
       "4      X  138612670   A   G   0.22        0.20      1         release_F9"
      ]
     },
     "execution_count": 3,
     "metadata": {},
     "output_type": "execute_result"
    }
   ],
   "source": [
    "df = pd.read_csv('data/cagi5_df.csv')\n",
    "df.head()"
   ]
  },
  {
   "cell_type": "code",
   "execution_count": 3,
   "metadata": {},
   "outputs": [
    {
     "data": {
      "text/html": [
       "<div>\n",
       "<style>\n",
       "    .dataframe thead tr:only-child th {\n",
       "        text-align: right;\n",
       "    }\n",
       "\n",
       "    .dataframe thead th {\n",
       "        text-align: left;\n",
       "    }\n",
       "\n",
       "    .dataframe tbody tr th {\n",
       "        vertical-align: top;\n",
       "    }\n",
       "</style>\n",
       "<table border=\"1\" class=\"dataframe\">\n",
       "  <thead>\n",
       "    <tr style=\"text-align: right;\">\n",
       "      <th></th>\n",
       "      <th>#Chrom</th>\n",
       "      <th>Pos</th>\n",
       "      <th>Ref</th>\n",
       "      <th>Alt</th>\n",
       "      <th>Value</th>\n",
       "      <th>Confidence</th>\n",
       "      <th>class</th>\n",
       "      <th>regulatory_element</th>\n",
       "    </tr>\n",
       "  </thead>\n",
       "  <tbody>\n",
       "    <tr>\n",
       "      <th>2517</th>\n",
       "      <td>8</td>\n",
       "      <td>128413073</td>\n",
       "      <td>C</td>\n",
       "      <td>A</td>\n",
       "      <td>0.09</td>\n",
       "      <td>0.00</td>\n",
       "      <td>0</td>\n",
       "      <td>release_MYCrs6983267</td>\n",
       "    </tr>\n",
       "    <tr>\n",
       "      <th>2518</th>\n",
       "      <td>8</td>\n",
       "      <td>128413073</td>\n",
       "      <td>C</td>\n",
       "      <td>T</td>\n",
       "      <td>-0.03</td>\n",
       "      <td>0.00</td>\n",
       "      <td>0</td>\n",
       "      <td>release_MYCrs6983267</td>\n",
       "    </tr>\n",
       "    <tr>\n",
       "      <th>2519</th>\n",
       "      <td>8</td>\n",
       "      <td>128413074</td>\n",
       "      <td>C</td>\n",
       "      <td>A</td>\n",
       "      <td>0.04</td>\n",
       "      <td>0.01</td>\n",
       "      <td>0</td>\n",
       "      <td>release_MYCrs6983267</td>\n",
       "    </tr>\n",
       "    <tr>\n",
       "      <th>2520</th>\n",
       "      <td>8</td>\n",
       "      <td>128413074</td>\n",
       "      <td>C</td>\n",
       "      <td>G</td>\n",
       "      <td>-0.01</td>\n",
       "      <td>0.00</td>\n",
       "      <td>0</td>\n",
       "      <td>release_MYCrs6983267</td>\n",
       "    </tr>\n",
       "    <tr>\n",
       "      <th>2521</th>\n",
       "      <td>8</td>\n",
       "      <td>128413074</td>\n",
       "      <td>C</td>\n",
       "      <td>T</td>\n",
       "      <td>-0.49</td>\n",
       "      <td>0.13</td>\n",
       "      <td>-1</td>\n",
       "      <td>release_MYCrs6983267</td>\n",
       "    </tr>\n",
       "    <tr>\n",
       "      <th>2522</th>\n",
       "      <td>8</td>\n",
       "      <td>128413075</td>\n",
       "      <td>T</td>\n",
       "      <td>A</td>\n",
       "      <td>0.00</td>\n",
       "      <td>0.00</td>\n",
       "      <td>0</td>\n",
       "      <td>release_MYCrs6983267</td>\n",
       "    </tr>\n",
       "    <tr>\n",
       "      <th>2523</th>\n",
       "      <td>8</td>\n",
       "      <td>128413075</td>\n",
       "      <td>T</td>\n",
       "      <td>C</td>\n",
       "      <td>-0.06</td>\n",
       "      <td>0.01</td>\n",
       "      <td>0</td>\n",
       "      <td>release_MYCrs6983267</td>\n",
       "    </tr>\n",
       "    <tr>\n",
       "      <th>2524</th>\n",
       "      <td>8</td>\n",
       "      <td>128413075</td>\n",
       "      <td>T</td>\n",
       "      <td>G</td>\n",
       "      <td>-0.21</td>\n",
       "      <td>0.04</td>\n",
       "      <td>0</td>\n",
       "      <td>release_MYCrs6983267</td>\n",
       "    </tr>\n",
       "  </tbody>\n",
       "</table>\n",
       "</div>"
      ],
      "text/plain": [
       "     #Chrom        Pos Ref Alt  Value  Confidence  class    regulatory_element\n",
       "2517      8  128413073   C   A   0.09        0.00      0  release_MYCrs6983267\n",
       "2518      8  128413073   C   T  -0.03        0.00      0  release_MYCrs6983267\n",
       "2519      8  128413074   C   A   0.04        0.01      0  release_MYCrs6983267\n",
       "2520      8  128413074   C   G  -0.01        0.00      0  release_MYCrs6983267\n",
       "2521      8  128413074   C   T  -0.49        0.13     -1  release_MYCrs6983267\n",
       "2522      8  128413075   T   A   0.00        0.00      0  release_MYCrs6983267\n",
       "2523      8  128413075   T   C  -0.06        0.01      0  release_MYCrs6983267\n",
       "2524      8  128413075   T   G  -0.21        0.04      0  release_MYCrs6983267"
      ]
     },
     "execution_count": 3,
     "metadata": {},
     "output_type": "execute_result"
    }
   ],
   "source": [
    "df[df['Pos'].isin([128413071, 128413072, 128413073, 128413074, 128413075])]"
   ]
  },
  {
   "cell_type": "code",
   "execution_count": 16,
   "metadata": {},
   "outputs": [
    {
     "name": "stdout",
     "output_type": "stream",
     "text": [
      "G C T\n"
     ]
    }
   ],
   "source": [
    "with pysam.Fastafile(fasta_file) as genome:\n",
    "  d0 = genome.fetch('chr8', 128413072, 128413073)\n",
    "  d1 = genome.fetch('chr8', 128413073, 128413074)\n",
    "  d2 = genome.fetch('chr8', 128413074, 128413075)\n",
    "  print(d0, d1, d2)"
   ]
  },
  {
   "cell_type": "code",
   "execution_count": 6,
   "metadata": {},
   "outputs": [
    {
     "data": {
      "text/html": [
       "<div>\n",
       "<style>\n",
       "    .dataframe thead tr:only-child th {\n",
       "        text-align: right;\n",
       "    }\n",
       "\n",
       "    .dataframe thead th {\n",
       "        text-align: left;\n",
       "    }\n",
       "\n",
       "    .dataframe tbody tr th {\n",
       "        vertical-align: top;\n",
       "    }\n",
       "</style>\n",
       "<table border=\"1\" class=\"dataframe\">\n",
       "  <thead>\n",
       "    <tr style=\"text-align: right;\">\n",
       "      <th></th>\n",
       "      <th>#Chrom</th>\n",
       "      <th>Pos</th>\n",
       "      <th>Ref</th>\n",
       "      <th>Alt</th>\n",
       "      <th>Value</th>\n",
       "      <th>Confidence</th>\n",
       "      <th>class</th>\n",
       "      <th>regulatory_element</th>\n",
       "    </tr>\n",
       "  </thead>\n",
       "  <tbody>\n",
       "    <tr>\n",
       "      <th>1034</th>\n",
       "      <td>6</td>\n",
       "      <td>396142</td>\n",
       "      <td>T</td>\n",
       "      <td>A</td>\n",
       "      <td>-0.02</td>\n",
       "      <td>0.00</td>\n",
       "      <td>0</td>\n",
       "      <td>release_IRF4</td>\n",
       "    </tr>\n",
       "    <tr>\n",
       "      <th>1035</th>\n",
       "      <td>6</td>\n",
       "      <td>396142</td>\n",
       "      <td>T</td>\n",
       "      <td>C</td>\n",
       "      <td>0.02</td>\n",
       "      <td>0.00</td>\n",
       "      <td>0</td>\n",
       "      <td>release_IRF4</td>\n",
       "    </tr>\n",
       "    <tr>\n",
       "      <th>1036</th>\n",
       "      <td>6</td>\n",
       "      <td>396142</td>\n",
       "      <td>T</td>\n",
       "      <td>G</td>\n",
       "      <td>0.15</td>\n",
       "      <td>0.07</td>\n",
       "      <td>0</td>\n",
       "      <td>release_IRF4</td>\n",
       "    </tr>\n",
       "  </tbody>\n",
       "</table>\n",
       "</div>"
      ],
      "text/plain": [
       "     #Chrom     Pos Ref Alt  Value  Confidence  class regulatory_element\n",
       "1034      6  396142   T   A  -0.02        0.00      0       release_IRF4\n",
       "1035      6  396142   T   C   0.02        0.00      0       release_IRF4\n",
       "1036      6  396142   T   G   0.15        0.07      0       release_IRF4"
      ]
     },
     "execution_count": 6,
     "metadata": {},
     "output_type": "execute_result"
    }
   ],
   "source": [
    "df[df['Pos'].isin([396142])]"
   ]
  },
  {
   "cell_type": "code",
   "execution_count": 5,
   "metadata": {},
   "outputs": [
    {
     "name": "stdout",
     "output_type": "stream",
     "text": [
      "G G\n"
     ]
    }
   ],
   "source": [
    "with pysam.Fastafile(fasta_file) as genome:\n",
    "  d0 = genome.fetch('chr6', 396141, 396142)\n",
    "  d1 = genome.fetch('chr6', 396142, 396143)\n",
    "  print(d0, d1)"
   ]
  },
  {
   "cell_type": "code",
   "execution_count": 4,
   "metadata": {},
   "outputs": [
    {
     "name": "stdout",
     "output_type": "stream",
     "text": [
      "G does not match row ref T, position 396142 chr 6 in release_IRF4 CRE\n",
      "0\n",
      "G does not match row ref T, position 396142 chr 6 in release_IRF4 CRE\n",
      "0\n",
      "G does not match row ref T, position 396142 chr 6 in release_IRF4 CRE\n",
      "0\n",
      "G does not match row ref C, position 128413073 chr 8 in release_MYCrs6983267 CRE\n",
      "0\n",
      "G does not match row ref C, position 128413073 chr 8 in release_MYCrs6983267 CRE\n",
      "0\n",
      "T does not match row ref C, position 37775274 chr 6 in release_ZFAND3 CRE\n",
      "0\n",
      "T does not match row ref C, position 37775274 chr 6 in release_ZFAND3 CRE\n",
      "0\n"
     ]
    }
   ],
   "source": [
    "get_sequences_cagi5(df)"
   ]
  },
  {
   "cell_type": "markdown",
   "metadata": {},
   "source": [
    "two options with things that don't match reference:\n",
    " * just predict 0\n",
    " * just use what they say as the ref"
   ]
  },
  {
   "cell_type": "code",
   "execution_count": 59,
   "metadata": {},
   "outputs": [
    {
     "name": "stdout",
     "output_type": "stream",
     "text": [
      "T A\n",
      "A\n"
     ]
    }
   ],
   "source": [
    "fasta_file = 'data/remote_data/hg19.genome.fa'\n",
    "f9_start = 138612624\n",
    "f9_end = 138612924\n",
    "pos = 138612670\n",
    "rel_pos = pos-f9_start-1\n",
    "with pysam.Fastafile(fasta_file) as genome:\n",
    "  t = genome.fetch('chrX', 138612668, 138612669)\n",
    "  a = genome.fetch('chrX', 138612669, 138612670)\n",
    "  print(t,a)\n",
    "  dnastr = genome.fetch('chrX', f9_start, f9_end)\n",
    "print(dnastr[rel_pos])"
   ]
  },
  {
   "cell_type": "code",
   "execution_count": 52,
   "metadata": {},
   "outputs": [
    {
     "name": "stdout",
     "output_type": "stream",
     "text": [
      "regulatory_element\n",
      "release_F9              138612669\n",
      "release_GP1BB            19710804\n",
      "release_HBB               5248268\n",
      "release_HBG1              5271051\n",
      "release_HNF4A            42984207\n",
      "release_IRF4               396142\n",
      "release_IRF6            209989199\n",
      "release_LDLR             11199906\n",
      "release_MSMB             51549083\n",
      "release_MYCrs6983267    128413073\n",
      "release_PKLR            155271234\n",
      "release_SORT1           109817337\n",
      "release_TERT-GBM          1295104\n",
      "release_TERT-HEK293T      1295104\n",
      "release_ZFAND3           37775274\n",
      "Name: Pos, dtype: int64\n",
      "regulatory_element\n",
      "release_F9              138612924\n",
      "release_GP1BB            19711139\n",
      "release_HBB               5248439\n",
      "release_HBG1              5271274\n",
      "release_HNF4A            42984444\n",
      "release_IRF4               396589\n",
      "release_IRF6            209989694\n",
      "release_LDLR             11200177\n",
      "release_MSMB             51549578\n",
      "release_MYCrs6983267    128413664\n",
      "release_PKLR            155271649\n",
      "release_SORT1           109817736\n",
      "release_TERT-GBM          1295362\n",
      "release_TERT-HEK293T      1295362\n",
      "release_ZFAND3           37775853\n",
      "Name: Pos, dtype: int64\n"
     ]
    }
   ],
   "source": [
    "seqstarts = df.groupby(['regulatory_element'])['Pos'].min()\n",
    "seqends = df.groupby(['regulatory_element'])['Pos'].max()\n",
    "print(seqstarts)\n",
    "print(seqends)"
   ]
  },
  {
   "cell_type": "code",
   "execution_count": 46,
   "metadata": {},
   "outputs": [
    {
     "data": {
      "text/plain": [
       "{'release_F9': 255,\n",
       " 'release_GP1BB': 335,\n",
       " 'release_HBB': 171,\n",
       " 'release_HBG1': 223,\n",
       " 'release_HNF4A': 237,\n",
       " 'release_IRF4': 447,\n",
       " 'release_IRF6': 495,\n",
       " 'release_LDLR': 271,\n",
       " 'release_MSMB': 495,\n",
       " 'release_MYCrs6983267': 591,\n",
       " 'release_PKLR': 415,\n",
       " 'release_SORT1': 399,\n",
       " 'release_TERT-GBM': 258,\n",
       " 'release_TERT-HEK293T': 258,\n",
       " 'release_ZFAND3': 579}"
      ]
     },
     "execution_count": 46,
     "metadata": {},
     "output_type": "execute_result"
    }
   ],
   "source": [
    "seqlengths = {}\n",
    "for k, v in seqstarts.iteritems():\n",
    "  seqlengths[k] = seqends.loc[k] - v\n",
    "seqlengths"
   ]
  },
  {
   "cell_type": "markdown",
   "metadata": {},
   "source": [
    "## TODO \n",
    "* look up evaluation metrics for multiclass classification (is there a binary metric like the one below)\n",
    "\n",
    "a multiple linear regression model of log2(RNA) ~ log2(DNA) + N + offset (were RNA and DNA are counts observed for all n tags, N is a binary matrix associating n tags to m sequence variants and offset is the models' offset normalizing total DNA to RNA counts) was used to assign sequence effects. From the fit, m coefficients (corresponding to the columns of matrix N) were obtained and assigned as the effects of each sequence variant (SNV). A confidence score was derived by capping the p-value of the multiple linear regression at 10-50 and scaling the log10-transformed value between 0 and 1 (i.e. 1 corresponding to a p-value of ≤10-50, 0.5 of 10-25, 0 to a p-value of 1). We deemed a confidence score greater or equal to 0.1 (p-value of 10-5) indicates that the SNV \"has an expression effect\" while <0.1 means \"has no expression effect\".\n",
    "\n",
    "So we want to predict confidence (regression bounded between 0 and 1), a categorical effect given by:\n",
    " -1 if value < 0 and confidence > 0.1,\n",
    " 0  if confidence < 0.1\n",
    " 1 if value > 0 and confidence > 0.1,\n",
    "and probability values for the assigned classes (this could come from predict_proba for example)\n",
    "\n",
    "prediction is categorical, but data isn't ... Direction - Estimated variant effect from the experimental data. Categorical prediction of repressive. (submitted value -1)/activating (submit a value 1)/no effect (submit a value 0), i.e. allele effect is increasing reporter expression (activating), reducing expression (repressive), or not significantly different from zero (confidence score below 0.1).\n",
    "\n",
    "Two approaches to consider:\n",
    "(i) directly training a classifier on the class labels\n",
    "(ii) training to predict value, confidence (regressors), and using these to compute a prediction for the class\n",
    "\n",
    "You can probably calculate $\\Pi_{y = \\hat{y}}(p(\\hat{y}))\\times\\Pi_{y\\neq\\hat{y}}(1-p(\\hat{y}))$, which is an approximation to the full categorical cross entropy i suppose"
   ]
  },
  {
   "cell_type": "code",
   "execution_count": 13,
   "metadata": {
    "collapsed": true
   },
   "outputs": [],
   "source": [
    "def get_class(row):\n",
    "  val = row['Value']\n",
    "  conf = row['Confidence']\n",
    "  if conf < 0.1:\n",
    "    return 0\n",
    "  elif val < 0:\n",
    "    return -1\n",
    "  elif val > 0:\n",
    "    return 1"
   ]
  },
  {
   "cell_type": "code",
   "execution_count": 15,
   "metadata": {
    "collapsed": true
   },
   "outputs": [],
   "source": [
    "classes = f9_df.apply(lambda row: get_class(row), axis=1)"
   ]
  },
  {
   "cell_type": "code",
   "execution_count": 16,
   "metadata": {},
   "outputs": [
    {
     "data": {
      "text/plain": [
       "0      0\n",
       "1     -1\n",
       "2      0\n",
       "3      0\n",
       "4      1\n",
       "5      0\n",
       "6      0\n",
       "7      1\n",
       "8      0\n",
       "9      0\n",
       "10     0\n",
       "11     0\n",
       "12     0\n",
       "13     0\n",
       "14     1\n",
       "15     0\n",
       "16     0\n",
       "17     0\n",
       "18     0\n",
       "19     0\n",
       "20     0\n",
       "21     0\n",
       "22     0\n",
       "23     0\n",
       "24     0\n",
       "25    -1\n",
       "26     0\n",
       "27     0\n",
       "28     0\n",
       "29     0\n",
       "      ..\n",
       "206    0\n",
       "207    0\n",
       "208    0\n",
       "209    1\n",
       "210    0\n",
       "211    0\n",
       "212    0\n",
       "213    1\n",
       "214    0\n",
       "215    0\n",
       "216    1\n",
       "217    0\n",
       "218    0\n",
       "219    1\n",
       "220    0\n",
       "221    0\n",
       "222    0\n",
       "223    0\n",
       "224    0\n",
       "225    0\n",
       "226    0\n",
       "227    0\n",
       "228    0\n",
       "229    0\n",
       "230    0\n",
       "231    0\n",
       "232    0\n",
       "233    0\n",
       "234    0\n",
       "235    0\n",
       "Length: 236, dtype: int64"
      ]
     },
     "execution_count": 16,
     "metadata": {},
     "output_type": "execute_result"
    }
   ],
   "source": [
    "classes"
   ]
  },
  {
   "cell_type": "code",
   "execution_count": null,
   "metadata": {
    "collapsed": true
   },
   "outputs": [],
   "source": []
  }
 ],
 "metadata": {
  "kernelspec": {
   "display_name": "Python 3",
   "language": "python",
   "name": "python3"
  },
  "language_info": {
   "codemirror_mode": {
    "name": "ipython",
    "version": 3
   },
   "file_extension": ".py",
   "mimetype": "text/x-python",
   "name": "python",
   "nbconvert_exporter": "python",
   "pygments_lexer": "ipython3",
   "version": "3.4.4"
  }
 },
 "nbformat": 4,
 "nbformat_minor": 2
}
